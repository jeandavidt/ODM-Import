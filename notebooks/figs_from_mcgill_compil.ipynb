{
 "cells": [
  {
   "cell_type": "code",
   "execution_count": 6,
   "metadata": {},
   "outputs": [],
   "source": [
    "# Change paths according to the correct user. Uncommenct/Comment the desired user.\n",
    "# Jean-David Therrien\n",
    "#path_VdQ = \"/Users/jeandavidt/OneDrive - Université Laval/COVID/Latest Data/Input/CentrEau-COVID_Resultats_Quebec_final.xlsx\"\n",
    "#images_folder_VdQ = \"/Users/jeandavidt/OneDrive - Université Laval/COVID/Website figures\"\n",
    "#path_MTL = \"/Users/jeandavidt/OneDrive - Université Laval/COVID/Latest Data/Input/CentrEau-COVID_Resultats_Montreal_final.xlsx\"\n",
    "#images_folder_MTL = \"/Users/jeandavidt/OneDrive - Université Laval/COVID/Website figures\"\n",
    "\n",
    "# Niels Nicolai\n",
    "path_VdQ = \"D:/Aplica/One Drive NN/Université Laval/Jean-David Therrien - Latest Data/Input/CentrEau-COVID_Resultats_Quebec_final.xlsx\"\n",
    "images_folder_VdQ = \"C:/Users/ANNED2/Downloads\"\n",
    "path_MTL = \"D:/Aplica/One Drive NN/Université Laval/Jean-David Therrien - Latest Data/Input/CentrEau-COVID_Resultats_Montreal_final.xlsx\"\n",
    "images_folder_MTL = \"C:/Users/ANNED2/Downloads\"\n",
    "import sys; sys.path.insert(0,'C:/Users/ANNED2/AppData/Local/Continuum/anaconda3/envs/covid/Library/bin') #Adds correct path for the kaleido.cmd file\n"
   ]
  },
  {
   "cell_type": "code",
   "execution_count": 9,
   "metadata": {},
   "outputs": [],
   "source": [
    "import pandas as pd\n",
    "import base64\n",
    "import numpy as np\n",
    "import plotly.graph_objects as go\n",
    "from plotly.subplots import make_subplots\n",
    "import os\n",
    "import requests\n",
    "import json\n",
    "from plotly.colors import DEFAULT_PLOTLY_COLORS\n",
    "import plotly.express as px"
   ]
  },
  {
   "cell_type": "code",
   "execution_count": 10,
   "metadata": {},
   "outputs": [],
   "source": [
    "\n",
    "def get_cases_from_ledevoir(region_name, start_date=None, end_date=None):\n",
    "    response = requests.get(\"https://ledevoir-coronavirus.herokuapp.com/api/v2/reports/ca/qc\")\n",
    "    j = json.loads(response.text)\n",
    "    region_codes = {j[\"regions\"][i][\"name\"]: i for i in range(len(j[\"regions\"]))}\n",
    "    region_code = region_codes[region_name]\n",
    "    cases = pd.DataFrame(j[\"regions\"][region_code][\"data\"])\n",
    "    cases[\"date\"] = pd.to_datetime(cases[\"date\"])\n",
    "    cases = cases.set_index(\"date\")\n",
    "    start_date = pd.to_datetime(start_date)\n",
    "    end_date = pd.to_datetime(end_date)\n",
    "    if pd.isna(start_date) and pd.isna(end_date):\n",
    "        pass\n",
    "    elif pd.isna(end_date):\n",
    "        cases = cases.loc[start_date:]\n",
    "    elif pd.isna(start_date):\n",
    "        cases = cases.loc[:end_date]\n",
    "    else:\n",
    "        cases = cases.loc[start_date : end_date]\n",
    "    return cases\n",
    "\n",
    "\n",
    "NORM_COL = \"SARS/PMMV (gc/gc)\"\n",
    "SARS_COL = \"SARS (gc/ml)\"\n",
    "PMMV_COL = \"PMMV (gc/ml)\"\n",
    "\n",
    "VIRAL_COLS = [NORM_COL, SARS_COL, PMMV_COL]\n",
    "CASES_COL = \"Nouveaux cas journaliers\"\n",
    "\n",
    "\n",
    "def plot(data, what, proper_names, region_name, proper_region_name, max_value=None, start_date=None, end_date=None):\n",
    "    var_map = {\n",
    "        \"sars\": SARS_COL,\n",
    "        \"normalized\": NORM_COL,\n",
    "        \"pmmv\": PMMV_COL,\n",
    "    }\n",
    "    if what not in var_map.keys():\n",
    "        raise KeyError(\"Don't know what to plot: \" + what)\n",
    "    cols = []\n",
    "    for i, _ in enumerate(proper_names):\n",
    "        new_col = var_map[what] + \".\" + str(i)\n",
    "        new_col = new_col.replace(\".0\", \"\")\n",
    "        cols.append(new_col)\n",
    "    fig = make_subplots(rows=1, cols=1,\n",
    "                    specs=[[{\"secondary_y\": True}]])\n",
    "    traces = []\n",
    "    start_date = pd.to_datetime(start_date)\n",
    "    end_date = pd.to_datetime(end_date)\n",
    "    if pd.isna(start_date) and pd.isna(end_date):\n",
    "        pass\n",
    "    elif pd.isna(end_date):\n",
    "        data = data.loc[data[\"Date\"] > start_date]\n",
    "    elif pd.isna(start_date):\n",
    "        data = data.loc[data[\"Date\"] < end_date]\n",
    "    else:\n",
    "        data = data.loc[(data[\"Date\"] > start_date) & (data[\"Date\"] < end_date)]\n",
    "    data = data.dropna(subset = cols, how=\"all\")\n",
    "    colors = px.colors.qualitative.Plotly\n",
    "    line_colors = [color for i, color in enumerate(colors) if i != 2]\n",
    "    bar_color = colors[2]\n",
    "    for i, (col, name) in enumerate(zip(cols, proper_names)):\n",
    "        trace = go.Scatter(\n",
    "            x=data[\"Date\"],\n",
    "            y=data[col],\n",
    "            name=name,\n",
    "            mode=\"lines+markers\",\n",
    "            marker=dict(color=line_colors[i%len(line_colors)]),\n",
    "            connectgaps=True,\n",
    "\n",
    "        )\n",
    "        traces.append(trace)\n",
    "    for trace in traces:\n",
    "        fig.add_trace(trace, secondary_y=True)\n",
    "    fig.update_layout(\n",
    "        xaxis_title=\"Date\",\n",
    "        xaxis_tick0=\"2020-12-27\",\n",
    "        xaxis_dtick=7 * 24 * 3600000,\n",
    "        xaxis_tickformat=\"%d-%m-%Y\",\n",
    "        xaxis_tickangle=30, plot_bgcolor=\"white\",\n",
    "        xaxis_gridcolor=\"rgba(100,100,100,0.10)\",\n",
    "        yaxis_gridcolor=\"rgba(0,0,0,0)\",\n",
    "        xaxis_ticks=\"outside\"\n",
    "    )\n",
    "    axis_titles = {\n",
    "        \"sars\": \"Copies du SRAS-CoV-2/ml\",\n",
    "        \"pmmv\": \"Copies du PMMoV/ml\",\n",
    "        \"normalized\": \"SRAS-CoV-2/PMMoV\",\n",
    "    }\n",
    "    fig.update_yaxes(title=axis_titles[what], secondary_y=True, range=[0, max_value])\n",
    "\n",
    "    fig.update_layout(title=dict(text=f\"Surveillance SRAS-CoV-2 via les eaux usées<br>{proper_region_name}\"))\n",
    "\n",
    "    cases = get_cases_from_ledevoir(region_name, start_date=start_date, end_date =end_date)\n",
    "    cases_trace = go.Bar(x=cases.index, y=cases[\"dc\"], name=\"Nouveaux cas<br>journaliers\", marker=dict(opacity=0.3, color=bar_color))\n",
    "\n",
    "    fig.add_trace(cases_trace, secondary_y=False)\n",
    "    fig.update_layout(legend=dict(yanchor=\"top\", xanchor=\"left\", orientation=\"h\", y=1.1, x=0))\n",
    "    fig.update_yaxes(title=\"Nouveaux cas\",side=\"right\", secondary_y=False)\n",
    "    fig.update_yaxes(side=\"left\", secondary_y=True)\n",
    "    fig.add_layout_image(\n",
    "    dict(\n",
    "        source=\"../Data/images/Website_graph_logos.png\",\n",
    "        xref=\"paper\", yref=\"paper\",\n",
    "        x=1.125, y=1.00,\n",
    "        sizex=0.5, sizey=0.25,\n",
    "        xanchor=\"right\", yanchor=\"bottom\"\n",
    "        )\n",
    "    )\n",
    "    return fig\n",
    "\n",
    "def remove_points(df, points_to_remove):\n",
    "    base_names = [NORM_COL, SARS_COL, PMMV_COL]\n",
    "    for _, info in points_to_remove.items():\n",
    "        idx = str(info[\"index\"])\n",
    "        col_names = [base + f\".{idx}\" for base in base_names]\n",
    "        clean_names = []\n",
    "        for col_name in col_names:\n",
    "            col_name = col_name.replace(\".0\", \"\")\n",
    "            clean_names.append(col_name)\n",
    "        df.loc[df[\"Date\"].isin(info[\"dates\"]), clean_names] = np.nan\n",
    "    return df"
   ]
  },
  {
   "cell_type": "markdown",
   "metadata": {},
   "source": [
    "# Normalized Figures"
   ]
  },
  {
   "cell_type": "code",
   "execution_count": 11,
   "metadata": {},
   "outputs": [
    {
     "output_type": "stream",
     "name": "stderr",
     "text": [
      "C:\\Users\\ANNED2\\AppData\\Local\\Continuum\\anaconda3\\envs\\covid\\lib\\site-packages\\openpyxl\\worksheet\\_reader.py:312: UserWarning: Data Validation extension is not supported and will be removed\n  warn(msg)\n"
     ]
    },
    {
     "output_type": "display_data",
     "data": {
      "application/vnd.plotly.v1+json": {
       "config": {
        "plotlyServerURL": "https://plot.ly"
       },
       "data": [
        {
         "connectgaps": true,
         "marker": {
          "color": "#636EFA"
         },
         "mode": "lines+markers",
         "name": "Québec Station Est",
         "type": "scatter",
         "x": [
          "2021-01-29T00:00:00",
          "2021-01-30T00:00:00",
          "2021-01-31T00:00:00",
          "2021-02-01T00:00:00",
          "2021-02-02T00:00:00",
          "2021-02-03T00:00:00",
          "2021-02-04T00:00:00",
          "2021-02-05T00:00:00",
          "2021-02-06T00:00:00",
          "2021-02-07T00:00:00",
          "2021-02-08T00:00:00",
          "2021-02-09T00:00:00",
          "2021-02-10T00:00:00",
          "2021-02-11T00:00:00",
          "2021-02-15T00:00:00",
          "2021-02-16T00:00:00",
          "2021-02-17T00:00:00",
          "2021-02-18T00:00:00",
          "2021-02-19T00:00:00",
          "2021-02-20T00:00:00",
          "2021-02-21T00:00:00",
          "2021-02-22T00:00:00",
          "2021-02-23T00:00:00",
          "2021-02-24T00:00:00",
          "2021-02-25T00:00:00",
          "2021-02-26T00:00:00",
          "2021-02-27T00:00:00",
          "2021-02-28T00:00:00",
          "2021-03-01T00:00:00",
          "2021-03-02T00:00:00",
          "2021-03-03T00:00:00",
          "2021-03-04T00:00:00",
          "2021-03-05T00:00:00",
          "2021-03-06T00:00:00",
          "2021-03-07T00:00:00",
          "2021-03-08T00:00:00",
          "2021-03-09T00:00:00",
          "2021-03-10T00:00:00",
          "2021-03-11T00:00:00",
          "2021-03-12T00:00:00",
          "2021-03-13T00:00:00",
          "2021-03-14T00:00:00",
          "2021-03-15T00:00:00",
          "2021-03-16T00:00:00",
          "2021-03-17T00:00:00",
          "2021-03-18T00:00:00",
          "2021-03-19T00:00:00",
          "2021-03-20T00:00:00",
          "2021-03-21T00:00:00",
          "2021-03-22T00:00:00",
          "2021-03-24T00:00:00",
          "2021-03-25T00:00:00",
          "2021-03-26T00:00:00",
          "2021-03-27T00:00:00",
          "2021-03-28T00:00:00",
          "2021-03-29T00:00:00",
          "2021-03-30T00:00:00",
          "2021-03-31T00:00:00",
          "2021-04-01T00:00:00",
          "2021-04-02T00:00:00",
          "2021-04-03T00:00:00",
          "2021-04-04T00:00:00",
          "2021-04-05T00:00:00",
          "2021-04-06T00:00:00",
          "2021-04-07T00:00:00",
          "2021-04-08T00:00:00",
          "2021-04-09T00:00:00",
          "2021-04-10T00:00:00",
          "2021-04-11T00:00:00",
          "2021-04-12T00:00:00",
          "2021-04-13T00:00:00",
          "2021-04-14T00:00:00",
          "2021-04-15T00:00:00",
          "2021-04-16T00:00:00",
          "2021-04-17T00:00:00",
          "2021-04-18T00:00:00",
          "2021-04-20T00:00:00",
          "2021-04-21T00:00:00",
          "2021-04-23T00:00:00",
          "2021-04-24T00:00:00",
          "2021-04-25T00:00:00",
          "2021-04-26T00:00:00",
          "2021-04-27T00:00:00",
          "2021-04-28T00:00:00",
          "2021-04-29T00:00:00",
          "2021-04-30T00:00:00",
          "2021-05-01T00:00:00",
          "2021-05-02T00:00:00",
          "2021-05-03T00:00:00",
          "2021-05-04T00:00:00",
          "2021-05-05T00:00:00",
          "2021-05-06T00:00:00"
         ],
         "xaxis": "x",
         "y": [
          null,
          null,
          null,
          0.030092304529785962,
          0.015161900800153113,
          0.005448776623152544,
          0.005903212319978712,
          0.008253439945142788,
          0.004710526082492618,
          0.007526830774193585,
          0.0027851833906531206,
          0.00629486578483099,
          0.00420311788756757,
          0.005427394371698063,
          0.02469029880613001,
          0.023859976939353128,
          0.013616779881017853,
          0.022628753928075583,
          0.015602109657956066,
          0.01896109156175841,
          0.030645975546868875,
          0.011704699591236259,
          0.012762905324632671,
          0.006760610863932517,
          0.0106666213956953,
          0.0020881161237778904,
          0.010168241530893733,
          0.003075091793671609,
          null,
          0.002225710256685242,
          0.011124836169458086,
          0.008153848427178244,
          0.0013930453606876866,
          0.008315180384780964,
          0.00043435398439949807,
          0.006455403831936126,
          0.0017029368993314695,
          0.0034011592190304374,
          0.003366853538904874,
          0.003934777390194087,
          0.002913294829498079,
          0.007219642723573754,
          0.018808037174851182,
          0.047261247134545235,
          0.03562566304613925,
          0.033442569903888233,
          0.04732221789050074,
          0.022032808986481352,
          0.043096296538123476,
          0.027612468114341388,
          0.06954638904636638,
          0.12835247868147856,
          0.05131998218481233,
          0.03192749069448603,
          0.09158463140634451,
          0.05098440041946949,
          0.05344121604246732,
          0.04364709807360835,
          0.13634507543543062,
          0.07388833443783212,
          0.16449674819984414,
          0.21538648095562238,
          0.27289748246487366,
          0.12170580301702039,
          0.16305048353843443,
          0.14833390005933259,
          null,
          0.24665436770612378,
          0.33397328012631927,
          0.06365094984864358,
          0.26415304822886204,
          0.060557091078002716,
          0.0819810031354309,
          0.0320874203469998,
          0.01814371930555167,
          0.027817174375033303,
          0.09961912869112466,
          0.06018967087453931,
          0.12248854006571837,
          0.05583935959068514,
          0.09858118516133177,
          0.11527977482928745,
          0.11629601951559698,
          0.0856944449450457,
          0.026729588969910744,
          0.07802675463786274,
          0.08637488773722947,
          0.16060703796292955,
          0.10264968747842584,
          0.038272246482180514,
          0.08435211163348184,
          0.11026721341027619
         ],
         "yaxis": "y2"
        },
        {
         "connectgaps": true,
         "marker": {
          "color": "#EF553B"
         },
         "mode": "lines+markers",
         "name": "Québec Station Ouest",
         "type": "scatter",
         "x": [
          "2021-01-29T00:00:00",
          "2021-01-30T00:00:00",
          "2021-01-31T00:00:00",
          "2021-02-01T00:00:00",
          "2021-02-02T00:00:00",
          "2021-02-03T00:00:00",
          "2021-02-04T00:00:00",
          "2021-02-05T00:00:00",
          "2021-02-06T00:00:00",
          "2021-02-07T00:00:00",
          "2021-02-08T00:00:00",
          "2021-02-09T00:00:00",
          "2021-02-10T00:00:00",
          "2021-02-11T00:00:00",
          "2021-02-15T00:00:00",
          "2021-02-16T00:00:00",
          "2021-02-17T00:00:00",
          "2021-02-18T00:00:00",
          "2021-02-19T00:00:00",
          "2021-02-20T00:00:00",
          "2021-02-21T00:00:00",
          "2021-02-22T00:00:00",
          "2021-02-23T00:00:00",
          "2021-02-24T00:00:00",
          "2021-02-25T00:00:00",
          "2021-02-26T00:00:00",
          "2021-02-27T00:00:00",
          "2021-02-28T00:00:00",
          "2021-03-01T00:00:00",
          "2021-03-02T00:00:00",
          "2021-03-03T00:00:00",
          "2021-03-04T00:00:00",
          "2021-03-05T00:00:00",
          "2021-03-06T00:00:00",
          "2021-03-07T00:00:00",
          "2021-03-08T00:00:00",
          "2021-03-09T00:00:00",
          "2021-03-10T00:00:00",
          "2021-03-11T00:00:00",
          "2021-03-12T00:00:00",
          "2021-03-13T00:00:00",
          "2021-03-14T00:00:00",
          "2021-03-15T00:00:00",
          "2021-03-16T00:00:00",
          "2021-03-17T00:00:00",
          "2021-03-18T00:00:00",
          "2021-03-19T00:00:00",
          "2021-03-20T00:00:00",
          "2021-03-21T00:00:00",
          "2021-03-22T00:00:00",
          "2021-03-24T00:00:00",
          "2021-03-25T00:00:00",
          "2021-03-26T00:00:00",
          "2021-03-27T00:00:00",
          "2021-03-28T00:00:00",
          "2021-03-29T00:00:00",
          "2021-03-30T00:00:00",
          "2021-03-31T00:00:00",
          "2021-04-01T00:00:00",
          "2021-04-02T00:00:00",
          "2021-04-03T00:00:00",
          "2021-04-04T00:00:00",
          "2021-04-05T00:00:00",
          "2021-04-06T00:00:00",
          "2021-04-07T00:00:00",
          "2021-04-08T00:00:00",
          "2021-04-09T00:00:00",
          "2021-04-10T00:00:00",
          "2021-04-11T00:00:00",
          "2021-04-12T00:00:00",
          "2021-04-13T00:00:00",
          "2021-04-14T00:00:00",
          "2021-04-15T00:00:00",
          "2021-04-16T00:00:00",
          "2021-04-17T00:00:00",
          "2021-04-18T00:00:00",
          "2021-04-20T00:00:00",
          "2021-04-21T00:00:00",
          "2021-04-23T00:00:00",
          "2021-04-24T00:00:00",
          "2021-04-25T00:00:00",
          "2021-04-26T00:00:00",
          "2021-04-27T00:00:00",
          "2021-04-28T00:00:00",
          "2021-04-29T00:00:00",
          "2021-04-30T00:00:00",
          "2021-05-01T00:00:00",
          "2021-05-02T00:00:00",
          "2021-05-03T00:00:00",
          "2021-05-04T00:00:00",
          "2021-05-05T00:00:00",
          "2021-05-06T00:00:00"
         ],
         "xaxis": "x",
         "y": [
          0.0264395440677988,
          0.03067316292478446,
          0.03401769971158296,
          0.013265630640235426,
          0.017808854559808723,
          0.00763241690559457,
          0.010240532000149747,
          0.008832788460756132,
          0.012636407627486251,
          0.009093222201627981,
          null,
          0.00793706400729149,
          0.010697663368743594,
          0.011168028626062209,
          null,
          null,
          0.010557421713104715,
          0.02875451858332511,
          0.028948225244712585,
          0,
          0.0004347707947254691,
          0.016210078658250266,
          0.008113938097137077,
          0.006418227075451386,
          0.009822321543096335,
          0.004641919977586323,
          0.003731787473297788,
          0.0060570115557628595,
          0.009054138947098543,
          0.0056928531237212,
          0.014773094533168833,
          0.008661829659720397,
          0.004900935889578279,
          0.0017525413873425168,
          0.0033156540772059265,
          0.001782348163045705,
          0.0028571572669842333,
          0.0021195061362731873,
          0.0020915271045385776,
          0.002004457683000764,
          0.0032252562115155908,
          0.0010980336511279933,
          0.016692305139664746,
          0.01668596599772898,
          0.025940570056517846,
          0.03285749200887553,
          0.0362115354347439,
          0.029248742410166815,
          0.024267767624380484,
          0.012174660000315479,
          null,
          0.10298860586569487,
          0.05195528537022366,
          0.05537789351296346,
          0.04620194480699559,
          0.06738145734172207,
          0.1004691265656147,
          0.05573329739487463,
          0.09287763669956783,
          0.11280419088770932,
          null,
          0.2046745094959508,
          0.11610232040680983,
          0.1942057782384979,
          0.20008617624058544,
          0.08139365559837623,
          0.16801026245226486,
          0.15662167890474535,
          null,
          null,
          0.19796759284610754,
          0.04234090920893146,
          0.07002934521938384,
          0.04288170526001358,
          0.024882436064350977,
          0.018882844093650267,
          0.11308300793295994,
          null,
          0.13009031250040404,
          0.1215054009692084,
          0.09043152506649293,
          0.09525172439533562,
          null,
          0.10910667899609279,
          0.031932480433963295,
          0.0666608078446006,
          null,
          0.04303287108863067,
          0.1412868143016234,
          0.06933661971946989,
          0.07880458215520765,
          0.030050044201191693
         ],
         "yaxis": "y2"
        },
        {
         "marker": {
          "color": "#00CC96",
          "opacity": 0.3
         },
         "name": "Nouveaux cas<br>journaliers",
         "type": "bar",
         "x": [
          "2021-01-01T00:00:00",
          "2021-01-02T00:00:00",
          "2021-01-03T00:00:00",
          "2021-01-04T00:00:00",
          "2021-01-05T00:00:00",
          "2021-01-06T00:00:00",
          "2021-01-07T00:00:00",
          "2021-01-08T00:00:00",
          "2021-01-09T00:00:00",
          "2021-01-10T00:00:00",
          "2021-01-11T00:00:00",
          "2021-01-12T00:00:00",
          "2021-01-13T00:00:00",
          "2021-01-14T00:00:00",
          "2021-01-15T00:00:00",
          "2021-01-16T00:00:00",
          "2021-01-17T00:00:00",
          "2021-01-18T00:00:00",
          "2021-01-19T00:00:00",
          "2021-01-20T00:00:00",
          "2021-01-21T00:00:00",
          "2021-01-22T00:00:00",
          "2021-01-23T00:00:00",
          "2021-01-24T00:00:00",
          "2021-01-25T00:00:00",
          "2021-01-26T00:00:00",
          "2021-01-27T00:00:00",
          "2021-01-28T00:00:00",
          "2021-01-29T00:00:00",
          "2021-01-30T00:00:00",
          "2021-01-31T00:00:00",
          "2021-02-01T00:00:00",
          "2021-02-02T00:00:00",
          "2021-02-03T00:00:00",
          "2021-02-04T00:00:00",
          "2021-02-05T00:00:00",
          "2021-02-06T00:00:00",
          "2021-02-07T00:00:00",
          "2021-02-08T00:00:00",
          "2021-02-09T00:00:00",
          "2021-02-10T00:00:00",
          "2021-02-11T00:00:00",
          "2021-02-12T00:00:00",
          "2021-02-13T00:00:00",
          "2021-02-14T00:00:00",
          "2021-02-15T00:00:00",
          "2021-02-16T00:00:00",
          "2021-02-17T00:00:00",
          "2021-02-18T00:00:00",
          "2021-02-19T00:00:00",
          "2021-02-20T00:00:00",
          "2021-02-21T00:00:00",
          "2021-02-22T00:00:00",
          "2021-02-23T00:00:00",
          "2021-02-24T00:00:00",
          "2021-02-25T00:00:00",
          "2021-02-26T00:00:00",
          "2021-02-27T00:00:00",
          "2021-02-28T00:00:00",
          "2021-03-01T00:00:00",
          "2021-03-02T00:00:00",
          "2021-03-03T00:00:00",
          "2021-03-04T00:00:00",
          "2021-03-05T00:00:00",
          "2021-03-06T00:00:00",
          "2021-03-07T00:00:00",
          "2021-03-08T00:00:00",
          "2021-03-09T00:00:00",
          "2021-03-10T00:00:00",
          "2021-03-11T00:00:00",
          "2021-03-12T00:00:00",
          "2021-03-13T00:00:00",
          "2021-03-14T00:00:00",
          "2021-03-15T00:00:00",
          "2021-03-16T00:00:00",
          "2021-03-17T00:00:00",
          "2021-03-18T00:00:00",
          "2021-03-19T00:00:00",
          "2021-03-20T00:00:00",
          "2021-03-21T00:00:00",
          "2021-03-22T00:00:00",
          "2021-03-23T00:00:00",
          "2021-03-24T00:00:00",
          "2021-03-25T00:00:00",
          "2021-03-26T00:00:00",
          "2021-03-27T00:00:00",
          "2021-03-28T00:00:00",
          "2021-03-29T00:00:00",
          "2021-03-30T00:00:00",
          "2021-03-31T00:00:00",
          "2021-04-01T00:00:00",
          "2021-04-02T00:00:00",
          "2021-04-03T00:00:00",
          "2021-04-04T00:00:00",
          "2021-04-05T00:00:00",
          "2021-04-06T00:00:00",
          "2021-04-07T00:00:00",
          "2021-04-08T00:00:00",
          "2021-04-09T00:00:00",
          "2021-04-10T00:00:00",
          "2021-04-11T00:00:00",
          "2021-04-12T00:00:00",
          "2021-04-13T00:00:00",
          "2021-04-14T00:00:00",
          "2021-04-15T00:00:00",
          "2021-04-16T00:00:00",
          "2021-04-17T00:00:00",
          "2021-04-18T00:00:00",
          "2021-04-19T00:00:00",
          "2021-04-20T00:00:00",
          "2021-04-21T00:00:00",
          "2021-04-22T00:00:00",
          "2021-04-23T00:00:00",
          "2021-04-24T00:00:00",
          "2021-04-25T00:00:00",
          "2021-04-26T00:00:00",
          "2021-04-27T00:00:00",
          "2021-04-28T00:00:00",
          "2021-04-29T00:00:00",
          "2021-04-30T00:00:00",
          "2021-05-01T00:00:00",
          "2021-05-02T00:00:00",
          "2021-05-03T00:00:00",
          "2021-05-04T00:00:00",
          "2021-05-05T00:00:00",
          "2021-05-06T00:00:00",
          "2021-05-07T00:00:00",
          "2021-05-08T00:00:00",
          "2021-05-09T00:00:00",
          "2021-05-10T00:00:00",
          "2021-05-11T00:00:00",
          "2021-05-12T00:00:00",
          "2021-05-13T00:00:00",
          "2021-05-14T00:00:00",
          "2021-05-15T00:00:00",
          "2021-05-16T00:00:00",
          "2021-05-17T00:00:00",
          "2021-05-18T00:00:00"
         ],
         "xaxis": "x",
         "y": [
          256,
          183,
          190,
          136,
          203,
          153,
          162,
          136,
          161,
          110,
          103,
          135,
          133,
          134,
          126,
          96,
          117,
          81,
          130,
          81,
          79,
          84,
          80,
          57,
          56,
          56,
          77,
          73,
          67,
          48,
          54,
          40,
          60,
          42,
          45,
          50,
          47,
          33,
          39,
          37,
          26,
          38,
          35,
          36,
          27,
          32,
          34,
          28,
          36,
          33,
          26,
          19,
          20,
          24,
          24,
          42,
          40,
          39,
          37,
          36,
          41,
          32,
          31,
          38,
          25,
          36,
          24,
          34,
          39,
          30,
          52,
          36,
          30,
          30,
          30,
          45,
          36,
          53,
          52,
          35,
          36,
          46,
          69,
          81,
          86,
          98,
          115,
          109,
          134,
          196,
          278,
          297,
          246,
          239,
          234,
          290,
          255,
          447,
          427,
          407,
          330,
          282,
          331,
          292,
          281,
          303,
          207,
          174,
          164,
          194,
          191,
          152,
          150,
          142,
          92,
          112,
          109,
          120,
          116,
          105,
          126,
          85,
          86,
          77,
          85,
          69,
          58,
          73,
          59,
          50,
          39,
          60,
          73,
          66,
          49,
          43,
          21,
          30
         ],
         "yaxis": "y"
        }
       ],
       "layout": {
        "images": [
         {
          "sizex": 0.5,
          "sizey": 0.25,
          "source": "../Data/images/Website_graph_logos.png",
          "x": 1.125,
          "xanchor": "right",
          "xref": "paper",
          "y": 1,
          "yanchor": "bottom",
          "yref": "paper"
         }
        ],
        "legend": {
         "orientation": "h",
         "x": 0,
         "xanchor": "left",
         "y": 1.1,
         "yanchor": "top"
        },
        "plot_bgcolor": "white",
        "template": {
         "data": {
          "bar": [
           {
            "error_x": {
             "color": "#2a3f5f"
            },
            "error_y": {
             "color": "#2a3f5f"
            },
            "marker": {
             "line": {
              "color": "#E5ECF6",
              "width": 0.5
             }
            },
            "type": "bar"
           }
          ],
          "barpolar": [
           {
            "marker": {
             "line": {
              "color": "#E5ECF6",
              "width": 0.5
             }
            },
            "type": "barpolar"
           }
          ],
          "carpet": [
           {
            "aaxis": {
             "endlinecolor": "#2a3f5f",
             "gridcolor": "white",
             "linecolor": "white",
             "minorgridcolor": "white",
             "startlinecolor": "#2a3f5f"
            },
            "baxis": {
             "endlinecolor": "#2a3f5f",
             "gridcolor": "white",
             "linecolor": "white",
             "minorgridcolor": "white",
             "startlinecolor": "#2a3f5f"
            },
            "type": "carpet"
           }
          ],
          "choropleth": [
           {
            "colorbar": {
             "outlinewidth": 0,
             "ticks": ""
            },
            "type": "choropleth"
           }
          ],
          "contour": [
           {
            "colorbar": {
             "outlinewidth": 0,
             "ticks": ""
            },
            "colorscale": [
             [
              0,
              "#0d0887"
             ],
             [
              0.1111111111111111,
              "#46039f"
             ],
             [
              0.2222222222222222,
              "#7201a8"
             ],
             [
              0.3333333333333333,
              "#9c179e"
             ],
             [
              0.4444444444444444,
              "#bd3786"
             ],
             [
              0.5555555555555556,
              "#d8576b"
             ],
             [
              0.6666666666666666,
              "#ed7953"
             ],
             [
              0.7777777777777778,
              "#fb9f3a"
             ],
             [
              0.8888888888888888,
              "#fdca26"
             ],
             [
              1,
              "#f0f921"
             ]
            ],
            "type": "contour"
           }
          ],
          "contourcarpet": [
           {
            "colorbar": {
             "outlinewidth": 0,
             "ticks": ""
            },
            "type": "contourcarpet"
           }
          ],
          "heatmap": [
           {
            "colorbar": {
             "outlinewidth": 0,
             "ticks": ""
            },
            "colorscale": [
             [
              0,
              "#0d0887"
             ],
             [
              0.1111111111111111,
              "#46039f"
             ],
             [
              0.2222222222222222,
              "#7201a8"
             ],
             [
              0.3333333333333333,
              "#9c179e"
             ],
             [
              0.4444444444444444,
              "#bd3786"
             ],
             [
              0.5555555555555556,
              "#d8576b"
             ],
             [
              0.6666666666666666,
              "#ed7953"
             ],
             [
              0.7777777777777778,
              "#fb9f3a"
             ],
             [
              0.8888888888888888,
              "#fdca26"
             ],
             [
              1,
              "#f0f921"
             ]
            ],
            "type": "heatmap"
           }
          ],
          "heatmapgl": [
           {
            "colorbar": {
             "outlinewidth": 0,
             "ticks": ""
            },
            "colorscale": [
             [
              0,
              "#0d0887"
             ],
             [
              0.1111111111111111,
              "#46039f"
             ],
             [
              0.2222222222222222,
              "#7201a8"
             ],
             [
              0.3333333333333333,
              "#9c179e"
             ],
             [
              0.4444444444444444,
              "#bd3786"
             ],
             [
              0.5555555555555556,
              "#d8576b"
             ],
             [
              0.6666666666666666,
              "#ed7953"
             ],
             [
              0.7777777777777778,
              "#fb9f3a"
             ],
             [
              0.8888888888888888,
              "#fdca26"
             ],
             [
              1,
              "#f0f921"
             ]
            ],
            "type": "heatmapgl"
           }
          ],
          "histogram": [
           {
            "marker": {
             "colorbar": {
              "outlinewidth": 0,
              "ticks": ""
             }
            },
            "type": "histogram"
           }
          ],
          "histogram2d": [
           {
            "colorbar": {
             "outlinewidth": 0,
             "ticks": ""
            },
            "colorscale": [
             [
              0,
              "#0d0887"
             ],
             [
              0.1111111111111111,
              "#46039f"
             ],
             [
              0.2222222222222222,
              "#7201a8"
             ],
             [
              0.3333333333333333,
              "#9c179e"
             ],
             [
              0.4444444444444444,
              "#bd3786"
             ],
             [
              0.5555555555555556,
              "#d8576b"
             ],
             [
              0.6666666666666666,
              "#ed7953"
             ],
             [
              0.7777777777777778,
              "#fb9f3a"
             ],
             [
              0.8888888888888888,
              "#fdca26"
             ],
             [
              1,
              "#f0f921"
             ]
            ],
            "type": "histogram2d"
           }
          ],
          "histogram2dcontour": [
           {
            "colorbar": {
             "outlinewidth": 0,
             "ticks": ""
            },
            "colorscale": [
             [
              0,
              "#0d0887"
             ],
             [
              0.1111111111111111,
              "#46039f"
             ],
             [
              0.2222222222222222,
              "#7201a8"
             ],
             [
              0.3333333333333333,
              "#9c179e"
             ],
             [
              0.4444444444444444,
              "#bd3786"
             ],
             [
              0.5555555555555556,
              "#d8576b"
             ],
             [
              0.6666666666666666,
              "#ed7953"
             ],
             [
              0.7777777777777778,
              "#fb9f3a"
             ],
             [
              0.8888888888888888,
              "#fdca26"
             ],
             [
              1,
              "#f0f921"
             ]
            ],
            "type": "histogram2dcontour"
           }
          ],
          "mesh3d": [
           {
            "colorbar": {
             "outlinewidth": 0,
             "ticks": ""
            },
            "type": "mesh3d"
           }
          ],
          "parcoords": [
           {
            "line": {
             "colorbar": {
              "outlinewidth": 0,
              "ticks": ""
             }
            },
            "type": "parcoords"
           }
          ],
          "pie": [
           {
            "automargin": true,
            "type": "pie"
           }
          ],
          "scatter": [
           {
            "marker": {
             "colorbar": {
              "outlinewidth": 0,
              "ticks": ""
             }
            },
            "type": "scatter"
           }
          ],
          "scatter3d": [
           {
            "line": {
             "colorbar": {
              "outlinewidth": 0,
              "ticks": ""
             }
            },
            "marker": {
             "colorbar": {
              "outlinewidth": 0,
              "ticks": ""
             }
            },
            "type": "scatter3d"
           }
          ],
          "scattercarpet": [
           {
            "marker": {
             "colorbar": {
              "outlinewidth": 0,
              "ticks": ""
             }
            },
            "type": "scattercarpet"
           }
          ],
          "scattergeo": [
           {
            "marker": {
             "colorbar": {
              "outlinewidth": 0,
              "ticks": ""
             }
            },
            "type": "scattergeo"
           }
          ],
          "scattergl": [
           {
            "marker": {
             "colorbar": {
              "outlinewidth": 0,
              "ticks": ""
             }
            },
            "type": "scattergl"
           }
          ],
          "scattermapbox": [
           {
            "marker": {
             "colorbar": {
              "outlinewidth": 0,
              "ticks": ""
             }
            },
            "type": "scattermapbox"
           }
          ],
          "scatterpolar": [
           {
            "marker": {
             "colorbar": {
              "outlinewidth": 0,
              "ticks": ""
             }
            },
            "type": "scatterpolar"
           }
          ],
          "scatterpolargl": [
           {
            "marker": {
             "colorbar": {
              "outlinewidth": 0,
              "ticks": ""
             }
            },
            "type": "scatterpolargl"
           }
          ],
          "scatterternary": [
           {
            "marker": {
             "colorbar": {
              "outlinewidth": 0,
              "ticks": ""
             }
            },
            "type": "scatterternary"
           }
          ],
          "surface": [
           {
            "colorbar": {
             "outlinewidth": 0,
             "ticks": ""
            },
            "colorscale": [
             [
              0,
              "#0d0887"
             ],
             [
              0.1111111111111111,
              "#46039f"
             ],
             [
              0.2222222222222222,
              "#7201a8"
             ],
             [
              0.3333333333333333,
              "#9c179e"
             ],
             [
              0.4444444444444444,
              "#bd3786"
             ],
             [
              0.5555555555555556,
              "#d8576b"
             ],
             [
              0.6666666666666666,
              "#ed7953"
             ],
             [
              0.7777777777777778,
              "#fb9f3a"
             ],
             [
              0.8888888888888888,
              "#fdca26"
             ],
             [
              1,
              "#f0f921"
             ]
            ],
            "type": "surface"
           }
          ],
          "table": [
           {
            "cells": {
             "fill": {
              "color": "#EBF0F8"
             },
             "line": {
              "color": "white"
             }
            },
            "header": {
             "fill": {
              "color": "#C8D4E3"
             },
             "line": {
              "color": "white"
             }
            },
            "type": "table"
           }
          ]
         },
         "layout": {
          "annotationdefaults": {
           "arrowcolor": "#2a3f5f",
           "arrowhead": 0,
           "arrowwidth": 1
          },
          "autotypenumbers": "strict",
          "coloraxis": {
           "colorbar": {
            "outlinewidth": 0,
            "ticks": ""
           }
          },
          "colorscale": {
           "diverging": [
            [
             0,
             "#8e0152"
            ],
            [
             0.1,
             "#c51b7d"
            ],
            [
             0.2,
             "#de77ae"
            ],
            [
             0.3,
             "#f1b6da"
            ],
            [
             0.4,
             "#fde0ef"
            ],
            [
             0.5,
             "#f7f7f7"
            ],
            [
             0.6,
             "#e6f5d0"
            ],
            [
             0.7,
             "#b8e186"
            ],
            [
             0.8,
             "#7fbc41"
            ],
            [
             0.9,
             "#4d9221"
            ],
            [
             1,
             "#276419"
            ]
           ],
           "sequential": [
            [
             0,
             "#0d0887"
            ],
            [
             0.1111111111111111,
             "#46039f"
            ],
            [
             0.2222222222222222,
             "#7201a8"
            ],
            [
             0.3333333333333333,
             "#9c179e"
            ],
            [
             0.4444444444444444,
             "#bd3786"
            ],
            [
             0.5555555555555556,
             "#d8576b"
            ],
            [
             0.6666666666666666,
             "#ed7953"
            ],
            [
             0.7777777777777778,
             "#fb9f3a"
            ],
            [
             0.8888888888888888,
             "#fdca26"
            ],
            [
             1,
             "#f0f921"
            ]
           ],
           "sequentialminus": [
            [
             0,
             "#0d0887"
            ],
            [
             0.1111111111111111,
             "#46039f"
            ],
            [
             0.2222222222222222,
             "#7201a8"
            ],
            [
             0.3333333333333333,
             "#9c179e"
            ],
            [
             0.4444444444444444,
             "#bd3786"
            ],
            [
             0.5555555555555556,
             "#d8576b"
            ],
            [
             0.6666666666666666,
             "#ed7953"
            ],
            [
             0.7777777777777778,
             "#fb9f3a"
            ],
            [
             0.8888888888888888,
             "#fdca26"
            ],
            [
             1,
             "#f0f921"
            ]
           ]
          },
          "colorway": [
           "#636efa",
           "#EF553B",
           "#00cc96",
           "#ab63fa",
           "#FFA15A",
           "#19d3f3",
           "#FF6692",
           "#B6E880",
           "#FF97FF",
           "#FECB52"
          ],
          "font": {
           "color": "#2a3f5f"
          },
          "geo": {
           "bgcolor": "white",
           "lakecolor": "white",
           "landcolor": "#E5ECF6",
           "showlakes": true,
           "showland": true,
           "subunitcolor": "white"
          },
          "hoverlabel": {
           "align": "left"
          },
          "hovermode": "closest",
          "mapbox": {
           "style": "light"
          },
          "paper_bgcolor": "white",
          "plot_bgcolor": "#E5ECF6",
          "polar": {
           "angularaxis": {
            "gridcolor": "white",
            "linecolor": "white",
            "ticks": ""
           },
           "bgcolor": "#E5ECF6",
           "radialaxis": {
            "gridcolor": "white",
            "linecolor": "white",
            "ticks": ""
           }
          },
          "scene": {
           "xaxis": {
            "backgroundcolor": "#E5ECF6",
            "gridcolor": "white",
            "gridwidth": 2,
            "linecolor": "white",
            "showbackground": true,
            "ticks": "",
            "zerolinecolor": "white"
           },
           "yaxis": {
            "backgroundcolor": "#E5ECF6",
            "gridcolor": "white",
            "gridwidth": 2,
            "linecolor": "white",
            "showbackground": true,
            "ticks": "",
            "zerolinecolor": "white"
           },
           "zaxis": {
            "backgroundcolor": "#E5ECF6",
            "gridcolor": "white",
            "gridwidth": 2,
            "linecolor": "white",
            "showbackground": true,
            "ticks": "",
            "zerolinecolor": "white"
           }
          },
          "shapedefaults": {
           "line": {
            "color": "#2a3f5f"
           }
          },
          "ternary": {
           "aaxis": {
            "gridcolor": "white",
            "linecolor": "white",
            "ticks": ""
           },
           "baxis": {
            "gridcolor": "white",
            "linecolor": "white",
            "ticks": ""
           },
           "bgcolor": "#E5ECF6",
           "caxis": {
            "gridcolor": "white",
            "linecolor": "white",
            "ticks": ""
           }
          },
          "title": {
           "x": 0.05
          },
          "xaxis": {
           "automargin": true,
           "gridcolor": "white",
           "linecolor": "white",
           "ticks": "",
           "title": {
            "standoff": 15
           },
           "zerolinecolor": "white",
           "zerolinewidth": 2
          },
          "yaxis": {
           "automargin": true,
           "gridcolor": "white",
           "linecolor": "white",
           "ticks": "",
           "title": {
            "standoff": 15
           },
           "zerolinecolor": "white",
           "zerolinewidth": 2
          }
         }
        },
        "title": {
         "text": "Surveillance SRAS-CoV-2 via les eaux usées<br>Région de Québec"
        },
        "xaxis": {
         "anchor": "y",
         "domain": [
          0,
          0.94
         ],
         "dtick": 604800000,
         "gridcolor": "rgba(100,100,100,0.10)",
         "tick0": "2020-12-27",
         "tickangle": 30,
         "tickformat": "%d-%m-%Y",
         "ticks": "outside",
         "title": {
          "text": "Date"
         }
        },
        "yaxis": {
         "anchor": "x",
         "domain": [
          0,
          1
         ],
         "gridcolor": "rgba(0,0,0,0)",
         "range": [
          0,
          550
         ],
         "side": "right",
         "title": {
          "text": "Nouveaux cas"
         }
        },
        "yaxis2": {
         "anchor": "x",
         "overlaying": "y",
         "range": [
          0,
          null
         ],
         "side": "left",
         "title": {
          "text": "SRAS-CoV-2/PMMoV"
         }
        }
       }
      }
     },
     "metadata": {}
    }
   ],
   "source": [
    "path = path_VdQ\n",
    "qc = pd.read_excel(path, sheet_name=\"QC_Compil_STEP (#NA)\", usecols=\"A:N\", skiprows=4)\n",
    "qc = qc.rename(columns={\"Data\":\"Date\"})\n",
    "\n",
    "start_date = \"2021-01-01\"\n",
    "end_date = None\n",
    "\n",
    "SITES = [\"Québec Station Est\", \"Québec Station Ouest\"]  # in the order that they are found in the excel sheet\n",
    "\n",
    "points_to_remove = {\n",
    "    \"Québec Station Est\": {\n",
    "        \"index\": 0,\n",
    "        \"dates\": [\n",
    "            \"2021-04-09\",\n",
    "        ],\n",
    "    },\n",
    "    \"Québec Station Ouest\": {\n",
    "        \"index\": 1,\n",
    "        \"dates\": [\n",
    "            \"2021-03-24\",\n",
    "            \"2021-04-03\",\n",
    "            \"2021-04-11\",\n",
    "            \"2021-04-12\",\n",
    "            \"2021-05-01\",\n",
    "        ],\n",
    "    },\n",
    "}\n",
    "qc = remove_points(qc, points_to_remove)\n",
    "\n",
    "\n",
    "region_name = \"Capitale-Nationale\"\n",
    "proper_region_name = \"Région de Québec\"\n",
    "\n",
    "# 'what' should either be \"pmmv\", \"sars\" or \"normalized\"\n",
    "fig = plot(qc, \"normalized\", SITES, region_name, proper_region_name, \n",
    "    max_value=None, start_date=start_date, end_date=end_date)\n",
    "fig.update_yaxes(secondary_y=False, range=[0, 550])\n",
    "images_folder = images_folder_VdQ\n",
    "fig.write_image(os.path.join(images_folder, \"Quebec.png\"), width=1000, scale=3)\n",
    "fig.write_image(os.path.join(images_folder, \"Quebec.svg\"), width=1000)\n",
    "fig.write_html(images_folder+\"test_plot.html\")\n",
    "fig.show()"
   ]
  },
  {
   "cell_type": "markdown",
   "metadata": {},
   "source": [
    "## Normalized 2021 For Montreal"
   ]
  },
  {
   "cell_type": "code",
   "execution_count": 14,
   "metadata": {},
   "outputs": [
    {
     "output_type": "stream",
     "name": "stderr",
     "text": [
      "C:\\Users\\ANNED2\\AppData\\Local\\Continuum\\anaconda3\\envs\\covid\\lib\\site-packages\\openpyxl\\worksheet\\_reader.py:312: UserWarning:\n\nData Validation extension is not supported and will be removed\n\n"
     ]
    },
    {
     "output_type": "display_data",
     "data": {
      "application/vnd.plotly.v1+json": {
       "config": {
        "plotlyServerURL": "https://plot.ly"
       },
       "data": [
        {
         "connectgaps": true,
         "marker": {
          "color": "#636EFA"
         },
         "mode": "lines+markers",
         "name": "Montréal<br>Intercepteur Nord",
         "type": "scatter",
         "x": [
          "2021-01-04T00:00:00",
          "2021-01-07T00:00:00",
          "2021-01-11T00:00:00",
          "2021-01-14T00:00:00",
          "2021-01-18T00:00:00",
          "2021-01-21T00:00:00",
          "2021-01-25T00:00:00",
          "2021-02-08T00:00:00",
          "2021-02-11T00:00:00",
          "2021-02-15T00:00:00",
          "2021-02-28T00:00:00",
          "2021-03-01T00:00:00",
          "2021-03-02T00:00:00",
          "2021-03-03T00:00:00",
          "2021-03-04T00:00:00",
          "2021-03-07T00:00:00",
          "2021-03-08T00:00:00",
          "2021-03-09T00:00:00",
          "2021-03-10T00:00:00",
          "2021-03-11T00:00:00",
          "2021-03-14T00:00:00",
          "2021-03-15T00:00:00",
          "2021-03-16T00:00:00",
          "2021-03-17T00:00:00",
          "2021-03-18T00:00:00",
          "2021-03-21T00:00:00",
          "2021-03-22T00:00:00",
          "2021-03-23T00:00:00",
          "2021-03-24T00:00:00",
          "2021-03-25T00:00:00",
          "2021-03-28T00:00:00",
          "2021-03-29T00:00:00",
          "2021-03-30T00:00:00",
          "2021-03-31T00:00:00",
          "2021-04-01T00:00:00",
          "2021-04-04T00:00:00",
          "2021-04-05T00:00:00",
          "2021-04-06T00:00:00",
          "2021-04-07T00:00:00",
          "2021-04-08T00:00:00",
          "2021-04-11T00:00:00",
          "2021-04-12T00:00:00",
          "2021-04-13T00:00:00",
          "2021-04-14T00:00:00",
          "2021-04-15T00:00:00",
          "2021-04-18T00:00:00",
          "2021-04-19T00:00:00",
          "2021-04-20T00:00:00",
          "2021-04-21T00:00:00",
          "2021-04-22T00:00:00",
          "2021-04-25T00:00:00",
          "2021-04-26T00:00:00",
          "2021-04-28T00:00:00",
          "2021-04-29T00:00:00",
          "2021-05-02T00:00:00",
          "2021-05-03T00:00:00",
          "2021-05-04T00:00:00",
          "2021-05-05T00:00:00",
          "2021-05-06T00:00:00",
          "2021-05-09T00:00:00",
          "2021-05-10T00:00:00"
         ],
         "xaxis": "x",
         "y": [
          0.05794083581316605,
          0.08823013596360475,
          0.06676753351579462,
          0.010064111366723185,
          0.02769425334384363,
          0.027086250897623128,
          0.03572660946393324,
          0.05957561703856876,
          0.03251223262297684,
          0.0488238741031944,
          0.12113247295204502,
          0.08433885479169541,
          0.0828004539591734,
          0.09218042263662037,
          0.20118262951947366,
          0.15782212831968134,
          0.24589938478552467,
          0.06890245076619428,
          0.09711977490603305,
          0.1825902862996701,
          0.13563164981804385,
          0.07670298828233699,
          0.2592586261927231,
          0.3833177347873658,
          0.07236893716280322,
          0.06780713293737878,
          0.12201120302629474,
          0.02224666669508035,
          0.04066765860069688,
          0.028411926112139198,
          0.03175918894949483,
          0.08504227816114297,
          0.22049715708390516,
          0.01794637304455477,
          0.0407546909334026,
          0.048482038975148314,
          0.062205100581153895,
          0.0829384958469345,
          0.1329902347339899,
          0.01786509996210157,
          0.024871454825320213,
          0.013580513985203236,
          0.01789865312693525,
          0.014718937557352041,
          0.03060514436792228,
          0.040372956078236065,
          0.008081417280365372,
          0.13738845121982887,
          0.03225837841899304,
          0.0657087106901267,
          0.021683443218658366,
          0.1718547228331546,
          0.08198789170519792,
          0.06828634280544069,
          0.07830041488833767,
          0.3067928452621579,
          0.08080640429820404,
          0.12059401027039568,
          0.10546075005704796,
          0.4520390024219339,
          0.04509770028437696
         ],
         "yaxis": "y2"
        },
        {
         "connectgaps": true,
         "marker": {
          "color": "#EF553B"
         },
         "mode": "lines+markers",
         "name": "Montréal<br>Intercepteur Sud",
         "type": "scatter",
         "x": [
          "2021-01-04T00:00:00",
          "2021-01-07T00:00:00",
          "2021-01-11T00:00:00",
          "2021-01-14T00:00:00",
          "2021-01-18T00:00:00",
          "2021-01-21T00:00:00",
          "2021-01-25T00:00:00",
          "2021-02-08T00:00:00",
          "2021-02-11T00:00:00",
          "2021-02-15T00:00:00",
          "2021-02-28T00:00:00",
          "2021-03-01T00:00:00",
          "2021-03-02T00:00:00",
          "2021-03-03T00:00:00",
          "2021-03-04T00:00:00",
          "2021-03-07T00:00:00",
          "2021-03-08T00:00:00",
          "2021-03-09T00:00:00",
          "2021-03-10T00:00:00",
          "2021-03-11T00:00:00",
          "2021-03-14T00:00:00",
          "2021-03-15T00:00:00",
          "2021-03-16T00:00:00",
          "2021-03-17T00:00:00",
          "2021-03-18T00:00:00",
          "2021-03-21T00:00:00",
          "2021-03-22T00:00:00",
          "2021-03-23T00:00:00",
          "2021-03-24T00:00:00",
          "2021-03-25T00:00:00",
          "2021-03-28T00:00:00",
          "2021-03-29T00:00:00",
          "2021-03-30T00:00:00",
          "2021-03-31T00:00:00",
          "2021-04-01T00:00:00",
          "2021-04-04T00:00:00",
          "2021-04-05T00:00:00",
          "2021-04-06T00:00:00",
          "2021-04-07T00:00:00",
          "2021-04-08T00:00:00",
          "2021-04-11T00:00:00",
          "2021-04-12T00:00:00",
          "2021-04-13T00:00:00",
          "2021-04-14T00:00:00",
          "2021-04-15T00:00:00",
          "2021-04-18T00:00:00",
          "2021-04-19T00:00:00",
          "2021-04-20T00:00:00",
          "2021-04-21T00:00:00",
          "2021-04-22T00:00:00",
          "2021-04-25T00:00:00",
          "2021-04-26T00:00:00",
          "2021-04-28T00:00:00",
          "2021-04-29T00:00:00",
          "2021-05-02T00:00:00",
          "2021-05-03T00:00:00",
          "2021-05-04T00:00:00",
          "2021-05-05T00:00:00",
          "2021-05-06T00:00:00",
          "2021-05-09T00:00:00",
          "2021-05-10T00:00:00"
         ],
         "xaxis": "x",
         "y": [
          0.13835064051779808,
          0.0546603458561446,
          0.03622233745160084,
          0.007649358776348135,
          0.02158180754134772,
          0.07756810823486016,
          0.024276750592625868,
          0.029831709808309303,
          0.09728013791590971,
          0.08436451365740608,
          0.05436994075018417,
          0.2145176042823748,
          0.14934021056076127,
          0.044894657175743785,
          0.09164875248323441,
          0.10826815210527851,
          0.14286280077485347,
          0.09715051997929523,
          0.06735674020424345,
          0.060927340489034566,
          0.06990774660396387,
          0.19266184633165717,
          0.046190384628086514,
          0.264898027216766,
          0.047496540446516376,
          0.031868459491598805,
          0.047017179858227585,
          0.015445599747207916,
          0.03448650300399036,
          0.014350455232804734,
          0.019778917697623587,
          0.019112403429832753,
          0.027255792810714014,
          0.032555146242875144,
          0.019301311373834867,
          0.03435275936582607,
          0.0327438717691773,
          0.054158073493671084,
          0.06788214339956093,
          0.0050918490429475195,
          0.029450787404819625,
          0.008788853412735102,
          0.01098395143870285,
          0.008255113758429494,
          0.017247379882734497,
          0.023502506859370994,
          0.008678754598982544,
          0.07838047054167238,
          0.01723914167692176,
          0.069064714991053,
          0.027150425656809713,
          0.024087050211168626,
          0.03364066104906298,
          0.03784001347728941,
          0.021773817725224517,
          0.8466156291161681,
          0.06602436091886126,
          0.14086476751342633,
          0.10455744082216958,
          0.29613537139430696,
          0.04650798854611047
         ],
         "yaxis": "y2"
        },
        {
         "marker": {
          "color": "#00CC96",
          "opacity": 0.3
         },
         "name": "Nouveaux cas<br>journaliers",
         "type": "bar",
         "x": [
          "2021-01-01T00:00:00",
          "2021-01-02T00:00:00",
          "2021-01-03T00:00:00",
          "2021-01-04T00:00:00",
          "2021-01-05T00:00:00",
          "2021-01-06T00:00:00",
          "2021-01-07T00:00:00",
          "2021-01-08T00:00:00",
          "2021-01-09T00:00:00",
          "2021-01-10T00:00:00",
          "2021-01-11T00:00:00",
          "2021-01-12T00:00:00",
          "2021-01-13T00:00:00",
          "2021-01-14T00:00:00",
          "2021-01-15T00:00:00",
          "2021-01-16T00:00:00",
          "2021-01-17T00:00:00",
          "2021-01-18T00:00:00",
          "2021-01-19T00:00:00",
          "2021-01-20T00:00:00",
          "2021-01-21T00:00:00",
          "2021-01-22T00:00:00",
          "2021-01-23T00:00:00",
          "2021-01-24T00:00:00",
          "2021-01-25T00:00:00",
          "2021-01-26T00:00:00",
          "2021-01-27T00:00:00",
          "2021-01-28T00:00:00",
          "2021-01-29T00:00:00",
          "2021-01-30T00:00:00",
          "2021-01-31T00:00:00",
          "2021-02-01T00:00:00",
          "2021-02-02T00:00:00",
          "2021-02-03T00:00:00",
          "2021-02-04T00:00:00",
          "2021-02-05T00:00:00",
          "2021-02-06T00:00:00",
          "2021-02-07T00:00:00",
          "2021-02-08T00:00:00",
          "2021-02-09T00:00:00",
          "2021-02-10T00:00:00",
          "2021-02-11T00:00:00",
          "2021-02-12T00:00:00",
          "2021-02-13T00:00:00",
          "2021-02-14T00:00:00",
          "2021-02-15T00:00:00",
          "2021-02-16T00:00:00",
          "2021-02-17T00:00:00",
          "2021-02-18T00:00:00",
          "2021-02-19T00:00:00",
          "2021-02-20T00:00:00",
          "2021-02-21T00:00:00",
          "2021-02-22T00:00:00",
          "2021-02-23T00:00:00",
          "2021-02-24T00:00:00",
          "2021-02-25T00:00:00",
          "2021-02-26T00:00:00",
          "2021-02-27T00:00:00",
          "2021-02-28T00:00:00",
          "2021-03-01T00:00:00",
          "2021-03-02T00:00:00",
          "2021-03-03T00:00:00",
          "2021-03-04T00:00:00",
          "2021-03-05T00:00:00",
          "2021-03-06T00:00:00",
          "2021-03-07T00:00:00",
          "2021-03-08T00:00:00",
          "2021-03-09T00:00:00",
          "2021-03-10T00:00:00",
          "2021-03-11T00:00:00",
          "2021-03-12T00:00:00",
          "2021-03-13T00:00:00",
          "2021-03-14T00:00:00",
          "2021-03-15T00:00:00",
          "2021-03-16T00:00:00",
          "2021-03-17T00:00:00",
          "2021-03-18T00:00:00",
          "2021-03-19T00:00:00",
          "2021-03-20T00:00:00",
          "2021-03-21T00:00:00",
          "2021-03-22T00:00:00",
          "2021-03-23T00:00:00",
          "2021-03-24T00:00:00",
          "2021-03-25T00:00:00",
          "2021-03-26T00:00:00",
          "2021-03-27T00:00:00",
          "2021-03-28T00:00:00",
          "2021-03-29T00:00:00",
          "2021-03-30T00:00:00",
          "2021-03-31T00:00:00",
          "2021-04-01T00:00:00",
          "2021-04-02T00:00:00",
          "2021-04-03T00:00:00",
          "2021-04-04T00:00:00",
          "2021-04-05T00:00:00",
          "2021-04-06T00:00:00",
          "2021-04-07T00:00:00",
          "2021-04-08T00:00:00",
          "2021-04-09T00:00:00",
          "2021-04-10T00:00:00",
          "2021-04-11T00:00:00",
          "2021-04-12T00:00:00",
          "2021-04-13T00:00:00",
          "2021-04-14T00:00:00",
          "2021-04-15T00:00:00",
          "2021-04-16T00:00:00",
          "2021-04-17T00:00:00",
          "2021-04-18T00:00:00",
          "2021-04-19T00:00:00",
          "2021-04-20T00:00:00",
          "2021-04-21T00:00:00",
          "2021-04-22T00:00:00",
          "2021-04-23T00:00:00",
          "2021-04-24T00:00:00",
          "2021-04-25T00:00:00",
          "2021-04-26T00:00:00",
          "2021-04-27T00:00:00",
          "2021-04-28T00:00:00",
          "2021-04-29T00:00:00",
          "2021-04-30T00:00:00",
          "2021-05-01T00:00:00",
          "2021-05-02T00:00:00",
          "2021-05-03T00:00:00",
          "2021-05-04T00:00:00",
          "2021-05-05T00:00:00",
          "2021-05-06T00:00:00",
          "2021-05-07T00:00:00",
          "2021-05-08T00:00:00",
          "2021-05-09T00:00:00",
          "2021-05-10T00:00:00",
          "2021-05-11T00:00:00",
          "2021-05-12T00:00:00",
          "2021-05-13T00:00:00",
          "2021-05-14T00:00:00",
          "2021-05-15T00:00:00",
          "2021-05-16T00:00:00",
          "2021-05-17T00:00:00",
          "2021-05-18T00:00:00"
         ],
         "xaxis": "x",
         "y": [
          741,
          1218,
          924,
          788,
          767,
          816,
          1084,
          1272,
          1040,
          818,
          776,
          558,
          858,
          728,
          811,
          713,
          876,
          579,
          463,
          630,
          666,
          761,
          606,
          559,
          424,
          501,
          590,
          454,
          573,
          495,
          551,
          388,
          468,
          557,
          481,
          522,
          545,
          509,
          406,
          329,
          449,
          551,
          473,
          476,
          338,
          349,
          318,
          409,
          327,
          372,
          395,
          384,
          401,
          256,
          419,
          408,
          387,
          396,
          320,
          248,
          257,
          390,
          303,
          376,
          280,
          399,
          266,
          260,
          390,
          315,
          364,
          387,
          279,
          266,
          245,
          335,
          312,
          352,
          319,
          266,
          308,
          228,
          335,
          369,
          354,
          360,
          307,
          258,
          303,
          374,
          398,
          359,
          385,
          355,
          299,
          294,
          309,
          404,
          395,
          515,
          298,
          377,
          264,
          375,
          354,
          432,
          366,
          352,
          219,
          253,
          276,
          311,
          316,
          228,
          340,
          201,
          245,
          291,
          312,
          344,
          325,
          264,
          211,
          229,
          238,
          202,
          261,
          281,
          213,
          198,
          188,
          263,
          261,
          288,
          246,
          206,
          190,
          98
         ],
         "yaxis": "y"
        }
       ],
       "layout": {
        "images": [
         {
          "sizex": 0.25,
          "sizey": 0.25,
          "source": "https://www.centreau.ulaval.ca/fileadmin/Documents/Image_de_marque/102378_MODIF_LOGO-CENTREAU_noir.jpg",
          "x": 1,
          "xanchor": "right",
          "xref": "paper",
          "y": 1,
          "yanchor": "bottom",
          "yref": "paper"
         }
        ],
        "legend": {
         "orientation": "h",
         "x": 0,
         "xanchor": "left",
         "y": 1.1,
         "yanchor": "top"
        },
        "plot_bgcolor": "white",
        "template": {
         "data": {
          "bar": [
           {
            "error_x": {
             "color": "#2a3f5f"
            },
            "error_y": {
             "color": "#2a3f5f"
            },
            "marker": {
             "line": {
              "color": "#E5ECF6",
              "width": 0.5
             }
            },
            "type": "bar"
           }
          ],
          "barpolar": [
           {
            "marker": {
             "line": {
              "color": "#E5ECF6",
              "width": 0.5
             }
            },
            "type": "barpolar"
           }
          ],
          "carpet": [
           {
            "aaxis": {
             "endlinecolor": "#2a3f5f",
             "gridcolor": "white",
             "linecolor": "white",
             "minorgridcolor": "white",
             "startlinecolor": "#2a3f5f"
            },
            "baxis": {
             "endlinecolor": "#2a3f5f",
             "gridcolor": "white",
             "linecolor": "white",
             "minorgridcolor": "white",
             "startlinecolor": "#2a3f5f"
            },
            "type": "carpet"
           }
          ],
          "choropleth": [
           {
            "colorbar": {
             "outlinewidth": 0,
             "ticks": ""
            },
            "type": "choropleth"
           }
          ],
          "contour": [
           {
            "colorbar": {
             "outlinewidth": 0,
             "ticks": ""
            },
            "colorscale": [
             [
              0,
              "#0d0887"
             ],
             [
              0.1111111111111111,
              "#46039f"
             ],
             [
              0.2222222222222222,
              "#7201a8"
             ],
             [
              0.3333333333333333,
              "#9c179e"
             ],
             [
              0.4444444444444444,
              "#bd3786"
             ],
             [
              0.5555555555555556,
              "#d8576b"
             ],
             [
              0.6666666666666666,
              "#ed7953"
             ],
             [
              0.7777777777777778,
              "#fb9f3a"
             ],
             [
              0.8888888888888888,
              "#fdca26"
             ],
             [
              1,
              "#f0f921"
             ]
            ],
            "type": "contour"
           }
          ],
          "contourcarpet": [
           {
            "colorbar": {
             "outlinewidth": 0,
             "ticks": ""
            },
            "type": "contourcarpet"
           }
          ],
          "heatmap": [
           {
            "colorbar": {
             "outlinewidth": 0,
             "ticks": ""
            },
            "colorscale": [
             [
              0,
              "#0d0887"
             ],
             [
              0.1111111111111111,
              "#46039f"
             ],
             [
              0.2222222222222222,
              "#7201a8"
             ],
             [
              0.3333333333333333,
              "#9c179e"
             ],
             [
              0.4444444444444444,
              "#bd3786"
             ],
             [
              0.5555555555555556,
              "#d8576b"
             ],
             [
              0.6666666666666666,
              "#ed7953"
             ],
             [
              0.7777777777777778,
              "#fb9f3a"
             ],
             [
              0.8888888888888888,
              "#fdca26"
             ],
             [
              1,
              "#f0f921"
             ]
            ],
            "type": "heatmap"
           }
          ],
          "heatmapgl": [
           {
            "colorbar": {
             "outlinewidth": 0,
             "ticks": ""
            },
            "colorscale": [
             [
              0,
              "#0d0887"
             ],
             [
              0.1111111111111111,
              "#46039f"
             ],
             [
              0.2222222222222222,
              "#7201a8"
             ],
             [
              0.3333333333333333,
              "#9c179e"
             ],
             [
              0.4444444444444444,
              "#bd3786"
             ],
             [
              0.5555555555555556,
              "#d8576b"
             ],
             [
              0.6666666666666666,
              "#ed7953"
             ],
             [
              0.7777777777777778,
              "#fb9f3a"
             ],
             [
              0.8888888888888888,
              "#fdca26"
             ],
             [
              1,
              "#f0f921"
             ]
            ],
            "type": "heatmapgl"
           }
          ],
          "histogram": [
           {
            "marker": {
             "colorbar": {
              "outlinewidth": 0,
              "ticks": ""
             }
            },
            "type": "histogram"
           }
          ],
          "histogram2d": [
           {
            "colorbar": {
             "outlinewidth": 0,
             "ticks": ""
            },
            "colorscale": [
             [
              0,
              "#0d0887"
             ],
             [
              0.1111111111111111,
              "#46039f"
             ],
             [
              0.2222222222222222,
              "#7201a8"
             ],
             [
              0.3333333333333333,
              "#9c179e"
             ],
             [
              0.4444444444444444,
              "#bd3786"
             ],
             [
              0.5555555555555556,
              "#d8576b"
             ],
             [
              0.6666666666666666,
              "#ed7953"
             ],
             [
              0.7777777777777778,
              "#fb9f3a"
             ],
             [
              0.8888888888888888,
              "#fdca26"
             ],
             [
              1,
              "#f0f921"
             ]
            ],
            "type": "histogram2d"
           }
          ],
          "histogram2dcontour": [
           {
            "colorbar": {
             "outlinewidth": 0,
             "ticks": ""
            },
            "colorscale": [
             [
              0,
              "#0d0887"
             ],
             [
              0.1111111111111111,
              "#46039f"
             ],
             [
              0.2222222222222222,
              "#7201a8"
             ],
             [
              0.3333333333333333,
              "#9c179e"
             ],
             [
              0.4444444444444444,
              "#bd3786"
             ],
             [
              0.5555555555555556,
              "#d8576b"
             ],
             [
              0.6666666666666666,
              "#ed7953"
             ],
             [
              0.7777777777777778,
              "#fb9f3a"
             ],
             [
              0.8888888888888888,
              "#fdca26"
             ],
             [
              1,
              "#f0f921"
             ]
            ],
            "type": "histogram2dcontour"
           }
          ],
          "mesh3d": [
           {
            "colorbar": {
             "outlinewidth": 0,
             "ticks": ""
            },
            "type": "mesh3d"
           }
          ],
          "parcoords": [
           {
            "line": {
             "colorbar": {
              "outlinewidth": 0,
              "ticks": ""
             }
            },
            "type": "parcoords"
           }
          ],
          "pie": [
           {
            "automargin": true,
            "type": "pie"
           }
          ],
          "scatter": [
           {
            "marker": {
             "colorbar": {
              "outlinewidth": 0,
              "ticks": ""
             }
            },
            "type": "scatter"
           }
          ],
          "scatter3d": [
           {
            "line": {
             "colorbar": {
              "outlinewidth": 0,
              "ticks": ""
             }
            },
            "marker": {
             "colorbar": {
              "outlinewidth": 0,
              "ticks": ""
             }
            },
            "type": "scatter3d"
           }
          ],
          "scattercarpet": [
           {
            "marker": {
             "colorbar": {
              "outlinewidth": 0,
              "ticks": ""
             }
            },
            "type": "scattercarpet"
           }
          ],
          "scattergeo": [
           {
            "marker": {
             "colorbar": {
              "outlinewidth": 0,
              "ticks": ""
             }
            },
            "type": "scattergeo"
           }
          ],
          "scattergl": [
           {
            "marker": {
             "colorbar": {
              "outlinewidth": 0,
              "ticks": ""
             }
            },
            "type": "scattergl"
           }
          ],
          "scattermapbox": [
           {
            "marker": {
             "colorbar": {
              "outlinewidth": 0,
              "ticks": ""
             }
            },
            "type": "scattermapbox"
           }
          ],
          "scatterpolar": [
           {
            "marker": {
             "colorbar": {
              "outlinewidth": 0,
              "ticks": ""
             }
            },
            "type": "scatterpolar"
           }
          ],
          "scatterpolargl": [
           {
            "marker": {
             "colorbar": {
              "outlinewidth": 0,
              "ticks": ""
             }
            },
            "type": "scatterpolargl"
           }
          ],
          "scatterternary": [
           {
            "marker": {
             "colorbar": {
              "outlinewidth": 0,
              "ticks": ""
             }
            },
            "type": "scatterternary"
           }
          ],
          "surface": [
           {
            "colorbar": {
             "outlinewidth": 0,
             "ticks": ""
            },
            "colorscale": [
             [
              0,
              "#0d0887"
             ],
             [
              0.1111111111111111,
              "#46039f"
             ],
             [
              0.2222222222222222,
              "#7201a8"
             ],
             [
              0.3333333333333333,
              "#9c179e"
             ],
             [
              0.4444444444444444,
              "#bd3786"
             ],
             [
              0.5555555555555556,
              "#d8576b"
             ],
             [
              0.6666666666666666,
              "#ed7953"
             ],
             [
              0.7777777777777778,
              "#fb9f3a"
             ],
             [
              0.8888888888888888,
              "#fdca26"
             ],
             [
              1,
              "#f0f921"
             ]
            ],
            "type": "surface"
           }
          ],
          "table": [
           {
            "cells": {
             "fill": {
              "color": "#EBF0F8"
             },
             "line": {
              "color": "white"
             }
            },
            "header": {
             "fill": {
              "color": "#C8D4E3"
             },
             "line": {
              "color": "white"
             }
            },
            "type": "table"
           }
          ]
         },
         "layout": {
          "annotationdefaults": {
           "arrowcolor": "#2a3f5f",
           "arrowhead": 0,
           "arrowwidth": 1
          },
          "autotypenumbers": "strict",
          "coloraxis": {
           "colorbar": {
            "outlinewidth": 0,
            "ticks": ""
           }
          },
          "colorscale": {
           "diverging": [
            [
             0,
             "#8e0152"
            ],
            [
             0.1,
             "#c51b7d"
            ],
            [
             0.2,
             "#de77ae"
            ],
            [
             0.3,
             "#f1b6da"
            ],
            [
             0.4,
             "#fde0ef"
            ],
            [
             0.5,
             "#f7f7f7"
            ],
            [
             0.6,
             "#e6f5d0"
            ],
            [
             0.7,
             "#b8e186"
            ],
            [
             0.8,
             "#7fbc41"
            ],
            [
             0.9,
             "#4d9221"
            ],
            [
             1,
             "#276419"
            ]
           ],
           "sequential": [
            [
             0,
             "#0d0887"
            ],
            [
             0.1111111111111111,
             "#46039f"
            ],
            [
             0.2222222222222222,
             "#7201a8"
            ],
            [
             0.3333333333333333,
             "#9c179e"
            ],
            [
             0.4444444444444444,
             "#bd3786"
            ],
            [
             0.5555555555555556,
             "#d8576b"
            ],
            [
             0.6666666666666666,
             "#ed7953"
            ],
            [
             0.7777777777777778,
             "#fb9f3a"
            ],
            [
             0.8888888888888888,
             "#fdca26"
            ],
            [
             1,
             "#f0f921"
            ]
           ],
           "sequentialminus": [
            [
             0,
             "#0d0887"
            ],
            [
             0.1111111111111111,
             "#46039f"
            ],
            [
             0.2222222222222222,
             "#7201a8"
            ],
            [
             0.3333333333333333,
             "#9c179e"
            ],
            [
             0.4444444444444444,
             "#bd3786"
            ],
            [
             0.5555555555555556,
             "#d8576b"
            ],
            [
             0.6666666666666666,
             "#ed7953"
            ],
            [
             0.7777777777777778,
             "#fb9f3a"
            ],
            [
             0.8888888888888888,
             "#fdca26"
            ],
            [
             1,
             "#f0f921"
            ]
           ]
          },
          "colorway": [
           "#636efa",
           "#EF553B",
           "#00cc96",
           "#ab63fa",
           "#FFA15A",
           "#19d3f3",
           "#FF6692",
           "#B6E880",
           "#FF97FF",
           "#FECB52"
          ],
          "font": {
           "color": "#2a3f5f"
          },
          "geo": {
           "bgcolor": "white",
           "lakecolor": "white",
           "landcolor": "#E5ECF6",
           "showlakes": true,
           "showland": true,
           "subunitcolor": "white"
          },
          "hoverlabel": {
           "align": "left"
          },
          "hovermode": "closest",
          "mapbox": {
           "style": "light"
          },
          "paper_bgcolor": "white",
          "plot_bgcolor": "#E5ECF6",
          "polar": {
           "angularaxis": {
            "gridcolor": "white",
            "linecolor": "white",
            "ticks": ""
           },
           "bgcolor": "#E5ECF6",
           "radialaxis": {
            "gridcolor": "white",
            "linecolor": "white",
            "ticks": ""
           }
          },
          "scene": {
           "xaxis": {
            "backgroundcolor": "#E5ECF6",
            "gridcolor": "white",
            "gridwidth": 2,
            "linecolor": "white",
            "showbackground": true,
            "ticks": "",
            "zerolinecolor": "white"
           },
           "yaxis": {
            "backgroundcolor": "#E5ECF6",
            "gridcolor": "white",
            "gridwidth": 2,
            "linecolor": "white",
            "showbackground": true,
            "ticks": "",
            "zerolinecolor": "white"
           },
           "zaxis": {
            "backgroundcolor": "#E5ECF6",
            "gridcolor": "white",
            "gridwidth": 2,
            "linecolor": "white",
            "showbackground": true,
            "ticks": "",
            "zerolinecolor": "white"
           }
          },
          "shapedefaults": {
           "line": {
            "color": "#2a3f5f"
           }
          },
          "ternary": {
           "aaxis": {
            "gridcolor": "white",
            "linecolor": "white",
            "ticks": ""
           },
           "baxis": {
            "gridcolor": "white",
            "linecolor": "white",
            "ticks": ""
           },
           "bgcolor": "#E5ECF6",
           "caxis": {
            "gridcolor": "white",
            "linecolor": "white",
            "ticks": ""
           }
          },
          "title": {
           "x": 0.05
          },
          "xaxis": {
           "automargin": true,
           "gridcolor": "white",
           "linecolor": "white",
           "ticks": "",
           "title": {
            "standoff": 15
           },
           "zerolinecolor": "white",
           "zerolinewidth": 2
          },
          "yaxis": {
           "automargin": true,
           "gridcolor": "white",
           "linecolor": "white",
           "ticks": "",
           "title": {
            "standoff": 15
           },
           "zerolinecolor": "white",
           "zerolinewidth": 2
          }
         }
        },
        "title": {
         "text": "Surveillance SRAS-CoV-2 via les eaux usées<br>Montréal"
        },
        "xaxis": {
         "anchor": "y",
         "domain": [
          0,
          0.94
         ],
         "dtick": 604800000,
         "gridcolor": "rgba(100,100,100,0.10)",
         "tick0": "2020-12-27",
         "tickangle": 30,
         "tickformat": "%d-%m-%Y",
         "ticks": "outside",
         "title": {
          "text": "Date"
         }
        },
        "yaxis": {
         "anchor": "x",
         "domain": [
          0,
          1
         ],
         "gridcolor": "rgba(0,0,0,0)",
         "range": [
          0,
          1250
         ],
         "side": "right",
         "title": {
          "text": "Nouveaux cas"
         }
        },
        "yaxis2": {
         "anchor": "x",
         "overlaying": "y",
         "range": [
          0,
          null
         ],
         "side": "left",
         "title": {
          "text": "SRAS-CoV-2/PMMoV"
         }
        }
       }
      }
     },
     "metadata": {}
    }
   ],
   "source": [
    "path = path_MTL\n",
    "mtl_step = pd.read_excel(path, sheet_name=\"MTL_Compil_STEP (#NA)\", usecols=\"A:N\", skiprows=4)\n",
    "mtl_step = mtl_step.rename(columns={\"Data\":\"Date\"})\n",
    "mtl_step[\"Date\"] = pd.to_datetime(mtl_step[\"Date\"])\n",
    "\n",
    "start_date = \"2021-01-01\"\n",
    "end_date = None\n",
    "points_to_remove = {\n",
    "    \"Montréal Intercepteur Nord\": {\n",
    "        \"index\": 0,\n",
    "        \"dates\": [\n",
    "            \"2021-05-03\",\n",
    "            \"2021-05-09\",\n",
    "            \n",
    "        ],\n",
    "    },\n",
    "    \"Montréal Intercepteur Sud\": {\n",
    "        \"index\": 1,\n",
    "        \"dates\": [\n",
    "            \"2021-05-03\",\n",
    "            \"2021-05-09\",\n",
    "        ],\n",
    "    },\n",
    "}\n",
    "mtl_step = remove_points(mtl_step, points_to_remove)\n",
    "\n",
    "\n",
    "norm_cols = [\"SARS/PMMV (gc/gc)\", \"SARS/PMMV (gc/gc).1\"]\n",
    "proper_names = [\"Montréal<br>Intercepteur Nord\", \"Montréal<br>Intercepteur Sud\"]\n",
    "region_name = \"Montréal\"\n",
    "proper_region_name = \"Montréal\"\n",
    "\n",
    "fig = plot(mtl_step, \"normalized\", proper_names, region_name, proper_region_name, max_value=None, start_date=start_date, end_date=end_date)\n",
    "\n",
    "fig.update_yaxes(secondary_y=False, range=[0, 1250])\n",
    "images_folder = images_folder_MTL\n",
    "fig.write_image(os.path.join(images_folder, \"Montreal-2021.png\"), width=1000, scale=3)\n",
    "fig.write_image(os.path.join(images_folder, \"Montreal-2021.svg\"), width=1000)\n",
    "fig.show()"
   ]
  },
  {
   "cell_type": "code",
   "execution_count": 15,
   "metadata": {},
   "outputs": [
    {
     "output_type": "stream",
     "name": "stderr",
     "text": [
      "C:\\Users\\ANNED2\\AppData\\Local\\Continuum\\anaconda3\\envs\\covid\\lib\\site-packages\\openpyxl\\worksheet\\_reader.py:312: UserWarning:\n\nData Validation extension is not supported and will be removed\n\n"
     ]
    },
    {
     "output_type": "display_data",
     "data": {
      "application/vnd.plotly.v1+json": {
       "config": {
        "plotlyServerURL": "https://plot.ly"
       },
       "data": [
        {
         "connectgaps": true,
         "marker": {
          "color": "#636EFA"
         },
         "mode": "lines+markers",
         "name": "Montréal<br>Intercepteur Nord",
         "type": "scatter",
         "x": [
          "2020-03-01T00:00:00",
          "2020-03-05T00:00:00",
          "2020-03-07T00:00:00",
          "2020-03-08T00:00:00",
          "2020-03-12T00:00:00",
          "2020-03-16T00:00:00",
          "2020-03-21T00:00:00",
          "2020-03-28T00:00:00",
          "2020-04-03T00:00:00",
          "2020-04-04T00:00:00",
          "2020-04-06T00:00:00",
          "2020-04-09T00:00:00",
          "2020-04-10T00:00:00",
          "2020-04-11T00:00:00",
          "2020-04-12T00:00:00",
          "2020-04-30T00:00:00",
          "2020-05-01T00:00:00",
          "2020-05-09T00:00:00",
          "2020-05-13T00:00:00",
          "2020-05-16T00:00:00",
          "2020-06-18T00:00:00",
          "2020-06-22T00:00:00",
          "2020-06-25T00:00:00",
          "2020-06-29T00:00:00",
          "2020-07-02T00:00:00",
          "2020-07-06T00:00:00",
          "2020-07-09T00:00:00",
          "2020-07-20T00:00:00",
          "2020-08-24T00:00:00",
          "2020-08-27T00:00:00",
          "2020-08-31T00:00:00",
          "2020-09-03T00:00:00",
          "2020-09-07T00:00:00",
          "2020-09-10T00:00:00",
          "2020-09-14T00:00:00",
          "2020-09-17T00:00:00",
          "2020-09-21T00:00:00",
          "2020-09-24T00:00:00",
          "2020-09-28T00:00:00",
          "2020-10-01T00:00:00",
          "2020-10-05T00:00:00",
          "2020-10-08T00:00:00",
          "2020-10-12T00:00:00",
          "2020-10-15T00:00:00",
          "2020-10-16T00:00:00",
          "2020-10-19T00:00:00",
          "2020-10-22T00:00:00",
          "2020-10-26T00:00:00",
          "2020-11-02T00:00:00",
          "2020-11-05T00:00:00",
          "2020-11-09T00:00:00",
          "2020-11-12T00:00:00",
          "2020-11-16T00:00:00",
          "2020-11-19T00:00:00",
          "2020-11-23T00:00:00",
          "2020-11-26T00:00:00",
          "2020-11-30T00:00:00",
          "2020-12-03T00:00:00",
          "2020-12-07T00:00:00",
          "2020-12-10T00:00:00",
          "2020-12-14T00:00:00",
          "2020-12-17T00:00:00",
          "2020-12-21T00:00:00",
          "2020-12-24T00:00:00",
          "2020-12-28T00:00:00",
          "2020-12-31T00:00:00",
          "2021-01-04T00:00:00",
          "2021-01-07T00:00:00",
          "2021-01-11T00:00:00",
          "2021-01-14T00:00:00",
          "2021-01-18T00:00:00",
          "2021-01-21T00:00:00",
          "2021-01-25T00:00:00",
          "2021-02-08T00:00:00",
          "2021-02-11T00:00:00",
          "2021-02-15T00:00:00",
          "2021-02-28T00:00:00",
          "2021-03-01T00:00:00",
          "2021-03-02T00:00:00",
          "2021-03-03T00:00:00",
          "2021-03-04T00:00:00",
          "2021-03-07T00:00:00",
          "2021-03-08T00:00:00",
          "2021-03-09T00:00:00",
          "2021-03-10T00:00:00",
          "2021-03-11T00:00:00",
          "2021-03-14T00:00:00",
          "2021-03-15T00:00:00",
          "2021-03-16T00:00:00",
          "2021-03-17T00:00:00",
          "2021-03-18T00:00:00",
          "2021-03-21T00:00:00",
          "2021-03-22T00:00:00",
          "2021-03-23T00:00:00",
          "2021-03-24T00:00:00",
          "2021-03-25T00:00:00",
          "2021-03-28T00:00:00",
          "2021-03-29T00:00:00",
          "2021-03-30T00:00:00",
          "2021-03-31T00:00:00",
          "2021-04-01T00:00:00",
          "2021-04-04T00:00:00",
          "2021-04-05T00:00:00",
          "2021-04-06T00:00:00",
          "2021-04-07T00:00:00",
          "2021-04-08T00:00:00",
          "2021-04-11T00:00:00",
          "2021-04-12T00:00:00",
          "2021-04-13T00:00:00",
          "2021-04-14T00:00:00",
          "2021-04-15T00:00:00",
          "2021-04-18T00:00:00",
          "2021-04-19T00:00:00",
          "2021-04-20T00:00:00",
          "2021-04-21T00:00:00",
          "2021-04-22T00:00:00",
          "2021-04-25T00:00:00",
          "2021-04-26T00:00:00",
          "2021-04-28T00:00:00",
          "2021-04-29T00:00:00",
          "2021-05-02T00:00:00",
          "2021-05-03T00:00:00",
          "2021-05-04T00:00:00",
          "2021-05-05T00:00:00",
          "2021-05-06T00:00:00",
          "2021-05-09T00:00:00",
          "2021-05-10T00:00:00"
         ],
         "xaxis": "x",
         "y": [
          0,
          0,
          0,
          0,
          0,
          0.08400664617631413,
          0.05533309474794284,
          0.6542875683768183,
          0.06866636297378212,
          1.2050204625160066,
          0.20637397831445323,
          0.0809233041946762,
          0.32195862406135733,
          0.14543856668133945,
          0.3340839561654098,
          0.054687583569705815,
          0.22152202061639223,
          0.13315139845810842,
          0.025521920811348728,
          0.07794024792799509,
          0.01713009220621505,
          0,
          0,
          0,
          0,
          0.003513708994734686,
          0,
          0,
          0.003041372820072345,
          0.002537596677036664,
          0.004624296426992335,
          0.0037849684644053693,
          0.004953695100066482,
          0.009939946243466734,
          0.04625711758490119,
          0.026135121981181755,
          0.007987419431791085,
          0.009225652168955076,
          0.014730905625709891,
          0.027353025735529377,
          0.0730045931806798,
          0.034222547209519276,
          0.021998235200617017,
          null,
          0.052174140247313136,
          0.011547421058965357,
          0.03885676609949936,
          0.011186727316521055,
          0.026676799517796678,
          0.018093437806688758,
          0.014971028990790902,
          0.008148689685211218,
          0.013833740830492032,
          0.15248791318738328,
          0.05869984291021761,
          0.09861063592127424,
          0.04941287884805514,
          0.08730116452390324,
          0.14786893451643854,
          0.09656138318585737,
          0.07335722729030998,
          0.036394700927411705,
          0.056536113657693766,
          0.16025985045999833,
          0.051283565070750096,
          0.3238852572602634,
          0.05794083581316605,
          0.08823013596360475,
          0.06676753351579462,
          0.010064111366723185,
          0.02769425334384363,
          0.027086250897623128,
          0.03572660946393324,
          0.05957561703856876,
          0.03251223262297684,
          0.0488238741031944,
          0.12113247295204502,
          0.08433885479169541,
          0.0828004539591734,
          0.09218042263662037,
          0.20118262951947366,
          0.15782212831968134,
          0.24589938478552467,
          0.06890245076619428,
          0.09711977490603305,
          0.1825902862996701,
          0.13563164981804385,
          0.07670298828233699,
          0.2592586261927231,
          0.3833177347873658,
          0.07236893716280322,
          0.06780713293737878,
          0.12201120302629474,
          0.02224666669508035,
          0.04066765860069688,
          0.028411926112139198,
          0.03175918894949483,
          0.08504227816114297,
          0.22049715708390516,
          0.01794637304455477,
          0.0407546909334026,
          0.048482038975148314,
          0.062205100581153895,
          0.0829384958469345,
          0.1329902347339899,
          0.01786509996210157,
          0.024871454825320213,
          0.013580513985203236,
          0.01789865312693525,
          0.014718937557352041,
          0.03060514436792228,
          0.040372956078236065,
          0.008081417280365372,
          0.13738845121982887,
          0.03225837841899304,
          0.0657087106901267,
          0.021683443218658366,
          0.1718547228331546,
          0.08198789170519792,
          0.06828634280544069,
          0.07830041488833767,
          0.3067928452621579,
          0.08080640429820404,
          0.12059401027039568,
          0.10546075005704796,
          0.4520390024219339,
          0.04509770028437696
         ],
         "yaxis": "y2"
        },
        {
         "connectgaps": true,
         "marker": {
          "color": "#EF553B"
         },
         "mode": "lines+markers",
         "name": "Montréal<br>Intercepteur Sud",
         "type": "scatter",
         "x": [
          "2020-03-01T00:00:00",
          "2020-03-05T00:00:00",
          "2020-03-07T00:00:00",
          "2020-03-08T00:00:00",
          "2020-03-12T00:00:00",
          "2020-03-16T00:00:00",
          "2020-03-21T00:00:00",
          "2020-03-28T00:00:00",
          "2020-04-03T00:00:00",
          "2020-04-04T00:00:00",
          "2020-04-06T00:00:00",
          "2020-04-09T00:00:00",
          "2020-04-10T00:00:00",
          "2020-04-11T00:00:00",
          "2020-04-12T00:00:00",
          "2020-04-30T00:00:00",
          "2020-05-01T00:00:00",
          "2020-05-09T00:00:00",
          "2020-05-13T00:00:00",
          "2020-05-16T00:00:00",
          "2020-06-18T00:00:00",
          "2020-06-22T00:00:00",
          "2020-06-25T00:00:00",
          "2020-06-29T00:00:00",
          "2020-07-02T00:00:00",
          "2020-07-06T00:00:00",
          "2020-07-09T00:00:00",
          "2020-07-20T00:00:00",
          "2020-08-24T00:00:00",
          "2020-08-27T00:00:00",
          "2020-08-31T00:00:00",
          "2020-09-03T00:00:00",
          "2020-09-07T00:00:00",
          "2020-09-10T00:00:00",
          "2020-09-14T00:00:00",
          "2020-09-17T00:00:00",
          "2020-09-21T00:00:00",
          "2020-09-24T00:00:00",
          "2020-09-28T00:00:00",
          "2020-10-01T00:00:00",
          "2020-10-05T00:00:00",
          "2020-10-08T00:00:00",
          "2020-10-12T00:00:00",
          "2020-10-15T00:00:00",
          "2020-10-16T00:00:00",
          "2020-10-19T00:00:00",
          "2020-10-22T00:00:00",
          "2020-10-26T00:00:00",
          "2020-11-02T00:00:00",
          "2020-11-05T00:00:00",
          "2020-11-09T00:00:00",
          "2020-11-12T00:00:00",
          "2020-11-16T00:00:00",
          "2020-11-19T00:00:00",
          "2020-11-23T00:00:00",
          "2020-11-26T00:00:00",
          "2020-11-30T00:00:00",
          "2020-12-03T00:00:00",
          "2020-12-07T00:00:00",
          "2020-12-10T00:00:00",
          "2020-12-14T00:00:00",
          "2020-12-17T00:00:00",
          "2020-12-21T00:00:00",
          "2020-12-24T00:00:00",
          "2020-12-28T00:00:00",
          "2020-12-31T00:00:00",
          "2021-01-04T00:00:00",
          "2021-01-07T00:00:00",
          "2021-01-11T00:00:00",
          "2021-01-14T00:00:00",
          "2021-01-18T00:00:00",
          "2021-01-21T00:00:00",
          "2021-01-25T00:00:00",
          "2021-02-08T00:00:00",
          "2021-02-11T00:00:00",
          "2021-02-15T00:00:00",
          "2021-02-28T00:00:00",
          "2021-03-01T00:00:00",
          "2021-03-02T00:00:00",
          "2021-03-03T00:00:00",
          "2021-03-04T00:00:00",
          "2021-03-07T00:00:00",
          "2021-03-08T00:00:00",
          "2021-03-09T00:00:00",
          "2021-03-10T00:00:00",
          "2021-03-11T00:00:00",
          "2021-03-14T00:00:00",
          "2021-03-15T00:00:00",
          "2021-03-16T00:00:00",
          "2021-03-17T00:00:00",
          "2021-03-18T00:00:00",
          "2021-03-21T00:00:00",
          "2021-03-22T00:00:00",
          "2021-03-23T00:00:00",
          "2021-03-24T00:00:00",
          "2021-03-25T00:00:00",
          "2021-03-28T00:00:00",
          "2021-03-29T00:00:00",
          "2021-03-30T00:00:00",
          "2021-03-31T00:00:00",
          "2021-04-01T00:00:00",
          "2021-04-04T00:00:00",
          "2021-04-05T00:00:00",
          "2021-04-06T00:00:00",
          "2021-04-07T00:00:00",
          "2021-04-08T00:00:00",
          "2021-04-11T00:00:00",
          "2021-04-12T00:00:00",
          "2021-04-13T00:00:00",
          "2021-04-14T00:00:00",
          "2021-04-15T00:00:00",
          "2021-04-18T00:00:00",
          "2021-04-19T00:00:00",
          "2021-04-20T00:00:00",
          "2021-04-21T00:00:00",
          "2021-04-22T00:00:00",
          "2021-04-25T00:00:00",
          "2021-04-26T00:00:00",
          "2021-04-28T00:00:00",
          "2021-04-29T00:00:00",
          "2021-05-02T00:00:00",
          "2021-05-03T00:00:00",
          "2021-05-04T00:00:00",
          "2021-05-05T00:00:00",
          "2021-05-06T00:00:00",
          "2021-05-09T00:00:00",
          "2021-05-10T00:00:00"
         ],
         "xaxis": "x",
         "y": [
          null,
          null,
          null,
          null,
          null,
          null,
          null,
          null,
          null,
          null,
          null,
          null,
          null,
          null,
          null,
          null,
          null,
          null,
          null,
          null,
          null,
          null,
          null,
          null,
          null,
          null,
          null,
          null,
          null,
          null,
          null,
          null,
          null,
          null,
          null,
          null,
          null,
          null,
          null,
          null,
          null,
          null,
          null,
          0.03790458282420956,
          null,
          null,
          0.08691397747389762,
          0.057148458504541595,
          null,
          null,
          null,
          null,
          null,
          0.02813132805375964,
          0.05664115066985384,
          0.03560339651554861,
          0.12561160188079476,
          0.08273286427978405,
          0.06642379523185286,
          0.03561619061894644,
          0.02585556272485236,
          0.07630154330390337,
          0.04122548133186499,
          0.041534367553614046,
          0.05728561355950551,
          0.16547103145189293,
          0.13835064051779808,
          0.0546603458561446,
          0.03622233745160084,
          0.007649358776348135,
          0.02158180754134772,
          0.07756810823486016,
          0.024276750592625868,
          0.029831709808309303,
          0.09728013791590971,
          0.08436451365740608,
          0.05436994075018417,
          0.2145176042823748,
          0.14934021056076127,
          0.044894657175743785,
          0.09164875248323441,
          0.10826815210527851,
          0.14286280077485347,
          0.09715051997929523,
          0.06735674020424345,
          0.060927340489034566,
          0.06990774660396387,
          0.19266184633165717,
          0.046190384628086514,
          0.264898027216766,
          0.047496540446516376,
          0.031868459491598805,
          0.047017179858227585,
          0.015445599747207916,
          0.03448650300399036,
          0.014350455232804734,
          0.019778917697623587,
          0.019112403429832753,
          0.027255792810714014,
          0.032555146242875144,
          0.019301311373834867,
          0.03435275936582607,
          0.0327438717691773,
          0.054158073493671084,
          0.06788214339956093,
          0.0050918490429475195,
          0.029450787404819625,
          0.008788853412735102,
          0.01098395143870285,
          0.008255113758429494,
          0.017247379882734497,
          0.023502506859370994,
          0.008678754598982544,
          0.07838047054167238,
          0.01723914167692176,
          0.069064714991053,
          0.027150425656809713,
          0.024087050211168626,
          0.03364066104906298,
          0.03784001347728941,
          0.021773817725224517,
          0.8466156291161681,
          0.06602436091886126,
          0.14086476751342633,
          0.10455744082216958,
          0.29613537139430696,
          0.04650798854611047
         ],
         "yaxis": "y2"
        },
        {
         "marker": {
          "color": "#00CC96",
          "opacity": 0.3
         },
         "name": "Nouveaux cas<br>journaliers",
         "type": "bar",
         "x": [
          "2020-02-29T00:00:00",
          "2020-03-01T00:00:00",
          "2020-03-02T00:00:00",
          "2020-03-03T00:00:00",
          "2020-03-04T00:00:00",
          "2020-03-05T00:00:00",
          "2020-03-06T00:00:00",
          "2020-03-07T00:00:00",
          "2020-03-08T00:00:00",
          "2020-03-09T00:00:00",
          "2020-03-10T00:00:00",
          "2020-03-11T00:00:00",
          "2020-03-12T00:00:00",
          "2020-03-13T00:00:00",
          "2020-03-14T00:00:00",
          "2020-03-15T00:00:00",
          "2020-03-16T00:00:00",
          "2020-03-17T00:00:00",
          "2020-03-18T00:00:00",
          "2020-03-19T00:00:00",
          "2020-03-20T00:00:00",
          "2020-03-21T00:00:00",
          "2020-03-22T00:00:00",
          "2020-03-23T00:00:00",
          "2020-03-24T00:00:00",
          "2020-03-25T00:00:00",
          "2020-03-26T00:00:00",
          "2020-03-27T00:00:00",
          "2020-03-28T00:00:00",
          "2020-03-29T00:00:00",
          "2020-03-30T00:00:00",
          "2020-03-31T00:00:00",
          "2020-04-01T00:00:00",
          "2020-04-02T00:00:00",
          "2020-04-03T00:00:00",
          "2020-04-04T00:00:00",
          "2020-04-05T00:00:00",
          "2020-04-06T00:00:00",
          "2020-04-07T00:00:00",
          "2020-04-08T00:00:00",
          "2020-04-09T00:00:00",
          "2020-04-10T00:00:00",
          "2020-04-11T00:00:00",
          "2020-04-12T00:00:00",
          "2020-04-13T00:00:00",
          "2020-04-14T00:00:00",
          "2020-04-15T00:00:00",
          "2020-04-16T00:00:00",
          "2020-04-17T00:00:00",
          "2020-04-18T00:00:00",
          "2020-04-19T00:00:00",
          "2020-04-20T00:00:00",
          "2020-04-21T00:00:00",
          "2020-04-22T00:00:00",
          "2020-04-23T00:00:00",
          "2020-04-24T00:00:00",
          "2020-04-25T00:00:00",
          "2020-04-26T00:00:00",
          "2020-04-27T00:00:00",
          "2020-04-28T00:00:00",
          "2020-04-29T00:00:00",
          "2020-04-30T00:00:00",
          "2020-05-01T00:00:00",
          "2020-05-02T00:00:00",
          "2020-05-03T00:00:00",
          "2020-05-04T00:00:00",
          "2020-05-05T00:00:00",
          "2020-05-06T00:00:00",
          "2020-05-07T00:00:00",
          "2020-05-08T00:00:00",
          "2020-05-09T00:00:00",
          "2020-05-10T00:00:00",
          "2020-05-11T00:00:00",
          "2020-05-12T00:00:00",
          "2020-05-13T00:00:00",
          "2020-05-14T00:00:00",
          "2020-05-15T00:00:00",
          "2020-05-16T00:00:00",
          "2020-05-17T00:00:00",
          "2020-05-18T00:00:00",
          "2020-05-19T00:00:00",
          "2020-05-20T00:00:00",
          "2020-05-21T00:00:00",
          "2020-05-22T00:00:00",
          "2020-05-23T00:00:00",
          "2020-05-24T00:00:00",
          "2020-05-25T00:00:00",
          "2020-05-26T00:00:00",
          "2020-05-27T00:00:00",
          "2020-05-28T00:00:00",
          "2020-05-29T00:00:00",
          "2020-05-30T00:00:00",
          "2020-05-31T00:00:00",
          "2020-06-01T00:00:00",
          "2020-06-02T00:00:00",
          "2020-06-03T00:00:00",
          "2020-06-04T00:00:00",
          "2020-06-05T00:00:00",
          "2020-06-06T00:00:00",
          "2020-06-07T00:00:00",
          "2020-06-08T00:00:00",
          "2020-06-09T00:00:00",
          "2020-06-10T00:00:00",
          "2020-06-11T00:00:00",
          "2020-06-12T00:00:00",
          "2020-06-13T00:00:00",
          "2020-06-14T00:00:00",
          "2020-06-15T00:00:00",
          "2020-06-16T00:00:00",
          "2020-06-17T00:00:00",
          "2020-06-18T00:00:00",
          "2020-06-19T00:00:00",
          "2020-06-20T00:00:00",
          "2020-06-21T00:00:00",
          "2020-06-22T00:00:00",
          "2020-06-23T00:00:00",
          "2020-06-24T00:00:00",
          "2020-06-25T00:00:00",
          "2020-06-26T00:00:00",
          "2020-06-27T00:00:00",
          "2020-06-28T00:00:00",
          "2020-06-29T00:00:00",
          "2020-06-30T00:00:00",
          "2020-07-01T00:00:00",
          "2020-07-02T00:00:00",
          "2020-07-03T00:00:00",
          "2020-07-04T00:00:00",
          "2020-07-05T00:00:00",
          "2020-07-06T00:00:00",
          "2020-07-07T00:00:00",
          "2020-07-08T00:00:00",
          "2020-07-09T00:00:00",
          "2020-07-10T00:00:00",
          "2020-07-11T00:00:00",
          "2020-07-12T00:00:00",
          "2020-07-13T00:00:00",
          "2020-07-14T00:00:00",
          "2020-07-15T00:00:00",
          "2020-07-16T00:00:00",
          "2020-07-17T00:00:00",
          "2020-07-18T00:00:00",
          "2020-07-19T00:00:00",
          "2020-07-20T00:00:00",
          "2020-07-21T00:00:00",
          "2020-07-22T00:00:00",
          "2020-07-23T00:00:00",
          "2020-07-24T00:00:00",
          "2020-07-25T00:00:00",
          "2020-07-26T00:00:00",
          "2020-07-27T00:00:00",
          "2020-07-28T00:00:00",
          "2020-07-29T00:00:00",
          "2020-07-30T00:00:00",
          "2020-07-31T00:00:00",
          "2020-08-01T00:00:00",
          "2020-08-02T00:00:00",
          "2020-08-03T00:00:00",
          "2020-08-04T00:00:00",
          "2020-08-05T00:00:00",
          "2020-08-06T00:00:00",
          "2020-08-07T00:00:00",
          "2020-08-08T00:00:00",
          "2020-08-09T00:00:00",
          "2020-08-10T00:00:00",
          "2020-08-11T00:00:00",
          "2020-08-12T00:00:00",
          "2020-08-13T00:00:00",
          "2020-08-14T00:00:00",
          "2020-08-15T00:00:00",
          "2020-08-16T00:00:00",
          "2020-08-17T00:00:00",
          "2020-08-18T00:00:00",
          "2020-08-19T00:00:00",
          "2020-08-20T00:00:00",
          "2020-08-21T00:00:00",
          "2020-08-22T00:00:00",
          "2020-08-23T00:00:00",
          "2020-08-24T00:00:00",
          "2020-08-25T00:00:00",
          "2020-08-26T00:00:00",
          "2020-08-27T00:00:00",
          "2020-08-28T00:00:00",
          "2020-08-29T00:00:00",
          "2020-08-30T00:00:00",
          "2020-08-31T00:00:00",
          "2020-09-01T00:00:00",
          "2020-09-02T00:00:00",
          "2020-09-03T00:00:00",
          "2020-09-04T00:00:00",
          "2020-09-05T00:00:00",
          "2020-09-06T00:00:00",
          "2020-09-07T00:00:00",
          "2020-09-08T00:00:00",
          "2020-09-09T00:00:00",
          "2020-09-10T00:00:00",
          "2020-09-11T00:00:00",
          "2020-09-12T00:00:00",
          "2020-09-13T00:00:00",
          "2020-09-14T00:00:00",
          "2020-09-15T00:00:00",
          "2020-09-16T00:00:00",
          "2020-09-17T00:00:00",
          "2020-09-18T00:00:00",
          "2020-09-19T00:00:00",
          "2020-09-20T00:00:00",
          "2020-09-21T00:00:00",
          "2020-09-22T00:00:00",
          "2020-09-23T00:00:00",
          "2020-09-24T00:00:00",
          "2020-09-25T00:00:00",
          "2020-09-26T00:00:00",
          "2020-09-27T00:00:00",
          "2020-09-28T00:00:00",
          "2020-09-29T00:00:00",
          "2020-09-30T00:00:00",
          "2020-10-01T00:00:00",
          "2020-10-02T00:00:00",
          "2020-10-03T00:00:00",
          "2020-10-04T00:00:00",
          "2020-10-05T00:00:00",
          "2020-10-06T00:00:00",
          "2020-10-07T00:00:00",
          "2020-10-08T00:00:00",
          "2020-10-09T00:00:00",
          "2020-10-10T00:00:00",
          "2020-10-11T00:00:00",
          "2020-10-12T00:00:00",
          "2020-10-13T00:00:00",
          "2020-10-14T00:00:00",
          "2020-10-15T00:00:00",
          "2020-10-16T00:00:00",
          "2020-10-17T00:00:00",
          "2020-10-18T00:00:00",
          "2020-10-19T00:00:00",
          "2020-10-20T00:00:00",
          "2020-10-21T00:00:00",
          "2020-10-22T00:00:00",
          "2020-10-23T00:00:00",
          "2020-10-24T00:00:00",
          "2020-10-25T00:00:00",
          "2020-10-26T00:00:00",
          "2020-10-27T00:00:00",
          "2020-10-28T00:00:00",
          "2020-10-29T00:00:00",
          "2020-10-30T00:00:00",
          "2020-10-31T00:00:00",
          "2020-11-01T00:00:00",
          "2020-11-02T00:00:00",
          "2020-11-03T00:00:00",
          "2020-11-04T00:00:00",
          "2020-11-05T00:00:00",
          "2020-11-06T00:00:00",
          "2020-11-07T00:00:00",
          "2020-11-08T00:00:00",
          "2020-11-09T00:00:00",
          "2020-11-10T00:00:00",
          "2020-11-11T00:00:00",
          "2020-11-12T00:00:00",
          "2020-11-13T00:00:00",
          "2020-11-14T00:00:00",
          "2020-11-15T00:00:00",
          "2020-11-16T00:00:00",
          "2020-11-17T00:00:00",
          "2020-11-18T00:00:00",
          "2020-11-19T00:00:00",
          "2020-11-20T00:00:00",
          "2020-11-21T00:00:00",
          "2020-11-22T00:00:00",
          "2020-11-23T00:00:00",
          "2020-11-24T00:00:00",
          "2020-11-25T00:00:00",
          "2020-11-26T00:00:00",
          "2020-11-27T00:00:00",
          "2020-11-28T00:00:00",
          "2020-11-29T00:00:00",
          "2020-11-30T00:00:00",
          "2020-12-01T00:00:00",
          "2020-12-02T00:00:00",
          "2020-12-03T00:00:00",
          "2020-12-04T00:00:00",
          "2020-12-05T00:00:00",
          "2020-12-06T00:00:00",
          "2020-12-07T00:00:00",
          "2020-12-08T00:00:00",
          "2020-12-09T00:00:00",
          "2020-12-10T00:00:00",
          "2020-12-11T00:00:00",
          "2020-12-12T00:00:00",
          "2020-12-13T00:00:00",
          "2020-12-14T00:00:00",
          "2020-12-15T00:00:00",
          "2020-12-16T00:00:00",
          "2020-12-17T00:00:00",
          "2020-12-18T00:00:00",
          "2020-12-19T00:00:00",
          "2020-12-20T00:00:00",
          "2020-12-21T00:00:00",
          "2020-12-22T00:00:00",
          "2020-12-23T00:00:00",
          "2020-12-24T00:00:00",
          "2020-12-25T00:00:00",
          "2020-12-26T00:00:00",
          "2020-12-27T00:00:00",
          "2020-12-28T00:00:00",
          "2020-12-29T00:00:00",
          "2020-12-30T00:00:00",
          "2020-12-31T00:00:00",
          "2021-01-01T00:00:00",
          "2021-01-02T00:00:00",
          "2021-01-03T00:00:00",
          "2021-01-04T00:00:00",
          "2021-01-05T00:00:00",
          "2021-01-06T00:00:00",
          "2021-01-07T00:00:00",
          "2021-01-08T00:00:00",
          "2021-01-09T00:00:00",
          "2021-01-10T00:00:00",
          "2021-01-11T00:00:00",
          "2021-01-12T00:00:00",
          "2021-01-13T00:00:00",
          "2021-01-14T00:00:00",
          "2021-01-15T00:00:00",
          "2021-01-16T00:00:00",
          "2021-01-17T00:00:00",
          "2021-01-18T00:00:00",
          "2021-01-19T00:00:00",
          "2021-01-20T00:00:00",
          "2021-01-21T00:00:00",
          "2021-01-22T00:00:00",
          "2021-01-23T00:00:00",
          "2021-01-24T00:00:00",
          "2021-01-25T00:00:00",
          "2021-01-26T00:00:00",
          "2021-01-27T00:00:00",
          "2021-01-28T00:00:00",
          "2021-01-29T00:00:00",
          "2021-01-30T00:00:00",
          "2021-01-31T00:00:00",
          "2021-02-01T00:00:00",
          "2021-02-02T00:00:00",
          "2021-02-03T00:00:00",
          "2021-02-04T00:00:00",
          "2021-02-05T00:00:00",
          "2021-02-06T00:00:00",
          "2021-02-07T00:00:00",
          "2021-02-08T00:00:00",
          "2021-02-09T00:00:00",
          "2021-02-10T00:00:00",
          "2021-02-11T00:00:00",
          "2021-02-12T00:00:00",
          "2021-02-13T00:00:00",
          "2021-02-14T00:00:00",
          "2021-02-15T00:00:00",
          "2021-02-16T00:00:00",
          "2021-02-17T00:00:00",
          "2021-02-18T00:00:00",
          "2021-02-19T00:00:00",
          "2021-02-20T00:00:00",
          "2021-02-21T00:00:00",
          "2021-02-22T00:00:00",
          "2021-02-23T00:00:00",
          "2021-02-24T00:00:00",
          "2021-02-25T00:00:00",
          "2021-02-26T00:00:00",
          "2021-02-27T00:00:00",
          "2021-02-28T00:00:00",
          "2021-03-01T00:00:00",
          "2021-03-02T00:00:00",
          "2021-03-03T00:00:00",
          "2021-03-04T00:00:00",
          "2021-03-05T00:00:00",
          "2021-03-06T00:00:00",
          "2021-03-07T00:00:00",
          "2021-03-08T00:00:00",
          "2021-03-09T00:00:00",
          "2021-03-10T00:00:00",
          "2021-03-11T00:00:00",
          "2021-03-12T00:00:00",
          "2021-03-13T00:00:00",
          "2021-03-14T00:00:00",
          "2021-03-15T00:00:00",
          "2021-03-16T00:00:00",
          "2021-03-17T00:00:00",
          "2021-03-18T00:00:00",
          "2021-03-19T00:00:00",
          "2021-03-20T00:00:00",
          "2021-03-21T00:00:00",
          "2021-03-22T00:00:00",
          "2021-03-23T00:00:00",
          "2021-03-24T00:00:00",
          "2021-03-25T00:00:00",
          "2021-03-26T00:00:00",
          "2021-03-27T00:00:00",
          "2021-03-28T00:00:00",
          "2021-03-29T00:00:00",
          "2021-03-30T00:00:00",
          "2021-03-31T00:00:00",
          "2021-04-01T00:00:00",
          "2021-04-02T00:00:00",
          "2021-04-03T00:00:00",
          "2021-04-04T00:00:00",
          "2021-04-05T00:00:00",
          "2021-04-06T00:00:00",
          "2021-04-07T00:00:00",
          "2021-04-08T00:00:00",
          "2021-04-09T00:00:00",
          "2021-04-10T00:00:00",
          "2021-04-11T00:00:00",
          "2021-04-12T00:00:00",
          "2021-04-13T00:00:00",
          "2021-04-14T00:00:00",
          "2021-04-15T00:00:00",
          "2021-04-16T00:00:00",
          "2021-04-17T00:00:00",
          "2021-04-18T00:00:00",
          "2021-04-19T00:00:00",
          "2021-04-20T00:00:00",
          "2021-04-21T00:00:00",
          "2021-04-22T00:00:00",
          "2021-04-23T00:00:00",
          "2021-04-24T00:00:00",
          "2021-04-25T00:00:00",
          "2021-04-26T00:00:00",
          "2021-04-27T00:00:00",
          "2021-04-28T00:00:00",
          "2021-04-29T00:00:00",
          "2021-04-30T00:00:00",
          "2021-05-01T00:00:00",
          "2021-05-02T00:00:00",
          "2021-05-03T00:00:00",
          "2021-05-04T00:00:00",
          "2021-05-05T00:00:00",
          "2021-05-06T00:00:00",
          "2021-05-07T00:00:00",
          "2021-05-08T00:00:00",
          "2021-05-09T00:00:00",
          "2021-05-10T00:00:00",
          "2021-05-11T00:00:00",
          "2021-05-12T00:00:00",
          "2021-05-13T00:00:00",
          "2021-05-14T00:00:00",
          "2021-05-15T00:00:00",
          "2021-05-16T00:00:00",
          "2021-05-17T00:00:00",
          "2021-05-18T00:00:00"
         ],
         "xaxis": "x",
         "y": [
          0,
          0,
          1,
          2,
          0,
          0,
          0,
          0,
          0,
          1,
          1,
          2,
          3,
          3,
          2,
          5,
          6,
          5,
          7,
          6,
          35,
          49,
          91,
          88,
          132,
          145,
          184,
          179,
          239,
          198,
          258,
          264,
          329,
          303,
          408,
          347,
          340,
          258,
          455,
          421,
          372,
          350,
          305,
          261,
          327,
          542,
          468,
          612,
          496,
          568,
          330,
          428,
          480,
          456,
          529,
          526,
          491,
          312,
          282,
          461,
          470,
          517,
          587,
          613,
          525,
          344,
          419,
          466,
          568,
          429,
          427,
          311,
          297,
          362,
          426,
          398,
          352,
          343,
          271,
          341,
          330,
          319,
          405,
          376,
          256,
          216,
          216,
          203,
          239,
          252,
          193,
          192,
          205,
          140,
          155,
          97,
          114,
          125,
          109,
          105,
          75,
          51,
          78,
          67,
          66,
          71,
          66,
          28,
          56,
          74,
          53,
          48,
          64,
          33,
          27,
          41,
          40,
          29,
          45,
          42,
          30,
          18,
          16,
          39,
          23,
          16,
          17,
          16,
          7,
          16,
          21,
          33,
          52,
          48,
          22,
          13,
          75,
          64,
          69,
          66,
          99,
          97,
          55,
          37,
          61,
          78,
          94,
          69,
          34,
          52,
          33,
          36,
          68,
          58,
          57,
          50,
          31,
          45,
          65,
          46,
          21,
          46,
          35,
          37,
          34,
          36,
          35,
          38,
          29,
          14,
          12,
          17,
          17,
          22,
          34,
          32,
          19,
          21,
          8,
          29,
          41,
          43,
          25,
          54,
          14,
          32,
          36,
          36,
          72,
          49,
          63,
          57,
          50,
          71,
          69,
          90,
          107,
          71,
          97,
          71,
          92,
          79,
          70,
          197,
          141,
          200,
          139,
          168,
          254,
          234,
          286,
          352,
          273,
          281,
          355,
          316,
          311,
          416,
          365,
          298,
          277,
          254,
          301,
          346,
          283,
          193,
          325,
          267,
          200,
          269,
          254,
          262,
          270,
          190,
          241,
          254,
          288,
          221,
          243,
          166,
          219,
          355,
          242,
          211,
          217,
          195,
          236,
          234,
          193,
          239,
          241,
          324,
          263,
          270,
          272,
          267,
          319,
          345,
          282,
          327,
          302,
          275,
          304,
          238,
          229,
          281,
          252,
          260,
          297,
          276,
          243,
          297,
          345,
          413,
          444,
          363,
          335,
          414,
          457,
          445,
          496,
          518,
          483,
          461,
          524,
          580,
          542,
          639,
          727,
          563,
          672,
          554,
          696,
          928,
          806,
          691,
          647,
          748,
          755,
          698,
          867,
          938,
          748,
          801,
          835,
          997,
          928,
          741,
          1218,
          924,
          788,
          767,
          816,
          1084,
          1272,
          1040,
          818,
          776,
          558,
          858,
          728,
          811,
          713,
          876,
          579,
          463,
          630,
          666,
          761,
          606,
          559,
          424,
          501,
          590,
          454,
          573,
          495,
          551,
          388,
          468,
          557,
          481,
          522,
          545,
          509,
          406,
          329,
          449,
          551,
          473,
          476,
          338,
          349,
          318,
          409,
          327,
          372,
          395,
          384,
          401,
          256,
          419,
          408,
          387,
          396,
          320,
          248,
          257,
          390,
          303,
          376,
          280,
          399,
          266,
          260,
          390,
          315,
          364,
          387,
          279,
          266,
          245,
          335,
          312,
          352,
          319,
          266,
          308,
          228,
          335,
          369,
          354,
          360,
          307,
          258,
          303,
          374,
          398,
          359,
          385,
          355,
          299,
          294,
          309,
          404,
          395,
          515,
          298,
          377,
          264,
          375,
          354,
          432,
          366,
          352,
          219,
          253,
          276,
          311,
          316,
          228,
          340,
          201,
          245,
          291,
          312,
          344,
          325,
          264,
          211,
          229,
          238,
          202,
          261,
          281,
          213,
          198,
          188,
          263,
          261,
          288,
          246,
          206,
          190,
          98
         ],
         "yaxis": "y"
        }
       ],
       "layout": {
        "images": [
         {
          "sizex": 0.5,
          "sizey": 0.25,
          "source": "../Data/images/Website_graph_logos.png",
          "x": 1.125,
          "xanchor": "right",
          "xref": "paper",
          "y": 1,
          "yanchor": "bottom",
          "yref": "paper"
         }
        ],
        "legend": {
         "orientation": "h",
         "x": 0,
         "xanchor": "left",
         "y": 1.1,
         "yanchor": "top"
        },
        "plot_bgcolor": "white",
        "template": {
         "data": {
          "bar": [
           {
            "error_x": {
             "color": "#2a3f5f"
            },
            "error_y": {
             "color": "#2a3f5f"
            },
            "marker": {
             "line": {
              "color": "#E5ECF6",
              "width": 0.5
             }
            },
            "type": "bar"
           }
          ],
          "barpolar": [
           {
            "marker": {
             "line": {
              "color": "#E5ECF6",
              "width": 0.5
             }
            },
            "type": "barpolar"
           }
          ],
          "carpet": [
           {
            "aaxis": {
             "endlinecolor": "#2a3f5f",
             "gridcolor": "white",
             "linecolor": "white",
             "minorgridcolor": "white",
             "startlinecolor": "#2a3f5f"
            },
            "baxis": {
             "endlinecolor": "#2a3f5f",
             "gridcolor": "white",
             "linecolor": "white",
             "minorgridcolor": "white",
             "startlinecolor": "#2a3f5f"
            },
            "type": "carpet"
           }
          ],
          "choropleth": [
           {
            "colorbar": {
             "outlinewidth": 0,
             "ticks": ""
            },
            "type": "choropleth"
           }
          ],
          "contour": [
           {
            "colorbar": {
             "outlinewidth": 0,
             "ticks": ""
            },
            "colorscale": [
             [
              0,
              "#0d0887"
             ],
             [
              0.1111111111111111,
              "#46039f"
             ],
             [
              0.2222222222222222,
              "#7201a8"
             ],
             [
              0.3333333333333333,
              "#9c179e"
             ],
             [
              0.4444444444444444,
              "#bd3786"
             ],
             [
              0.5555555555555556,
              "#d8576b"
             ],
             [
              0.6666666666666666,
              "#ed7953"
             ],
             [
              0.7777777777777778,
              "#fb9f3a"
             ],
             [
              0.8888888888888888,
              "#fdca26"
             ],
             [
              1,
              "#f0f921"
             ]
            ],
            "type": "contour"
           }
          ],
          "contourcarpet": [
           {
            "colorbar": {
             "outlinewidth": 0,
             "ticks": ""
            },
            "type": "contourcarpet"
           }
          ],
          "heatmap": [
           {
            "colorbar": {
             "outlinewidth": 0,
             "ticks": ""
            },
            "colorscale": [
             [
              0,
              "#0d0887"
             ],
             [
              0.1111111111111111,
              "#46039f"
             ],
             [
              0.2222222222222222,
              "#7201a8"
             ],
             [
              0.3333333333333333,
              "#9c179e"
             ],
             [
              0.4444444444444444,
              "#bd3786"
             ],
             [
              0.5555555555555556,
              "#d8576b"
             ],
             [
              0.6666666666666666,
              "#ed7953"
             ],
             [
              0.7777777777777778,
              "#fb9f3a"
             ],
             [
              0.8888888888888888,
              "#fdca26"
             ],
             [
              1,
              "#f0f921"
             ]
            ],
            "type": "heatmap"
           }
          ],
          "heatmapgl": [
           {
            "colorbar": {
             "outlinewidth": 0,
             "ticks": ""
            },
            "colorscale": [
             [
              0,
              "#0d0887"
             ],
             [
              0.1111111111111111,
              "#46039f"
             ],
             [
              0.2222222222222222,
              "#7201a8"
             ],
             [
              0.3333333333333333,
              "#9c179e"
             ],
             [
              0.4444444444444444,
              "#bd3786"
             ],
             [
              0.5555555555555556,
              "#d8576b"
             ],
             [
              0.6666666666666666,
              "#ed7953"
             ],
             [
              0.7777777777777778,
              "#fb9f3a"
             ],
             [
              0.8888888888888888,
              "#fdca26"
             ],
             [
              1,
              "#f0f921"
             ]
            ],
            "type": "heatmapgl"
           }
          ],
          "histogram": [
           {
            "marker": {
             "colorbar": {
              "outlinewidth": 0,
              "ticks": ""
             }
            },
            "type": "histogram"
           }
          ],
          "histogram2d": [
           {
            "colorbar": {
             "outlinewidth": 0,
             "ticks": ""
            },
            "colorscale": [
             [
              0,
              "#0d0887"
             ],
             [
              0.1111111111111111,
              "#46039f"
             ],
             [
              0.2222222222222222,
              "#7201a8"
             ],
             [
              0.3333333333333333,
              "#9c179e"
             ],
             [
              0.4444444444444444,
              "#bd3786"
             ],
             [
              0.5555555555555556,
              "#d8576b"
             ],
             [
              0.6666666666666666,
              "#ed7953"
             ],
             [
              0.7777777777777778,
              "#fb9f3a"
             ],
             [
              0.8888888888888888,
              "#fdca26"
             ],
             [
              1,
              "#f0f921"
             ]
            ],
            "type": "histogram2d"
           }
          ],
          "histogram2dcontour": [
           {
            "colorbar": {
             "outlinewidth": 0,
             "ticks": ""
            },
            "colorscale": [
             [
              0,
              "#0d0887"
             ],
             [
              0.1111111111111111,
              "#46039f"
             ],
             [
              0.2222222222222222,
              "#7201a8"
             ],
             [
              0.3333333333333333,
              "#9c179e"
             ],
             [
              0.4444444444444444,
              "#bd3786"
             ],
             [
              0.5555555555555556,
              "#d8576b"
             ],
             [
              0.6666666666666666,
              "#ed7953"
             ],
             [
              0.7777777777777778,
              "#fb9f3a"
             ],
             [
              0.8888888888888888,
              "#fdca26"
             ],
             [
              1,
              "#f0f921"
             ]
            ],
            "type": "histogram2dcontour"
           }
          ],
          "mesh3d": [
           {
            "colorbar": {
             "outlinewidth": 0,
             "ticks": ""
            },
            "type": "mesh3d"
           }
          ],
          "parcoords": [
           {
            "line": {
             "colorbar": {
              "outlinewidth": 0,
              "ticks": ""
             }
            },
            "type": "parcoords"
           }
          ],
          "pie": [
           {
            "automargin": true,
            "type": "pie"
           }
          ],
          "scatter": [
           {
            "marker": {
             "colorbar": {
              "outlinewidth": 0,
              "ticks": ""
             }
            },
            "type": "scatter"
           }
          ],
          "scatter3d": [
           {
            "line": {
             "colorbar": {
              "outlinewidth": 0,
              "ticks": ""
             }
            },
            "marker": {
             "colorbar": {
              "outlinewidth": 0,
              "ticks": ""
             }
            },
            "type": "scatter3d"
           }
          ],
          "scattercarpet": [
           {
            "marker": {
             "colorbar": {
              "outlinewidth": 0,
              "ticks": ""
             }
            },
            "type": "scattercarpet"
           }
          ],
          "scattergeo": [
           {
            "marker": {
             "colorbar": {
              "outlinewidth": 0,
              "ticks": ""
             }
            },
            "type": "scattergeo"
           }
          ],
          "scattergl": [
           {
            "marker": {
             "colorbar": {
              "outlinewidth": 0,
              "ticks": ""
             }
            },
            "type": "scattergl"
           }
          ],
          "scattermapbox": [
           {
            "marker": {
             "colorbar": {
              "outlinewidth": 0,
              "ticks": ""
             }
            },
            "type": "scattermapbox"
           }
          ],
          "scatterpolar": [
           {
            "marker": {
             "colorbar": {
              "outlinewidth": 0,
              "ticks": ""
             }
            },
            "type": "scatterpolar"
           }
          ],
          "scatterpolargl": [
           {
            "marker": {
             "colorbar": {
              "outlinewidth": 0,
              "ticks": ""
             }
            },
            "type": "scatterpolargl"
           }
          ],
          "scatterternary": [
           {
            "marker": {
             "colorbar": {
              "outlinewidth": 0,
              "ticks": ""
             }
            },
            "type": "scatterternary"
           }
          ],
          "surface": [
           {
            "colorbar": {
             "outlinewidth": 0,
             "ticks": ""
            },
            "colorscale": [
             [
              0,
              "#0d0887"
             ],
             [
              0.1111111111111111,
              "#46039f"
             ],
             [
              0.2222222222222222,
              "#7201a8"
             ],
             [
              0.3333333333333333,
              "#9c179e"
             ],
             [
              0.4444444444444444,
              "#bd3786"
             ],
             [
              0.5555555555555556,
              "#d8576b"
             ],
             [
              0.6666666666666666,
              "#ed7953"
             ],
             [
              0.7777777777777778,
              "#fb9f3a"
             ],
             [
              0.8888888888888888,
              "#fdca26"
             ],
             [
              1,
              "#f0f921"
             ]
            ],
            "type": "surface"
           }
          ],
          "table": [
           {
            "cells": {
             "fill": {
              "color": "#EBF0F8"
             },
             "line": {
              "color": "white"
             }
            },
            "header": {
             "fill": {
              "color": "#C8D4E3"
             },
             "line": {
              "color": "white"
             }
            },
            "type": "table"
           }
          ]
         },
         "layout": {
          "annotationdefaults": {
           "arrowcolor": "#2a3f5f",
           "arrowhead": 0,
           "arrowwidth": 1
          },
          "autotypenumbers": "strict",
          "coloraxis": {
           "colorbar": {
            "outlinewidth": 0,
            "ticks": ""
           }
          },
          "colorscale": {
           "diverging": [
            [
             0,
             "#8e0152"
            ],
            [
             0.1,
             "#c51b7d"
            ],
            [
             0.2,
             "#de77ae"
            ],
            [
             0.3,
             "#f1b6da"
            ],
            [
             0.4,
             "#fde0ef"
            ],
            [
             0.5,
             "#f7f7f7"
            ],
            [
             0.6,
             "#e6f5d0"
            ],
            [
             0.7,
             "#b8e186"
            ],
            [
             0.8,
             "#7fbc41"
            ],
            [
             0.9,
             "#4d9221"
            ],
            [
             1,
             "#276419"
            ]
           ],
           "sequential": [
            [
             0,
             "#0d0887"
            ],
            [
             0.1111111111111111,
             "#46039f"
            ],
            [
             0.2222222222222222,
             "#7201a8"
            ],
            [
             0.3333333333333333,
             "#9c179e"
            ],
            [
             0.4444444444444444,
             "#bd3786"
            ],
            [
             0.5555555555555556,
             "#d8576b"
            ],
            [
             0.6666666666666666,
             "#ed7953"
            ],
            [
             0.7777777777777778,
             "#fb9f3a"
            ],
            [
             0.8888888888888888,
             "#fdca26"
            ],
            [
             1,
             "#f0f921"
            ]
           ],
           "sequentialminus": [
            [
             0,
             "#0d0887"
            ],
            [
             0.1111111111111111,
             "#46039f"
            ],
            [
             0.2222222222222222,
             "#7201a8"
            ],
            [
             0.3333333333333333,
             "#9c179e"
            ],
            [
             0.4444444444444444,
             "#bd3786"
            ],
            [
             0.5555555555555556,
             "#d8576b"
            ],
            [
             0.6666666666666666,
             "#ed7953"
            ],
            [
             0.7777777777777778,
             "#fb9f3a"
            ],
            [
             0.8888888888888888,
             "#fdca26"
            ],
            [
             1,
             "#f0f921"
            ]
           ]
          },
          "colorway": [
           "#636efa",
           "#EF553B",
           "#00cc96",
           "#ab63fa",
           "#FFA15A",
           "#19d3f3",
           "#FF6692",
           "#B6E880",
           "#FF97FF",
           "#FECB52"
          ],
          "font": {
           "color": "#2a3f5f"
          },
          "geo": {
           "bgcolor": "white",
           "lakecolor": "white",
           "landcolor": "#E5ECF6",
           "showlakes": true,
           "showland": true,
           "subunitcolor": "white"
          },
          "hoverlabel": {
           "align": "left"
          },
          "hovermode": "closest",
          "mapbox": {
           "style": "light"
          },
          "paper_bgcolor": "white",
          "plot_bgcolor": "#E5ECF6",
          "polar": {
           "angularaxis": {
            "gridcolor": "white",
            "linecolor": "white",
            "ticks": ""
           },
           "bgcolor": "#E5ECF6",
           "radialaxis": {
            "gridcolor": "white",
            "linecolor": "white",
            "ticks": ""
           }
          },
          "scene": {
           "xaxis": {
            "backgroundcolor": "#E5ECF6",
            "gridcolor": "white",
            "gridwidth": 2,
            "linecolor": "white",
            "showbackground": true,
            "ticks": "",
            "zerolinecolor": "white"
           },
           "yaxis": {
            "backgroundcolor": "#E5ECF6",
            "gridcolor": "white",
            "gridwidth": 2,
            "linecolor": "white",
            "showbackground": true,
            "ticks": "",
            "zerolinecolor": "white"
           },
           "zaxis": {
            "backgroundcolor": "#E5ECF6",
            "gridcolor": "white",
            "gridwidth": 2,
            "linecolor": "white",
            "showbackground": true,
            "ticks": "",
            "zerolinecolor": "white"
           }
          },
          "shapedefaults": {
           "line": {
            "color": "#2a3f5f"
           }
          },
          "ternary": {
           "aaxis": {
            "gridcolor": "white",
            "linecolor": "white",
            "ticks": ""
           },
           "baxis": {
            "gridcolor": "white",
            "linecolor": "white",
            "ticks": ""
           },
           "bgcolor": "#E5ECF6",
           "caxis": {
            "gridcolor": "white",
            "linecolor": "white",
            "ticks": ""
           }
          },
          "title": {
           "x": 0.05
          },
          "xaxis": {
           "automargin": true,
           "gridcolor": "white",
           "linecolor": "white",
           "ticks": "",
           "title": {
            "standoff": 15
           },
           "zerolinecolor": "white",
           "zerolinewidth": 2
          },
          "yaxis": {
           "automargin": true,
           "gridcolor": "white",
           "linecolor": "white",
           "ticks": "",
           "title": {
            "standoff": 15
           },
           "zerolinecolor": "white",
           "zerolinewidth": 2
          }
         }
        },
        "title": {
         "text": "Surveillance SRAS-CoV-2 via les eaux usées<br>Montréal"
        },
        "xaxis": {
         "anchor": "y",
         "domain": [
          0,
          0.94
         ],
         "dtick": "M1",
         "gridcolor": "rgba(100,100,100,0.10)",
         "tick0": "2020-01-01",
         "tickangle": 30,
         "tickformat": "%d-%m-%Y",
         "ticks": "outside",
         "title": {
          "text": "Date"
         }
        },
        "yaxis": {
         "anchor": "x",
         "domain": [
          0,
          1
         ],
         "gridcolor": "rgba(0,0,0,0)",
         "range": [
          0,
          1250
         ],
         "side": "right",
         "title": {
          "text": "Nouveaux cas"
         }
        },
        "yaxis2": {
         "anchor": "x",
         "overlaying": "y",
         "range": [
          0,
          1.35
         ],
         "side": "left",
         "title": {
          "text": "SRAS-CoV-2/PMMoV"
         }
        }
       }
      }
     },
     "metadata": {}
    }
   ],
   "source": [
    "path = path_MTL\n",
    "mtl_step = pd.read_excel(path, sheet_name=\"MTL_Compil_STEP (#NA)\", usecols=\"A:N\", skiprows=4)\n",
    "mtl_step = mtl_step.rename(columns={\"Data\":\"Date\"})\n",
    "mtl_step[\"Date\"] = pd.to_datetime(mtl_step[\"Date\"])\n",
    "\n",
    "start_date = \"29-02-2020\"\n",
    "end_date = None\n",
    "\n",
    "norm_cols = [\"SARS/PMMV (gc/gc)\", \"SARS/PMMV (gc/gc).1\"]\n",
    "proper_names = [\"Montréal<br>Intercepteur Nord\", \"Montréal<br>Intercepteur Sud\"]\n",
    "region_name = \"Montréal\"\n",
    "proper_region_name = \"Montréal\"\n",
    "\n",
    "fig = plot(mtl_step, \"normalized\", proper_names, region_name, proper_region_name, max_value=1.35, start_date=start_date, end_date=end_date)\n",
    "fig.update_layout(\n",
    "        xaxis_title=\"Date\",\n",
    "        xaxis_dtick=\"M1\",\n",
    "        xaxis_tick0=\"2020-01-01\",\n",
    "        xaxis_tickformat=\"%d-%m-%Y\",\n",
    "    )\n",
    "fig.update_yaxes(secondary_y=False, range=[0, 1250])\n",
    "images_folder = images_folder_MTL\n",
    "fig.write_image(os.path.join(images_folder, \"Montreal.png\"), width=1000, scale=3)\n",
    "fig.write_image(os.path.join(images_folder, \"Montreal.svg\"), width=1000)\n",
    "fig.show()"
   ]
  },
  {
   "cell_type": "code",
   "execution_count": 6,
   "metadata": {},
   "outputs": [
    {
     "ename": "TypeError",
     "evalue": "plot() got multiple values for argument 'start_date'",
     "output_type": "error",
     "traceback": [
      "\u001b[0;31m---------------------------------------------------------------------------\u001b[0m",
      "\u001b[0;31mTypeError\u001b[0m                                 Traceback (most recent call last)",
      "\u001b[0;32m<ipython-input-6-cf37b68f3192>\u001b[0m in \u001b[0;36m<module>\u001b[0;34m\u001b[0m\n\u001b[1;32m     12\u001b[0m \u001b[0mproper_region_name\u001b[0m \u001b[0;34m=\u001b[0m \u001b[0;34m\"Réseau d'égoûts de Montréal\"\u001b[0m\u001b[0;34m\u001b[0m\u001b[0;34m\u001b[0m\u001b[0m\n\u001b[1;32m     13\u001b[0m \u001b[0mmax_normalized\u001b[0m \u001b[0;34m=\u001b[0m \u001b[0;36m1.25\u001b[0m\u001b[0;34m\u001b[0m\u001b[0;34m\u001b[0m\u001b[0m\n\u001b[0;32m---> 14\u001b[0;31m \u001b[0mfig\u001b[0m \u001b[0;34m=\u001b[0m \u001b[0mplot\u001b[0m\u001b[0;34m(\u001b[0m\u001b[0mmtl_reseau\u001b[0m\u001b[0;34m,\u001b[0m \u001b[0mnorm_cols\u001b[0m\u001b[0;34m,\u001b[0m \u001b[0;34m\"normalized\"\u001b[0m\u001b[0;34m,\u001b[0m \u001b[0mproper_names\u001b[0m\u001b[0;34m,\u001b[0m \u001b[0mregion_name\u001b[0m\u001b[0;34m,\u001b[0m \u001b[0mproper_region_name\u001b[0m\u001b[0;34m,\u001b[0m \u001b[0mmax_normalized\u001b[0m\u001b[0;34m,\u001b[0m \u001b[0mstart_date\u001b[0m\u001b[0;34m=\u001b[0m\u001b[0mstart_date\u001b[0m\u001b[0;34m,\u001b[0m \u001b[0mend_date\u001b[0m\u001b[0;34m=\u001b[0m\u001b[0mend_date\u001b[0m\u001b[0;34m)\u001b[0m\u001b[0;34m\u001b[0m\u001b[0;34m\u001b[0m\u001b[0m\n\u001b[0m\u001b[1;32m     15\u001b[0m \u001b[0mimages_folder\u001b[0m \u001b[0;34m=\u001b[0m \u001b[0;34m\"/Users/jeandavidt/Desktop/figures/\"\u001b[0m\u001b[0;34m\u001b[0m\u001b[0;34m\u001b[0m\u001b[0m\n\u001b[1;32m     16\u001b[0m \u001b[0mfig\u001b[0m\u001b[0;34m.\u001b[0m\u001b[0mwrite_image\u001b[0m\u001b[0;34m(\u001b[0m\u001b[0mimages_folder\u001b[0m\u001b[0;34m+\u001b[0m\u001b[0;34m\"mtl_reseau_cpTP.png\"\u001b[0m\u001b[0;34m,\u001b[0m \u001b[0mwidth\u001b[0m\u001b[0;34m=\u001b[0m\u001b[0;36m1000\u001b[0m\u001b[0;34m,\u001b[0m \u001b[0mscale\u001b[0m\u001b[0;34m=\u001b[0m\u001b[0;36m3\u001b[0m\u001b[0;34m)\u001b[0m\u001b[0;34m\u001b[0m\u001b[0;34m\u001b[0m\u001b[0m\n",
      "\u001b[0;31mTypeError\u001b[0m: plot() got multiple values for argument 'start_date'"
     ]
    }
   ],
   "source": [
    "path = path_MTL\n",
    "mtl_reseau = pd.read_excel(path, sheet_name=\"MTL_Compil_RESEAU (Blank)\", usecols=\"A:CS\", skiprows=4)\n",
    "mtl_reseau = mtl_reseau.rename(columns={\"Data\":\"Date\"})\n",
    "mtl_reseau[\"Date\"] = pd.to_datetime(mtl_reseau[\"Date\"])\n",
    "\n",
    "start_date = \"2021-02-25\"\n",
    "end_date = \"2021-04-09\"\n",
    "\n",
    "norm_cols = [\"SARS/PMMV (gc/gc)\", \"SARS/PMMV (gc/gc).3\", \"SARS/PMMV (gc/gc).6\", \"SARS/PMMV (gc/gc).9\", \"SARS/PMMV (gc/gc).12\", \"SARS/PMMV (gc/gc).15\"]\n",
    "proper_names = [\"Ville St-Laurent\", \"Côte-Des-Neiges\", \"Prison de Bordeaux\", \"Ville d'Anjou\", \"Montréal-Nord Secteur Est-1\", \"Montréal-Nord Secteur Est-2\"]\n",
    "region_name = \"Montréal\"\n",
    "proper_region_name = \"Réseau d'égoûts de Montréal\"\n",
    "max_normalized = 1.25\n",
    "fig = plot(mtl_reseau, norm_cols, \"normalized\", proper_names, region_name, proper_region_name, max_normalized, start_date=start_date, end_date=end_date)\n",
    "images_folder = images_folder_MTL\n",
    "fig.write_image(os.path.join(images_folder, \"mtl_reseau_cpTP.png\"), width=1000, scale=3)\n",
    "fig.show()\n",
    "fig.write_html(os.path.join(images_folder, \"test_fig.html\"))"
   ]
  },
  {
   "cell_type": "markdown",
   "metadata": {},
   "source": [
    "# New Website Graph"
   ]
  },
  {
   "cell_type": "code",
   "execution_count": 16,
   "metadata": {},
   "outputs": [
    {
     "output_type": "stream",
     "name": "stderr",
     "text": [
      "/usr/local/Caskroom/miniconda/base/envs/covid/lib/python3.9/site-packages/openpyxl/worksheet/_reader.py:312: UserWarning:\n\nData Validation extension is not supported and will be removed\n\n"
     ]
    },
    {
     "output_type": "display_data",
     "data": {
      "application/vnd.plotly.v1+json": {
       "config": {
        "plotlyServerURL": "https://plot.ly"
       },
       "data": [
        {
         "connectgaps": true,
         "hovertemplate": " %{y:.3f}",
         "marker": {
          "color": "#636EFA"
         },
         "mode": "lines+markers",
         "name": "SARS/PMMV (gc/gc)",
         "type": "scatter",
         "visible": true,
         "x": [
          "2021-01-01T00:00:00",
          "2021-01-02T00:00:00",
          "2021-01-03T00:00:00",
          "2021-01-04T00:00:00",
          "2021-01-05T00:00:00",
          "2021-01-06T00:00:00",
          "2021-01-07T00:00:00",
          "2021-01-08T00:00:00",
          "2021-01-09T00:00:00",
          "2021-01-10T00:00:00",
          "2021-01-11T00:00:00",
          "2021-01-12T00:00:00",
          "2021-01-13T00:00:00",
          "2021-01-14T00:00:00",
          "2021-01-15T00:00:00",
          "2021-01-16T00:00:00",
          "2021-01-17T00:00:00",
          "2021-01-18T00:00:00",
          "2021-01-19T00:00:00",
          "2021-01-20T00:00:00",
          "2021-01-21T00:00:00",
          "2021-01-22T00:00:00",
          "2021-01-23T00:00:00",
          "2021-01-24T00:00:00",
          "2021-01-25T00:00:00",
          "2021-01-26T00:00:00",
          "2021-01-27T00:00:00",
          "2021-01-28T00:00:00",
          "2021-01-29T00:00:00",
          "2021-01-30T00:00:00",
          "2021-01-31T00:00:00",
          "2021-02-01T00:00:00",
          "2021-02-02T00:00:00",
          "2021-02-03T00:00:00",
          "2021-02-04T00:00:00",
          "2021-02-05T00:00:00",
          "2021-02-06T00:00:00",
          "2021-02-07T00:00:00",
          "2021-02-08T00:00:00",
          "2021-02-09T00:00:00",
          "2021-02-10T00:00:00",
          "2021-02-11T00:00:00",
          "2021-02-12T00:00:00",
          "2021-02-13T00:00:00",
          "2021-02-14T00:00:00",
          "2021-02-15T00:00:00",
          "2021-02-16T00:00:00",
          "2021-02-17T00:00:00",
          "2021-02-18T00:00:00",
          "2021-02-19T00:00:00",
          "2021-02-20T00:00:00",
          "2021-02-21T00:00:00",
          "2021-02-22T00:00:00",
          "2021-02-23T00:00:00",
          "2021-02-24T00:00:00",
          "2021-02-25T00:00:00",
          "2021-02-26T00:00:00",
          "2021-02-27T00:00:00",
          "2021-02-28T00:00:00",
          "2021-03-01T00:00:00",
          "2021-03-02T00:00:00",
          "2021-03-03T00:00:00",
          "2021-03-04T00:00:00",
          "2021-03-05T00:00:00",
          "2021-03-06T00:00:00",
          "2021-03-07T00:00:00",
          "2021-03-08T00:00:00",
          "2021-03-09T00:00:00",
          "2021-03-10T00:00:00",
          "2021-03-11T00:00:00",
          "2021-03-12T00:00:00",
          "2021-03-13T00:00:00",
          "2021-03-14T00:00:00",
          "2021-03-15T00:00:00",
          "2021-03-16T00:00:00",
          "2021-03-17T00:00:00",
          "2021-03-18T00:00:00",
          "2021-03-19T00:00:00",
          "2021-03-20T00:00:00",
          "2021-03-21T00:00:00",
          "2021-03-22T00:00:00",
          "2021-03-23T00:00:00",
          "2021-03-24T00:00:00",
          "2021-03-25T00:00:00",
          "2021-03-26T00:00:00",
          "2021-03-27T00:00:00",
          "2021-03-28T00:00:00",
          "2021-03-29T00:00:00",
          "2021-03-30T00:00:00",
          "2021-03-31T00:00:00",
          "2021-04-01T00:00:00",
          "2021-04-02T00:00:00",
          "2021-04-03T00:00:00",
          "2021-04-04T00:00:00",
          "2021-04-05T00:00:00",
          "2021-04-06T00:00:00",
          "2021-04-07T00:00:00",
          "2021-04-08T00:00:00",
          "2021-04-09T00:00:00",
          "2021-04-10T00:00:00",
          "2021-04-11T00:00:00",
          "2021-04-12T00:00:00",
          "2021-04-13T00:00:00",
          "2021-04-14T00:00:00",
          "2021-04-15T00:00:00",
          "2021-04-16T00:00:00",
          "2021-04-17T00:00:00",
          "2021-04-18T00:00:00",
          "2021-04-19T00:00:00",
          "2021-04-20T00:00:00",
          "2021-04-21T00:00:00",
          "2021-04-22T00:00:00",
          "2021-04-23T00:00:00",
          "2021-04-24T00:00:00",
          "2021-04-25T00:00:00",
          "2021-04-26T00:00:00",
          "2021-04-27T00:00:00",
          "2021-04-28T00:00:00",
          "2021-04-29T00:00:00",
          "2021-04-30T00:00:00",
          "2021-05-01T00:00:00",
          "2021-05-02T00:00:00",
          "2021-05-03T00:00:00",
          "2021-05-04T00:00:00",
          "2021-05-05T00:00:00",
          "2021-05-06T00:00:00",
          "2021-05-07T00:00:00",
          "2021-05-08T00:00:00",
          "2021-05-09T00:00:00",
          "2021-05-10T00:00:00",
          "2021-05-11T00:00:00",
          "2021-05-12T00:00:00",
          "2021-05-13T00:00:00",
          "2021-05-14T00:00:00",
          "2021-05-15T00:00:00",
          "2021-05-16T00:00:00",
          "2021-05-17T00:00:00"
         ],
         "y": [
          null,
          null,
          null,
          null,
          null,
          null,
          null,
          null,
          null,
          null,
          null,
          null,
          null,
          null,
          null,
          null,
          null,
          null,
          null,
          null,
          null,
          null,
          null,
          null,
          null,
          null,
          null,
          null,
          0.02938810150170641,
          0.01594501574195323,
          0.03273581822055346,
          0.030092304529785962,
          0.015161900800153113,
          0.005448776623152544,
          0.005903212319978712,
          0.008253439945142788,
          0.004710526082492618,
          0.007526830774193585,
          0.0027851833906531206,
          0.00629486578483099,
          0.00420311788756757,
          0.005427394371698063,
          null,
          null,
          null,
          0.02469029880613001,
          0.023859976939353128,
          0.013616779881017853,
          0.022628753928075583,
          0.015602109657956066,
          0.01896109156175841,
          0.030645975546868875,
          0.011704699591236259,
          0.012762905324632671,
          0.006760610863932517,
          0.0106666213956953,
          0.0020881161237778904,
          0.010168241530893733,
          0.003075091793671609,
          null,
          0.002225710256685242,
          0.011124836169458086,
          0.008153848427178244,
          0.0013930453606876866,
          0.008315180384780964,
          0.00043435398439949807,
          0.006455403831936126,
          0.0017029368993314695,
          0.0034011592190304374,
          0.003366853538904874,
          0.003934777390194087,
          0.002913294829498079,
          0.007219642723573754,
          0.018808037174851182,
          0.047261247134545235,
          0.03562566304613925,
          0.033442569903888233,
          0.04732221789050074,
          0.022032808986481352,
          0.043096296538123476,
          0.027612468114341388,
          0.023034291276687546,
          0.06954638904636638,
          0.12835247868147856,
          0.05131998218481233,
          0.03192749069448603,
          0.09158463140634451,
          0.05098440041946949,
          0.05344121604246732,
          0.04364709807360835,
          0.13634507543543062,
          0.07388833443783212,
          0.16449674819984414,
          0.21538648095562238,
          0.27289748246487366,
          0.12170580301702039,
          0.16305048353843443,
          0.14833390005933259,
          null,
          0.24665436770612378,
          0.33397328012631927,
          0.06365094984864358,
          0.26415304822886204,
          0.060557091078002716,
          0.0819810031354309,
          0.0320874203469998,
          0.01814371930555167,
          0.027817174375033303,
          null,
          0.09961912869112466,
          0.06018967087453931,
          null,
          0.12248854006571837,
          0.05583935959068514,
          0.09858118516133177,
          0.11527977482928745,
          0.11629601951559698,
          0.0856944449450457,
          0.026729588969910744,
          0.07802675463786274,
          0.08637488773722947,
          0.16060703796292955,
          0.10264968747842584,
          0.038272246482180514,
          0.08435211163348184,
          0.11026721341027619,
          null,
          null,
          0.014153621130493226,
          null,
          0.031750003326420764,
          0.017882052277361202,
          0.047487311158485035,
          null,
          null,
          null,
          null
         ],
         "yaxis": "y2"
        },
        {
         "connectgaps": true,
         "hovertemplate": " %{y:.3f}",
         "marker": {
          "color": "#EF553B"
         },
         "mode": "lines+markers",
         "name": "SARS (gc/ml)",
         "type": "scatter",
         "visible": "legendonly",
         "x": [
          "2021-01-01T00:00:00",
          "2021-01-02T00:00:00",
          "2021-01-03T00:00:00",
          "2021-01-04T00:00:00",
          "2021-01-05T00:00:00",
          "2021-01-06T00:00:00",
          "2021-01-07T00:00:00",
          "2021-01-08T00:00:00",
          "2021-01-09T00:00:00",
          "2021-01-10T00:00:00",
          "2021-01-11T00:00:00",
          "2021-01-12T00:00:00",
          "2021-01-13T00:00:00",
          "2021-01-14T00:00:00",
          "2021-01-15T00:00:00",
          "2021-01-16T00:00:00",
          "2021-01-17T00:00:00",
          "2021-01-18T00:00:00",
          "2021-01-19T00:00:00",
          "2021-01-20T00:00:00",
          "2021-01-21T00:00:00",
          "2021-01-22T00:00:00",
          "2021-01-23T00:00:00",
          "2021-01-24T00:00:00",
          "2021-01-25T00:00:00",
          "2021-01-26T00:00:00",
          "2021-01-27T00:00:00",
          "2021-01-28T00:00:00",
          "2021-01-29T00:00:00",
          "2021-01-30T00:00:00",
          "2021-01-31T00:00:00",
          "2021-02-01T00:00:00",
          "2021-02-02T00:00:00",
          "2021-02-03T00:00:00",
          "2021-02-04T00:00:00",
          "2021-02-05T00:00:00",
          "2021-02-06T00:00:00",
          "2021-02-07T00:00:00",
          "2021-02-08T00:00:00",
          "2021-02-09T00:00:00",
          "2021-02-10T00:00:00",
          "2021-02-11T00:00:00",
          "2021-02-12T00:00:00",
          "2021-02-13T00:00:00",
          "2021-02-14T00:00:00",
          "2021-02-15T00:00:00",
          "2021-02-16T00:00:00",
          "2021-02-17T00:00:00",
          "2021-02-18T00:00:00",
          "2021-02-19T00:00:00",
          "2021-02-20T00:00:00",
          "2021-02-21T00:00:00",
          "2021-02-22T00:00:00",
          "2021-02-23T00:00:00",
          "2021-02-24T00:00:00",
          "2021-02-25T00:00:00",
          "2021-02-26T00:00:00",
          "2021-02-27T00:00:00",
          "2021-02-28T00:00:00",
          "2021-03-01T00:00:00",
          "2021-03-02T00:00:00",
          "2021-03-03T00:00:00",
          "2021-03-04T00:00:00",
          "2021-03-05T00:00:00",
          "2021-03-06T00:00:00",
          "2021-03-07T00:00:00",
          "2021-03-08T00:00:00",
          "2021-03-09T00:00:00",
          "2021-03-10T00:00:00",
          "2021-03-11T00:00:00",
          "2021-03-12T00:00:00",
          "2021-03-13T00:00:00",
          "2021-03-14T00:00:00",
          "2021-03-15T00:00:00",
          "2021-03-16T00:00:00",
          "2021-03-17T00:00:00",
          "2021-03-18T00:00:00",
          "2021-03-19T00:00:00",
          "2021-03-20T00:00:00",
          "2021-03-21T00:00:00",
          "2021-03-22T00:00:00",
          "2021-03-23T00:00:00",
          "2021-03-24T00:00:00",
          "2021-03-25T00:00:00",
          "2021-03-26T00:00:00",
          "2021-03-27T00:00:00",
          "2021-03-28T00:00:00",
          "2021-03-29T00:00:00",
          "2021-03-30T00:00:00",
          "2021-03-31T00:00:00",
          "2021-04-01T00:00:00",
          "2021-04-02T00:00:00",
          "2021-04-03T00:00:00",
          "2021-04-04T00:00:00",
          "2021-04-05T00:00:00",
          "2021-04-06T00:00:00",
          "2021-04-07T00:00:00",
          "2021-04-08T00:00:00",
          "2021-04-09T00:00:00",
          "2021-04-10T00:00:00",
          "2021-04-11T00:00:00",
          "2021-04-12T00:00:00",
          "2021-04-13T00:00:00",
          "2021-04-14T00:00:00",
          "2021-04-15T00:00:00",
          "2021-04-16T00:00:00",
          "2021-04-17T00:00:00",
          "2021-04-18T00:00:00",
          "2021-04-19T00:00:00",
          "2021-04-20T00:00:00",
          "2021-04-21T00:00:00",
          "2021-04-22T00:00:00",
          "2021-04-23T00:00:00",
          "2021-04-24T00:00:00",
          "2021-04-25T00:00:00",
          "2021-04-26T00:00:00",
          "2021-04-27T00:00:00",
          "2021-04-28T00:00:00",
          "2021-04-29T00:00:00",
          "2021-04-30T00:00:00",
          "2021-05-01T00:00:00",
          "2021-05-02T00:00:00",
          "2021-05-03T00:00:00",
          "2021-05-04T00:00:00",
          "2021-05-05T00:00:00",
          "2021-05-06T00:00:00",
          "2021-05-07T00:00:00",
          "2021-05-08T00:00:00",
          "2021-05-09T00:00:00",
          "2021-05-10T00:00:00",
          "2021-05-11T00:00:00",
          "2021-05-12T00:00:00",
          "2021-05-13T00:00:00",
          "2021-05-14T00:00:00",
          "2021-05-15T00:00:00",
          "2021-05-16T00:00:00",
          "2021-05-17T00:00:00"
         ],
         "y": [
          null,
          null,
          null,
          null,
          null,
          null,
          null,
          null,
          null,
          null,
          null,
          null,
          null,
          null,
          null,
          null,
          null,
          null,
          null,
          null,
          null,
          null,
          null,
          null,
          null,
          null,
          null,
          null,
          265.4898954804683,
          141.83606472523928,
          317.466943143963,
          49.369563596734565,
          33.27209282893768,
          34.37788110535975,
          38.46871479985844,
          17.286703899525733,
          13.3689700978681,
          21.45015703032178,
          11.366082729251474,
          18.94463934491419,
          24.23077725311407,
          19.327247101881284,
          null,
          null,
          null,
          62.33044190676138,
          106.97350659759454,
          43.54762220262148,
          62.034842040371515,
          33.2508841338974,
          45.910416951036865,
          69.98865321926517,
          21.45451614739853,
          18.72936843620011,
          17.077745369202063,
          35.48881754147202,
          8.737527549367531,
          26.24397951537845,
          12.046129364672135,
          null,
          11.029774586136387,
          28.455662005922896,
          23.389728677156302,
          10.360440855782791,
          20.096412570643974,
          0.7645914815537127,
          15.794949124263605,
          7.452330141368728,
          10.610491804068994,
          16.030202291975762,
          3.9873514150188725,
          6.593219341105117,
          14.323284259648611,
          39.67755959518682,
          61.84494402120889,
          67.38166506805649,
          64.7557528013759,
          107.72956462064951,
          67.79958989154586,
          58.41185330675951,
          47.29244247116101,
          22.952534459152726,
          100.0459613917082,
          136.40268739406008,
          83.9278527014125,
          37.7718284477867,
          173.28706723181273,
          100.98372880817973,
          58.039043383694796,
          204.25069127445744,
          151.4168798891876,
          177.70676090526473,
          173.76956355309648,
          536.9640274381101,
          418.73745475522776,
          238.3906016384629,
          488.19599071464836,
          743.3682442524693,
          612.545588733156,
          687.7962029589846,
          435.7700911077656,
          419.8549299684046,
          373.90682432618087,
          350.64345538564487,
          153.98870427466738,
          164.96846002184697,
          105.73495273904953,
          239.67929263604543,
          257.0437963551887,
          338.44479200811236,
          286.73014440007887,
          326.0914543992207,
          214.6723855287994,
          104.15934964043757,
          280.94844445176483,
          164.83324214824864,
          165.0737051820245,
          119.3401593358634,
          136.4503786183821,
          170.8848392583581,
          146.30230276522533,
          264.48744838639857,
          159.40738785792317,
          99.53613337593303,
          104.61625435065999,
          147.14807863509654,
          null,
          null,
          44.621194149178486,
          25.14129087481163,
          90.32541755703167,
          51.503856303847144,
          72.03988146711956,
          null,
          null,
          null,
          null
         ],
         "yaxis": "y3"
        },
        {
         "connectgaps": true,
         "hovertemplate": " %{y:.3f}",
         "marker": {
          "color": "#AB63FA"
         },
         "mode": "lines+markers",
         "name": "PMMV (gc/ml)",
         "type": "scatter",
         "visible": "legendonly",
         "x": [
          "2021-01-01T00:00:00",
          "2021-01-02T00:00:00",
          "2021-01-03T00:00:00",
          "2021-01-04T00:00:00",
          "2021-01-05T00:00:00",
          "2021-01-06T00:00:00",
          "2021-01-07T00:00:00",
          "2021-01-08T00:00:00",
          "2021-01-09T00:00:00",
          "2021-01-10T00:00:00",
          "2021-01-11T00:00:00",
          "2021-01-12T00:00:00",
          "2021-01-13T00:00:00",
          "2021-01-14T00:00:00",
          "2021-01-15T00:00:00",
          "2021-01-16T00:00:00",
          "2021-01-17T00:00:00",
          "2021-01-18T00:00:00",
          "2021-01-19T00:00:00",
          "2021-01-20T00:00:00",
          "2021-01-21T00:00:00",
          "2021-01-22T00:00:00",
          "2021-01-23T00:00:00",
          "2021-01-24T00:00:00",
          "2021-01-25T00:00:00",
          "2021-01-26T00:00:00",
          "2021-01-27T00:00:00",
          "2021-01-28T00:00:00",
          "2021-01-29T00:00:00",
          "2021-01-30T00:00:00",
          "2021-01-31T00:00:00",
          "2021-02-01T00:00:00",
          "2021-02-02T00:00:00",
          "2021-02-03T00:00:00",
          "2021-02-04T00:00:00",
          "2021-02-05T00:00:00",
          "2021-02-06T00:00:00",
          "2021-02-07T00:00:00",
          "2021-02-08T00:00:00",
          "2021-02-09T00:00:00",
          "2021-02-10T00:00:00",
          "2021-02-11T00:00:00",
          "2021-02-12T00:00:00",
          "2021-02-13T00:00:00",
          "2021-02-14T00:00:00",
          "2021-02-15T00:00:00",
          "2021-02-16T00:00:00",
          "2021-02-17T00:00:00",
          "2021-02-18T00:00:00",
          "2021-02-19T00:00:00",
          "2021-02-20T00:00:00",
          "2021-02-21T00:00:00",
          "2021-02-22T00:00:00",
          "2021-02-23T00:00:00",
          "2021-02-24T00:00:00",
          "2021-02-25T00:00:00",
          "2021-02-26T00:00:00",
          "2021-02-27T00:00:00",
          "2021-02-28T00:00:00",
          "2021-03-01T00:00:00",
          "2021-03-02T00:00:00",
          "2021-03-03T00:00:00",
          "2021-03-04T00:00:00",
          "2021-03-05T00:00:00",
          "2021-03-06T00:00:00",
          "2021-03-07T00:00:00",
          "2021-03-08T00:00:00",
          "2021-03-09T00:00:00",
          "2021-03-10T00:00:00",
          "2021-03-11T00:00:00",
          "2021-03-12T00:00:00",
          "2021-03-13T00:00:00",
          "2021-03-14T00:00:00",
          "2021-03-15T00:00:00",
          "2021-03-16T00:00:00",
          "2021-03-17T00:00:00",
          "2021-03-18T00:00:00",
          "2021-03-19T00:00:00",
          "2021-03-20T00:00:00",
          "2021-03-21T00:00:00",
          "2021-03-22T00:00:00",
          "2021-03-23T00:00:00",
          "2021-03-24T00:00:00",
          "2021-03-25T00:00:00",
          "2021-03-26T00:00:00",
          "2021-03-27T00:00:00",
          "2021-03-28T00:00:00",
          "2021-03-29T00:00:00",
          "2021-03-30T00:00:00",
          "2021-03-31T00:00:00",
          "2021-04-01T00:00:00",
          "2021-04-02T00:00:00",
          "2021-04-03T00:00:00",
          "2021-04-04T00:00:00",
          "2021-04-05T00:00:00",
          "2021-04-06T00:00:00",
          "2021-04-07T00:00:00",
          "2021-04-08T00:00:00",
          "2021-04-09T00:00:00",
          "2021-04-10T00:00:00",
          "2021-04-11T00:00:00",
          "2021-04-12T00:00:00",
          "2021-04-13T00:00:00",
          "2021-04-14T00:00:00",
          "2021-04-15T00:00:00",
          "2021-04-16T00:00:00",
          "2021-04-17T00:00:00",
          "2021-04-18T00:00:00",
          "2021-04-19T00:00:00",
          "2021-04-20T00:00:00",
          "2021-04-21T00:00:00",
          "2021-04-22T00:00:00",
          "2021-04-23T00:00:00",
          "2021-04-24T00:00:00",
          "2021-04-25T00:00:00",
          "2021-04-26T00:00:00",
          "2021-04-27T00:00:00",
          "2021-04-28T00:00:00",
          "2021-04-29T00:00:00",
          "2021-04-30T00:00:00",
          "2021-05-01T00:00:00",
          "2021-05-02T00:00:00",
          "2021-05-03T00:00:00",
          "2021-05-04T00:00:00",
          "2021-05-05T00:00:00",
          "2021-05-06T00:00:00",
          "2021-05-07T00:00:00",
          "2021-05-08T00:00:00",
          "2021-05-09T00:00:00",
          "2021-05-10T00:00:00",
          "2021-05-11T00:00:00",
          "2021-05-12T00:00:00",
          "2021-05-13T00:00:00",
          "2021-05-14T00:00:00",
          "2021-05-15T00:00:00",
          "2021-05-16T00:00:00",
          "2021-05-17T00:00:00"
         ],
         "y": [
          256,
          183,
          190,
          136,
          203,
          153,
          162,
          136,
          161,
          110,
          103,
          135,
          133,
          134,
          126,
          96,
          117,
          81,
          130,
          81,
          79,
          84,
          80,
          57,
          56,
          56,
          77,
          73,
          67,
          48,
          54,
          40,
          60,
          42,
          45,
          50,
          47,
          33,
          39,
          37,
          26,
          38,
          35,
          36,
          27,
          32,
          34,
          28,
          36,
          33,
          26,
          19,
          21,
          24,
          24,
          42,
          40,
          39,
          37,
          36,
          39,
          32,
          31,
          38,
          25,
          36,
          24,
          34,
          39,
          30,
          52,
          36,
          29,
          0,
          60,
          45,
          36,
          53,
          53,
          35,
          36,
          46,
          70,
          81,
          86,
          99,
          114,
          106,
          129,
          194,
          261,
          305,
          249,
          239,
          243,
          290,
          250,
          436,
          449,
          410,
          331,
          282,
          341
         ],
         "yaxis": "y"
        }
       ],
       "layout": {
        "images": [
         {
          "sizex": 0.25,
          "sizey": 0.25,
          "source": "https://www.centreau.ulaval.ca/fileadmin/Documents/Image_de_marque/102378_MODIF_LOGO-CENTREAU_noir.jpg",
          "x": 1,
          "xanchor": "right",
          "xref": "paper",
          "y": 1,
          "yanchor": "bottom",
          "yref": "paper"
         }
        ],
        "legend": {
         "orientation": "h",
         "x": 0,
         "xanchor": "left",
         "y": 1.1,
         "yanchor": "top"
        },
        "plot_bgcolor": "white",
        "template": {
         "data": {
          "bar": [
           {
            "error_x": {
             "color": "#2a3f5f"
            },
            "error_y": {
             "color": "#2a3f5f"
            },
            "marker": {
             "line": {
              "color": "#E5ECF6",
              "width": 0.5
             }
            },
            "type": "bar"
           }
          ],
          "barpolar": [
           {
            "marker": {
             "line": {
              "color": "#E5ECF6",
              "width": 0.5
             }
            },
            "type": "barpolar"
           }
          ],
          "carpet": [
           {
            "aaxis": {
             "endlinecolor": "#2a3f5f",
             "gridcolor": "white",
             "linecolor": "white",
             "minorgridcolor": "white",
             "startlinecolor": "#2a3f5f"
            },
            "baxis": {
             "endlinecolor": "#2a3f5f",
             "gridcolor": "white",
             "linecolor": "white",
             "minorgridcolor": "white",
             "startlinecolor": "#2a3f5f"
            },
            "type": "carpet"
           }
          ],
          "choropleth": [
           {
            "colorbar": {
             "outlinewidth": 0,
             "ticks": ""
            },
            "type": "choropleth"
           }
          ],
          "contour": [
           {
            "colorbar": {
             "outlinewidth": 0,
             "ticks": ""
            },
            "colorscale": [
             [
              0,
              "#0d0887"
             ],
             [
              0.1111111111111111,
              "#46039f"
             ],
             [
              0.2222222222222222,
              "#7201a8"
             ],
             [
              0.3333333333333333,
              "#9c179e"
             ],
             [
              0.4444444444444444,
              "#bd3786"
             ],
             [
              0.5555555555555556,
              "#d8576b"
             ],
             [
              0.6666666666666666,
              "#ed7953"
             ],
             [
              0.7777777777777778,
              "#fb9f3a"
             ],
             [
              0.8888888888888888,
              "#fdca26"
             ],
             [
              1,
              "#f0f921"
             ]
            ],
            "type": "contour"
           }
          ],
          "contourcarpet": [
           {
            "colorbar": {
             "outlinewidth": 0,
             "ticks": ""
            },
            "type": "contourcarpet"
           }
          ],
          "heatmap": [
           {
            "colorbar": {
             "outlinewidth": 0,
             "ticks": ""
            },
            "colorscale": [
             [
              0,
              "#0d0887"
             ],
             [
              0.1111111111111111,
              "#46039f"
             ],
             [
              0.2222222222222222,
              "#7201a8"
             ],
             [
              0.3333333333333333,
              "#9c179e"
             ],
             [
              0.4444444444444444,
              "#bd3786"
             ],
             [
              0.5555555555555556,
              "#d8576b"
             ],
             [
              0.6666666666666666,
              "#ed7953"
             ],
             [
              0.7777777777777778,
              "#fb9f3a"
             ],
             [
              0.8888888888888888,
              "#fdca26"
             ],
             [
              1,
              "#f0f921"
             ]
            ],
            "type": "heatmap"
           }
          ],
          "heatmapgl": [
           {
            "colorbar": {
             "outlinewidth": 0,
             "ticks": ""
            },
            "colorscale": [
             [
              0,
              "#0d0887"
             ],
             [
              0.1111111111111111,
              "#46039f"
             ],
             [
              0.2222222222222222,
              "#7201a8"
             ],
             [
              0.3333333333333333,
              "#9c179e"
             ],
             [
              0.4444444444444444,
              "#bd3786"
             ],
             [
              0.5555555555555556,
              "#d8576b"
             ],
             [
              0.6666666666666666,
              "#ed7953"
             ],
             [
              0.7777777777777778,
              "#fb9f3a"
             ],
             [
              0.8888888888888888,
              "#fdca26"
             ],
             [
              1,
              "#f0f921"
             ]
            ],
            "type": "heatmapgl"
           }
          ],
          "histogram": [
           {
            "marker": {
             "colorbar": {
              "outlinewidth": 0,
              "ticks": ""
             }
            },
            "type": "histogram"
           }
          ],
          "histogram2d": [
           {
            "colorbar": {
             "outlinewidth": 0,
             "ticks": ""
            },
            "colorscale": [
             [
              0,
              "#0d0887"
             ],
             [
              0.1111111111111111,
              "#46039f"
             ],
             [
              0.2222222222222222,
              "#7201a8"
             ],
             [
              0.3333333333333333,
              "#9c179e"
             ],
             [
              0.4444444444444444,
              "#bd3786"
             ],
             [
              0.5555555555555556,
              "#d8576b"
             ],
             [
              0.6666666666666666,
              "#ed7953"
             ],
             [
              0.7777777777777778,
              "#fb9f3a"
             ],
             [
              0.8888888888888888,
              "#fdca26"
             ],
             [
              1,
              "#f0f921"
             ]
            ],
            "type": "histogram2d"
           }
          ],
          "histogram2dcontour": [
           {
            "colorbar": {
             "outlinewidth": 0,
             "ticks": ""
            },
            "colorscale": [
             [
              0,
              "#0d0887"
             ],
             [
              0.1111111111111111,
              "#46039f"
             ],
             [
              0.2222222222222222,
              "#7201a8"
             ],
             [
              0.3333333333333333,
              "#9c179e"
             ],
             [
              0.4444444444444444,
              "#bd3786"
             ],
             [
              0.5555555555555556,
              "#d8576b"
             ],
             [
              0.6666666666666666,
              "#ed7953"
             ],
             [
              0.7777777777777778,
              "#fb9f3a"
             ],
             [
              0.8888888888888888,
              "#fdca26"
             ],
             [
              1,
              "#f0f921"
             ]
            ],
            "type": "histogram2dcontour"
           }
          ],
          "mesh3d": [
           {
            "colorbar": {
             "outlinewidth": 0,
             "ticks": ""
            },
            "type": "mesh3d"
           }
          ],
          "parcoords": [
           {
            "line": {
             "colorbar": {
              "outlinewidth": 0,
              "ticks": ""
             }
            },
            "type": "parcoords"
           }
          ],
          "pie": [
           {
            "automargin": true,
            "type": "pie"
           }
          ],
          "scatter": [
           {
            "marker": {
             "colorbar": {
              "outlinewidth": 0,
              "ticks": ""
             }
            },
            "type": "scatter"
           }
          ],
          "scatter3d": [
           {
            "line": {
             "colorbar": {
              "outlinewidth": 0,
              "ticks": ""
             }
            },
            "marker": {
             "colorbar": {
              "outlinewidth": 0,
              "ticks": ""
             }
            },
            "type": "scatter3d"
           }
          ],
          "scattercarpet": [
           {
            "marker": {
             "colorbar": {
              "outlinewidth": 0,
              "ticks": ""
             }
            },
            "type": "scattercarpet"
           }
          ],
          "scattergeo": [
           {
            "marker": {
             "colorbar": {
              "outlinewidth": 0,
              "ticks": ""
             }
            },
            "type": "scattergeo"
           }
          ],
          "scattergl": [
           {
            "marker": {
             "colorbar": {
              "outlinewidth": 0,
              "ticks": ""
             }
            },
            "type": "scattergl"
           }
          ],
          "scattermapbox": [
           {
            "marker": {
             "colorbar": {
              "outlinewidth": 0,
              "ticks": ""
             }
            },
            "type": "scattermapbox"
           }
          ],
          "scatterpolar": [
           {
            "marker": {
             "colorbar": {
              "outlinewidth": 0,
              "ticks": ""
             }
            },
            "type": "scatterpolar"
           }
          ],
          "scatterpolargl": [
           {
            "marker": {
             "colorbar": {
              "outlinewidth": 0,
              "ticks": ""
             }
            },
            "type": "scatterpolargl"
           }
          ],
          "scatterternary": [
           {
            "marker": {
             "colorbar": {
              "outlinewidth": 0,
              "ticks": ""
             }
            },
            "type": "scatterternary"
           }
          ],
          "surface": [
           {
            "colorbar": {
             "outlinewidth": 0,
             "ticks": ""
            },
            "colorscale": [
             [
              0,
              "#0d0887"
             ],
             [
              0.1111111111111111,
              "#46039f"
             ],
             [
              0.2222222222222222,
              "#7201a8"
             ],
             [
              0.3333333333333333,
              "#9c179e"
             ],
             [
              0.4444444444444444,
              "#bd3786"
             ],
             [
              0.5555555555555556,
              "#d8576b"
             ],
             [
              0.6666666666666666,
              "#ed7953"
             ],
             [
              0.7777777777777778,
              "#fb9f3a"
             ],
             [
              0.8888888888888888,
              "#fdca26"
             ],
             [
              1,
              "#f0f921"
             ]
            ],
            "type": "surface"
           }
          ],
          "table": [
           {
            "cells": {
             "fill": {
              "color": "#EBF0F8"
             },
             "line": {
              "color": "white"
             }
            },
            "header": {
             "fill": {
              "color": "#C8D4E3"
             },
             "line": {
              "color": "white"
             }
            },
            "type": "table"
           }
          ]
         },
         "layout": {
          "annotationdefaults": {
           "arrowcolor": "#2a3f5f",
           "arrowhead": 0,
           "arrowwidth": 1
          },
          "autotypenumbers": "strict",
          "coloraxis": {
           "colorbar": {
            "outlinewidth": 0,
            "ticks": ""
           }
          },
          "colorscale": {
           "diverging": [
            [
             0,
             "#8e0152"
            ],
            [
             0.1,
             "#c51b7d"
            ],
            [
             0.2,
             "#de77ae"
            ],
            [
             0.3,
             "#f1b6da"
            ],
            [
             0.4,
             "#fde0ef"
            ],
            [
             0.5,
             "#f7f7f7"
            ],
            [
             0.6,
             "#e6f5d0"
            ],
            [
             0.7,
             "#b8e186"
            ],
            [
             0.8,
             "#7fbc41"
            ],
            [
             0.9,
             "#4d9221"
            ],
            [
             1,
             "#276419"
            ]
           ],
           "sequential": [
            [
             0,
             "#0d0887"
            ],
            [
             0.1111111111111111,
             "#46039f"
            ],
            [
             0.2222222222222222,
             "#7201a8"
            ],
            [
             0.3333333333333333,
             "#9c179e"
            ],
            [
             0.4444444444444444,
             "#bd3786"
            ],
            [
             0.5555555555555556,
             "#d8576b"
            ],
            [
             0.6666666666666666,
             "#ed7953"
            ],
            [
             0.7777777777777778,
             "#fb9f3a"
            ],
            [
             0.8888888888888888,
             "#fdca26"
            ],
            [
             1,
             "#f0f921"
            ]
           ],
           "sequentialminus": [
            [
             0,
             "#0d0887"
            ],
            [
             0.1111111111111111,
             "#46039f"
            ],
            [
             0.2222222222222222,
             "#7201a8"
            ],
            [
             0.3333333333333333,
             "#9c179e"
            ],
            [
             0.4444444444444444,
             "#bd3786"
            ],
            [
             0.5555555555555556,
             "#d8576b"
            ],
            [
             0.6666666666666666,
             "#ed7953"
            ],
            [
             0.7777777777777778,
             "#fb9f3a"
            ],
            [
             0.8888888888888888,
             "#fdca26"
            ],
            [
             1,
             "#f0f921"
            ]
           ]
          },
          "colorway": [
           "#636efa",
           "#EF553B",
           "#00cc96",
           "#ab63fa",
           "#FFA15A",
           "#19d3f3",
           "#FF6692",
           "#B6E880",
           "#FF97FF",
           "#FECB52"
          ],
          "font": {
           "color": "#2a3f5f"
          },
          "geo": {
           "bgcolor": "white",
           "lakecolor": "white",
           "landcolor": "#E5ECF6",
           "showlakes": true,
           "showland": true,
           "subunitcolor": "white"
          },
          "hoverlabel": {
           "align": "left"
          },
          "hovermode": "closest",
          "mapbox": {
           "style": "light"
          },
          "paper_bgcolor": "white",
          "plot_bgcolor": "#E5ECF6",
          "polar": {
           "angularaxis": {
            "gridcolor": "white",
            "linecolor": "white",
            "ticks": ""
           },
           "bgcolor": "#E5ECF6",
           "radialaxis": {
            "gridcolor": "white",
            "linecolor": "white",
            "ticks": ""
           }
          },
          "scene": {
           "xaxis": {
            "backgroundcolor": "#E5ECF6",
            "gridcolor": "white",
            "gridwidth": 2,
            "linecolor": "white",
            "showbackground": true,
            "ticks": "",
            "zerolinecolor": "white"
           },
           "yaxis": {
            "backgroundcolor": "#E5ECF6",
            "gridcolor": "white",
            "gridwidth": 2,
            "linecolor": "white",
            "showbackground": true,
            "ticks": "",
            "zerolinecolor": "white"
           },
           "zaxis": {
            "backgroundcolor": "#E5ECF6",
            "gridcolor": "white",
            "gridwidth": 2,
            "linecolor": "white",
            "showbackground": true,
            "ticks": "",
            "zerolinecolor": "white"
           }
          },
          "shapedefaults": {
           "line": {
            "color": "#2a3f5f"
           }
          },
          "ternary": {
           "aaxis": {
            "gridcolor": "white",
            "linecolor": "white",
            "ticks": ""
           },
           "baxis": {
            "gridcolor": "white",
            "linecolor": "white",
            "ticks": ""
           },
           "bgcolor": "#E5ECF6",
           "caxis": {
            "gridcolor": "white",
            "linecolor": "white",
            "ticks": ""
           }
          },
          "title": {
           "x": 0.05
          },
          "xaxis": {
           "automargin": true,
           "gridcolor": "white",
           "linecolor": "white",
           "ticks": "",
           "title": {
            "standoff": 15
           },
           "zerolinecolor": "white",
           "zerolinewidth": 2
          },
          "yaxis": {
           "automargin": true,
           "gridcolor": "white",
           "linecolor": "white",
           "ticks": "",
           "title": {
            "standoff": 15
           },
           "zerolinecolor": "white",
           "zerolinewidth": 2
          }
         }
        },
        "title": {
         "text": "Surveillance SRAS-CoV-2 via les eaux usées<br>Région de Québec"
        },
        "xaxis": {
         "anchor": "y",
         "domain": [
          0,
          0.94
         ],
         "dtick": 604800000,
         "gridcolor": "rgba(100,100,100,0.10)",
         "tick0": "2020-12-27",
         "tickangle": 30,
         "tickformat": "%d-%m-%Y",
         "ticks": "outside",
         "title": {
          "text": "Date"
         }
        },
        "yaxis": {
         "anchor": "x",
         "domain": [
          0,
          1
         ],
         "gridcolor": "rgba(0,0,0,0)",
         "range": [
          0,
          550
         ],
         "side": "right",
         "title": {
          "text": "Nouveaux cas"
         }
        },
        "yaxis2": {
         "anchor": "x",
         "overlaying": "y",
         "range": [
          0,
          null
         ],
         "side": "left",
         "title": {
          "text": "SRAS-CoV-2/PMMoV"
         }
        }
       }
      }
     },
     "metadata": {},
     "output_type": "display_data"
    }
   ],
   "source": [
    "path = path_VdQ\n",
    "\n",
    "qc = pd.read_excel(path, sheet_name=\"QC_Compil_STEP (Blank)\", usecols=\"A:N\", skiprows=4)\n",
    "qc = qc.rename(columns={\"Data\":\"Date\"})\n",
    "\n",
    "start_date = \"2021-01-01\"\n",
    "end_date = \"2021-04-13\"\n",
    "\n",
    "cols = [\"SARS (gc/ml)\", \"SARS (gc/ml).1\"]\n",
    "# sars_cols = [\"SARS (gc/ml)\", \"SARS (gc/ml).1\"]\n",
    "proper_names = [\"Québec Station Est\", \"Québec Station Ouest\"]\n",
    "region_name = \"Capitale-Nationale\"\n",
    "proper_region_name = \"Région de Québec\"\n",
    "max_val = None\n",
    "fig = plot(qc, cols, \"normalized\", proper_names, region_name, proper_region_name, \n",
    "    max_val, start_date=start_date, end_date=end_date)\n",
    "fig.update_yaxes(secondary_y=False, range=[0, 550])\n",
    "images_folder = images_folder_VdQ\n",
    "fig.write_image(os.path.join(images_folder, \"Quebec-sars.png\"), width=1000, scale=3)\n",
    "fig.write_image(os.path.join(images_folder, \"Quebec-sars.svg\"), width=1000)\n",
    "fig.write_html(os.path.join(images_folder, \"test_plot.html\"))\n",
    "fig.show()"
   ]
  },
  {
   "cell_type": "code",
   "execution_count": 6,
   "metadata": {},
   "outputs": [
    {
     "name": "stderr",
     "output_type": "stream",
     "text": [
      "/usr/local/Caskroom/miniconda/base/envs/covid/lib/python3.9/site-packages/openpyxl/worksheet/_reader.py:312: UserWarning:\n",
      "\n",
      "Data Validation extension is not supported and will be removed\n",
      "\n"
     ]
    },
    {
     "data": {
      "application/vnd.plotly.v1+json": {
       "config": {
        "plotlyServerURL": "https://plot.ly"
       },
       "data": [
        {
         "connectgaps": true,
         "marker": {
          "color": "#636EFA"
         },
         "mode": "lines+markers",
         "name": "Montréal<br>Intercepteur Nord",
         "type": "scatter",
         "x": [
          "2020-03-01T00:00:00",
          "2020-03-05T00:00:00",
          "2020-03-07T00:00:00",
          "2020-03-08T00:00:00",
          "2020-03-12T00:00:00",
          "2020-03-16T00:00:00",
          "2020-03-21T00:00:00",
          "2020-03-28T00:00:00",
          "2020-04-03T00:00:00",
          "2020-04-04T00:00:00",
          "2020-04-06T00:00:00",
          "2020-04-09T00:00:00",
          "2020-04-10T00:00:00",
          "2020-04-11T00:00:00",
          "2020-04-12T00:00:00",
          "2020-04-30T00:00:00",
          "2020-05-01T00:00:00",
          "2020-05-09T00:00:00",
          "2020-05-13T00:00:00",
          "2020-05-16T00:00:00",
          "2020-06-18T00:00:00",
          "2020-06-22T00:00:00",
          "2020-06-25T00:00:00",
          "2020-06-29T00:00:00",
          "2020-07-02T00:00:00",
          "2020-07-06T00:00:00",
          "2020-07-09T00:00:00",
          "2020-07-20T00:00:00",
          "2020-08-24T00:00:00",
          "2020-08-27T00:00:00",
          "2020-08-31T00:00:00",
          "2020-09-03T00:00:00",
          "2020-09-07T00:00:00",
          "2020-09-10T00:00:00",
          "2020-09-14T00:00:00",
          "2020-09-17T00:00:00",
          "2020-09-21T00:00:00",
          "2020-09-24T00:00:00",
          "2020-09-28T00:00:00",
          "2020-10-01T00:00:00",
          "2020-10-05T00:00:00",
          "2020-10-08T00:00:00",
          "2020-10-12T00:00:00",
          "2020-10-15T00:00:00",
          "2020-10-16T00:00:00",
          "2020-10-19T00:00:00",
          "2020-10-22T00:00:00",
          "2020-10-26T00:00:00",
          "2020-11-02T00:00:00",
          "2020-11-05T00:00:00",
          "2020-11-09T00:00:00",
          "2020-11-12T00:00:00",
          "2020-11-16T00:00:00",
          "2020-11-19T00:00:00",
          "2020-11-23T00:00:00",
          "2020-11-26T00:00:00",
          "2020-11-30T00:00:00",
          "2020-12-03T00:00:00",
          "2020-12-07T00:00:00",
          "2020-12-10T00:00:00",
          "2020-12-14T00:00:00",
          "2020-12-17T00:00:00",
          "2020-12-21T00:00:00",
          "2020-12-24T00:00:00",
          "2020-12-28T00:00:00",
          "2020-12-31T00:00:00",
          "2021-01-04T00:00:00",
          "2021-01-07T00:00:00",
          "2021-01-11T00:00:00",
          "2021-01-14T00:00:00",
          "2021-01-18T00:00:00",
          "2021-01-21T00:00:00",
          "2021-01-25T00:00:00",
          "2021-02-08T00:00:00",
          "2021-02-11T00:00:00",
          "2021-02-15T00:00:00",
          "2021-02-28T00:00:00",
          "2021-03-01T00:00:00",
          "2021-03-02T00:00:00",
          "2021-03-03T00:00:00",
          "2021-03-04T00:00:00",
          "2021-03-07T00:00:00",
          "2021-03-08T00:00:00",
          "2021-03-09T00:00:00",
          "2021-03-10T00:00:00",
          "2021-03-11T00:00:00",
          "2021-03-14T00:00:00",
          "2021-03-15T00:00:00",
          "2021-03-16T00:00:00",
          "2021-03-17T00:00:00",
          "2021-03-18T00:00:00",
          "2021-03-21T00:00:00",
          "2021-03-22T00:00:00",
          "2021-03-23T00:00:00",
          "2021-03-24T00:00:00",
          "2021-03-25T00:00:00",
          "2021-03-28T00:00:00",
          "2021-03-29T00:00:00",
          "2021-03-30T00:00:00",
          "2021-03-31T00:00:00",
          "2021-04-01T00:00:00",
          "2021-04-04T00:00:00",
          "2021-04-05T00:00:00",
          "2021-04-06T00:00:00",
          "2021-04-07T00:00:00"
         ],
         "xaxis": "x",
         "y": [
          0,
          0,
          0,
          0,
          0,
          9.682963785101107,
          11.673742086493347,
          55.51523364309731,
          24.221965191360276,
          67.00920764958575,
          73.92944960744099,
          26.94858930921564,
          50.62112620466833,
          49.185741214470525,
          53.618784924850154,
          55.84892181370346,
          20.11537408371622,
          9.408398955753608,
          12.484163656175692,
          22.246011242609608,
          3.6588330944908978,
          0,
          0,
          0,
          0,
          2.5876830675982503,
          0,
          0,
          2.3147405872623317,
          2.8720810777601917,
          2.628317941033432,
          1.2501233034782737,
          1.7910599904786622,
          2.5599198361241404,
          6.535462790240103,
          10.889794547985657,
          7.314853420802462,
          14.65918094920961,
          18.101808975889288,
          4.327289956803536,
          34.41303588812969,
          20.019167643279946,
          16.368087526834724,
          null,
          24.54342358034493,
          8.861138230333507,
          9.27405001617863,
          19.219770219022713,
          18.85470764766416,
          18.364041639726107,
          16.565447843691476,
          16.368087526834724,
          8.226536076044736,
          46.4359201160099,
          25.748747803264724,
          29.027426947874982,
          34.00303986924938,
          36.450891322260084,
          25.503038080845432,
          53.87646159403335,
          54.13537658418817,
          64.48782148673922,
          90.203731197127,
          118.2668385439876,
          17.008057500249155,
          68.33492919168049,
          55.05305367392118,
          62.35955771971962,
          74.6417249247609,
          15.827898591689289,
          44.36843733674781,
          24.602327262058367,
          15.639325417531387,
          37.604670142653184,
          70.46873932048578,
          54.919611133806654,
          108.22913600227437,
          32.10203616094811,
          45.44484416355261,
          68.30663183172581,
          59.8627351044815,
          64.02573316428642,
          101.20333686186221,
          30.599308258003877,
          58.59165483404364,
          52.97997210903652,
          42.90416492986413,
          31.117088034199764,
          136.56075218902984,
          211.25000858535026,
          71.66116131141803,
          116.02046433174124,
          63.87244069859395,
          48.02072747970763,
          66.36976630910151,
          52.34877009257642,
          54.79,
          35,
          290.5736251642219,
          71.48958785854353,
          59.15615774541139,
          183.8298021214234,
          157.3068969999084,
          128.31,
          224.3
         ],
         "yaxis": "y2"
        },
        {
         "connectgaps": true,
         "marker": {
          "color": "#EF553B"
         },
         "mode": "lines+markers",
         "name": "Montréal<br>Intercepteur Sud",
         "type": "scatter",
         "x": [
          "2020-03-01T00:00:00",
          "2020-03-05T00:00:00",
          "2020-03-07T00:00:00",
          "2020-03-08T00:00:00",
          "2020-03-12T00:00:00",
          "2020-03-16T00:00:00",
          "2020-03-21T00:00:00",
          "2020-03-28T00:00:00",
          "2020-04-03T00:00:00",
          "2020-04-04T00:00:00",
          "2020-04-06T00:00:00",
          "2020-04-09T00:00:00",
          "2020-04-10T00:00:00",
          "2020-04-11T00:00:00",
          "2020-04-12T00:00:00",
          "2020-04-30T00:00:00",
          "2020-05-01T00:00:00",
          "2020-05-09T00:00:00",
          "2020-05-13T00:00:00",
          "2020-05-16T00:00:00",
          "2020-06-18T00:00:00",
          "2020-06-22T00:00:00",
          "2020-06-25T00:00:00",
          "2020-06-29T00:00:00",
          "2020-07-02T00:00:00",
          "2020-07-06T00:00:00",
          "2020-07-09T00:00:00",
          "2020-07-20T00:00:00",
          "2020-08-24T00:00:00",
          "2020-08-27T00:00:00",
          "2020-08-31T00:00:00",
          "2020-09-03T00:00:00",
          "2020-09-07T00:00:00",
          "2020-09-10T00:00:00",
          "2020-09-14T00:00:00",
          "2020-09-17T00:00:00",
          "2020-09-21T00:00:00",
          "2020-09-24T00:00:00",
          "2020-09-28T00:00:00",
          "2020-10-01T00:00:00",
          "2020-10-05T00:00:00",
          "2020-10-08T00:00:00",
          "2020-10-12T00:00:00",
          "2020-10-15T00:00:00",
          "2020-10-16T00:00:00",
          "2020-10-19T00:00:00",
          "2020-10-22T00:00:00",
          "2020-10-26T00:00:00",
          "2020-11-02T00:00:00",
          "2020-11-05T00:00:00",
          "2020-11-09T00:00:00",
          "2020-11-12T00:00:00",
          "2020-11-16T00:00:00",
          "2020-11-19T00:00:00",
          "2020-11-23T00:00:00",
          "2020-11-26T00:00:00",
          "2020-11-30T00:00:00",
          "2020-12-03T00:00:00",
          "2020-12-07T00:00:00",
          "2020-12-10T00:00:00",
          "2020-12-14T00:00:00",
          "2020-12-17T00:00:00",
          "2020-12-21T00:00:00",
          "2020-12-24T00:00:00",
          "2020-12-28T00:00:00",
          "2020-12-31T00:00:00",
          "2021-01-04T00:00:00",
          "2021-01-07T00:00:00",
          "2021-01-11T00:00:00",
          "2021-01-14T00:00:00",
          "2021-01-18T00:00:00",
          "2021-01-21T00:00:00",
          "2021-01-25T00:00:00",
          "2021-02-08T00:00:00",
          "2021-02-11T00:00:00",
          "2021-02-15T00:00:00",
          "2021-02-28T00:00:00",
          "2021-03-01T00:00:00",
          "2021-03-02T00:00:00",
          "2021-03-03T00:00:00",
          "2021-03-04T00:00:00",
          "2021-03-07T00:00:00",
          "2021-03-08T00:00:00",
          "2021-03-09T00:00:00",
          "2021-03-10T00:00:00",
          "2021-03-11T00:00:00",
          "2021-03-14T00:00:00",
          "2021-03-15T00:00:00",
          "2021-03-16T00:00:00",
          "2021-03-17T00:00:00",
          "2021-03-18T00:00:00",
          "2021-03-21T00:00:00",
          "2021-03-22T00:00:00",
          "2021-03-23T00:00:00",
          "2021-03-24T00:00:00",
          "2021-03-25T00:00:00",
          "2021-03-28T00:00:00",
          "2021-03-29T00:00:00",
          "2021-03-30T00:00:00",
          "2021-03-31T00:00:00",
          "2021-04-01T00:00:00",
          "2021-04-04T00:00:00",
          "2021-04-05T00:00:00",
          "2021-04-06T00:00:00",
          "2021-04-07T00:00:00"
         ],
         "xaxis": "x",
         "y": [
          null,
          null,
          null,
          null,
          null,
          null,
          null,
          null,
          null,
          null,
          null,
          null,
          null,
          null,
          null,
          null,
          null,
          null,
          null,
          null,
          null,
          null,
          null,
          null,
          null,
          null,
          null,
          null,
          null,
          null,
          null,
          null,
          null,
          null,
          null,
          null,
          null,
          null,
          null,
          null,
          null,
          null,
          null,
          6.939090632913792,
          null,
          null,
          8.446339629901832,
          17.171922098420943,
          null,
          null,
          null,
          null,
          null,
          7.456482728920633,
          17.337365454574567,
          10.037464810401065,
          42.08923818553775,
          12.848488370712584,
          11.15398796784823,
          25.748747803264724,
          13.097259250130783,
          36.18970198705396,
          0.9696203132120138,
          19.498198278316607,
          17.21313433722626,
          50.01951444561921,
          59.442212612883864,
          42.90416492986389,
          37.067687433853195,
          13.03461857108193,
          23.733427554422356,
          57.47875806524191,
          12.247037986427905,
          28.00224252041091,
          39.546112996485455,
          54.919611133806654,
          21.255544271427354,
          29.027426947874982,
          114.36372906517065,
          39.78381478092203,
          27.2704706448277,
          21.255544271427354,
          52.72658310867235,
          37.5146358342146,
          33.84041244724758,
          18.496579117633317,
          26.884068131589316,
          100.2375949936274,
          30.82015044632958,
          93.05894682561602,
          25.748747803264724,
          31.948500729941475,
          34.41303588812969,
          25.996824822768314,
          42.90416492986413,
          34.82797548664725,
          53.75,
          36.02,
          22.246011242609605,
          46.77105874492495,
          36.450891322260084,
          132.688510130453,
          80.78603048429905,
          70.64,
          98.33
         ],
         "yaxis": "y2"
        },
        {
         "marker": {
          "color": "#00CC96",
          "opacity": 0.3
         },
         "name": "Nouveaux cas<br>journaliers",
         "type": "bar",
         "x": [
          "2020-02-29T00:00:00",
          "2020-03-01T00:00:00",
          "2020-03-02T00:00:00",
          "2020-03-03T00:00:00",
          "2020-03-04T00:00:00",
          "2020-03-05T00:00:00",
          "2020-03-06T00:00:00",
          "2020-03-07T00:00:00",
          "2020-03-08T00:00:00",
          "2020-03-09T00:00:00",
          "2020-03-10T00:00:00",
          "2020-03-11T00:00:00",
          "2020-03-12T00:00:00",
          "2020-03-13T00:00:00",
          "2020-03-14T00:00:00",
          "2020-03-15T00:00:00",
          "2020-03-16T00:00:00",
          "2020-03-17T00:00:00",
          "2020-03-18T00:00:00",
          "2020-03-19T00:00:00",
          "2020-03-20T00:00:00",
          "2020-03-21T00:00:00",
          "2020-03-22T00:00:00",
          "2020-03-23T00:00:00",
          "2020-03-24T00:00:00",
          "2020-03-25T00:00:00",
          "2020-03-26T00:00:00",
          "2020-03-27T00:00:00",
          "2020-03-28T00:00:00",
          "2020-03-29T00:00:00",
          "2020-03-30T00:00:00",
          "2020-03-31T00:00:00",
          "2020-04-01T00:00:00",
          "2020-04-02T00:00:00",
          "2020-04-03T00:00:00",
          "2020-04-04T00:00:00",
          "2020-04-05T00:00:00",
          "2020-04-06T00:00:00",
          "2020-04-07T00:00:00",
          "2020-04-08T00:00:00",
          "2020-04-09T00:00:00",
          "2020-04-10T00:00:00",
          "2020-04-11T00:00:00",
          "2020-04-12T00:00:00",
          "2020-04-13T00:00:00",
          "2020-04-14T00:00:00",
          "2020-04-15T00:00:00",
          "2020-04-16T00:00:00",
          "2020-04-17T00:00:00",
          "2020-04-18T00:00:00",
          "2020-04-19T00:00:00",
          "2020-04-20T00:00:00",
          "2020-04-21T00:00:00",
          "2020-04-22T00:00:00",
          "2020-04-23T00:00:00",
          "2020-04-24T00:00:00",
          "2020-04-25T00:00:00",
          "2020-04-26T00:00:00",
          "2020-04-27T00:00:00",
          "2020-04-28T00:00:00",
          "2020-04-29T00:00:00",
          "2020-04-30T00:00:00",
          "2020-05-01T00:00:00",
          "2020-05-02T00:00:00",
          "2020-05-03T00:00:00",
          "2020-05-04T00:00:00",
          "2020-05-05T00:00:00",
          "2020-05-06T00:00:00",
          "2020-05-07T00:00:00",
          "2020-05-08T00:00:00",
          "2020-05-09T00:00:00",
          "2020-05-10T00:00:00",
          "2020-05-11T00:00:00",
          "2020-05-12T00:00:00",
          "2020-05-13T00:00:00",
          "2020-05-14T00:00:00",
          "2020-05-15T00:00:00",
          "2020-05-16T00:00:00",
          "2020-05-17T00:00:00",
          "2020-05-18T00:00:00",
          "2020-05-19T00:00:00",
          "2020-05-20T00:00:00",
          "2020-05-21T00:00:00",
          "2020-05-22T00:00:00",
          "2020-05-23T00:00:00",
          "2020-05-24T00:00:00",
          "2020-05-25T00:00:00",
          "2020-05-26T00:00:00",
          "2020-05-27T00:00:00",
          "2020-05-28T00:00:00",
          "2020-05-29T00:00:00",
          "2020-05-30T00:00:00",
          "2020-05-31T00:00:00",
          "2020-06-01T00:00:00",
          "2020-06-02T00:00:00",
          "2020-06-03T00:00:00",
          "2020-06-04T00:00:00",
          "2020-06-05T00:00:00",
          "2020-06-06T00:00:00",
          "2020-06-07T00:00:00",
          "2020-06-08T00:00:00",
          "2020-06-09T00:00:00",
          "2020-06-10T00:00:00",
          "2020-06-11T00:00:00",
          "2020-06-12T00:00:00",
          "2020-06-13T00:00:00",
          "2020-06-14T00:00:00",
          "2020-06-15T00:00:00",
          "2020-06-16T00:00:00",
          "2020-06-17T00:00:00",
          "2020-06-18T00:00:00",
          "2020-06-19T00:00:00",
          "2020-06-20T00:00:00",
          "2020-06-21T00:00:00",
          "2020-06-22T00:00:00",
          "2020-06-23T00:00:00",
          "2020-06-24T00:00:00",
          "2020-06-25T00:00:00",
          "2020-06-26T00:00:00",
          "2020-06-27T00:00:00",
          "2020-06-28T00:00:00",
          "2020-06-29T00:00:00",
          "2020-06-30T00:00:00",
          "2020-07-01T00:00:00",
          "2020-07-02T00:00:00",
          "2020-07-03T00:00:00",
          "2020-07-04T00:00:00",
          "2020-07-05T00:00:00",
          "2020-07-06T00:00:00",
          "2020-07-07T00:00:00",
          "2020-07-08T00:00:00",
          "2020-07-09T00:00:00",
          "2020-07-10T00:00:00",
          "2020-07-11T00:00:00",
          "2020-07-12T00:00:00",
          "2020-07-13T00:00:00",
          "2020-07-14T00:00:00",
          "2020-07-15T00:00:00",
          "2020-07-16T00:00:00",
          "2020-07-17T00:00:00",
          "2020-07-18T00:00:00",
          "2020-07-19T00:00:00",
          "2020-07-20T00:00:00",
          "2020-07-21T00:00:00",
          "2020-07-22T00:00:00",
          "2020-07-23T00:00:00",
          "2020-07-24T00:00:00",
          "2020-07-25T00:00:00",
          "2020-07-26T00:00:00",
          "2020-07-27T00:00:00",
          "2020-07-28T00:00:00",
          "2020-07-29T00:00:00",
          "2020-07-30T00:00:00",
          "2020-07-31T00:00:00",
          "2020-08-01T00:00:00",
          "2020-08-02T00:00:00",
          "2020-08-03T00:00:00",
          "2020-08-04T00:00:00",
          "2020-08-05T00:00:00",
          "2020-08-06T00:00:00",
          "2020-08-07T00:00:00",
          "2020-08-08T00:00:00",
          "2020-08-09T00:00:00",
          "2020-08-10T00:00:00",
          "2020-08-11T00:00:00",
          "2020-08-12T00:00:00",
          "2020-08-13T00:00:00",
          "2020-08-14T00:00:00",
          "2020-08-15T00:00:00",
          "2020-08-16T00:00:00",
          "2020-08-17T00:00:00",
          "2020-08-18T00:00:00",
          "2020-08-19T00:00:00",
          "2020-08-20T00:00:00",
          "2020-08-21T00:00:00",
          "2020-08-22T00:00:00",
          "2020-08-23T00:00:00",
          "2020-08-24T00:00:00",
          "2020-08-25T00:00:00",
          "2020-08-26T00:00:00",
          "2020-08-27T00:00:00",
          "2020-08-28T00:00:00",
          "2020-08-29T00:00:00",
          "2020-08-30T00:00:00",
          "2020-08-31T00:00:00",
          "2020-09-01T00:00:00",
          "2020-09-02T00:00:00",
          "2020-09-03T00:00:00",
          "2020-09-04T00:00:00",
          "2020-09-05T00:00:00",
          "2020-09-06T00:00:00",
          "2020-09-07T00:00:00",
          "2020-09-08T00:00:00",
          "2020-09-09T00:00:00",
          "2020-09-10T00:00:00",
          "2020-09-11T00:00:00",
          "2020-09-12T00:00:00",
          "2020-09-13T00:00:00",
          "2020-09-14T00:00:00",
          "2020-09-15T00:00:00",
          "2020-09-16T00:00:00",
          "2020-09-17T00:00:00",
          "2020-09-18T00:00:00",
          "2020-09-19T00:00:00",
          "2020-09-20T00:00:00",
          "2020-09-21T00:00:00",
          "2020-09-22T00:00:00",
          "2020-09-23T00:00:00",
          "2020-09-24T00:00:00",
          "2020-09-25T00:00:00",
          "2020-09-26T00:00:00",
          "2020-09-27T00:00:00",
          "2020-09-28T00:00:00",
          "2020-09-29T00:00:00",
          "2020-09-30T00:00:00",
          "2020-10-01T00:00:00",
          "2020-10-02T00:00:00",
          "2020-10-03T00:00:00",
          "2020-10-04T00:00:00",
          "2020-10-05T00:00:00",
          "2020-10-06T00:00:00",
          "2020-10-07T00:00:00",
          "2020-10-08T00:00:00",
          "2020-10-09T00:00:00",
          "2020-10-10T00:00:00",
          "2020-10-11T00:00:00",
          "2020-10-12T00:00:00",
          "2020-10-13T00:00:00",
          "2020-10-14T00:00:00",
          "2020-10-15T00:00:00",
          "2020-10-16T00:00:00",
          "2020-10-17T00:00:00",
          "2020-10-18T00:00:00",
          "2020-10-19T00:00:00",
          "2020-10-20T00:00:00",
          "2020-10-21T00:00:00",
          "2020-10-22T00:00:00",
          "2020-10-23T00:00:00",
          "2020-10-24T00:00:00",
          "2020-10-25T00:00:00",
          "2020-10-26T00:00:00",
          "2020-10-27T00:00:00",
          "2020-10-28T00:00:00",
          "2020-10-29T00:00:00",
          "2020-10-30T00:00:00",
          "2020-10-31T00:00:00",
          "2020-11-01T00:00:00",
          "2020-11-02T00:00:00",
          "2020-11-03T00:00:00",
          "2020-11-04T00:00:00",
          "2020-11-05T00:00:00",
          "2020-11-06T00:00:00",
          "2020-11-07T00:00:00",
          "2020-11-08T00:00:00",
          "2020-11-09T00:00:00",
          "2020-11-10T00:00:00",
          "2020-11-11T00:00:00",
          "2020-11-12T00:00:00",
          "2020-11-13T00:00:00",
          "2020-11-14T00:00:00",
          "2020-11-15T00:00:00",
          "2020-11-16T00:00:00",
          "2020-11-17T00:00:00",
          "2020-11-18T00:00:00",
          "2020-11-19T00:00:00",
          "2020-11-20T00:00:00",
          "2020-11-21T00:00:00",
          "2020-11-22T00:00:00",
          "2020-11-23T00:00:00",
          "2020-11-24T00:00:00",
          "2020-11-25T00:00:00",
          "2020-11-26T00:00:00",
          "2020-11-27T00:00:00",
          "2020-11-28T00:00:00",
          "2020-11-29T00:00:00",
          "2020-11-30T00:00:00",
          "2020-12-01T00:00:00",
          "2020-12-02T00:00:00",
          "2020-12-03T00:00:00",
          "2020-12-04T00:00:00",
          "2020-12-05T00:00:00",
          "2020-12-06T00:00:00",
          "2020-12-07T00:00:00",
          "2020-12-08T00:00:00",
          "2020-12-09T00:00:00",
          "2020-12-10T00:00:00",
          "2020-12-11T00:00:00",
          "2020-12-12T00:00:00",
          "2020-12-13T00:00:00",
          "2020-12-14T00:00:00",
          "2020-12-15T00:00:00",
          "2020-12-16T00:00:00",
          "2020-12-17T00:00:00",
          "2020-12-18T00:00:00",
          "2020-12-19T00:00:00",
          "2020-12-20T00:00:00",
          "2020-12-21T00:00:00",
          "2020-12-22T00:00:00",
          "2020-12-23T00:00:00",
          "2020-12-24T00:00:00",
          "2020-12-25T00:00:00",
          "2020-12-26T00:00:00",
          "2020-12-27T00:00:00",
          "2020-12-28T00:00:00",
          "2020-12-29T00:00:00",
          "2020-12-30T00:00:00",
          "2020-12-31T00:00:00",
          "2021-01-01T00:00:00",
          "2021-01-02T00:00:00",
          "2021-01-03T00:00:00",
          "2021-01-04T00:00:00",
          "2021-01-05T00:00:00",
          "2021-01-06T00:00:00",
          "2021-01-07T00:00:00",
          "2021-01-08T00:00:00",
          "2021-01-09T00:00:00",
          "2021-01-10T00:00:00",
          "2021-01-11T00:00:00",
          "2021-01-12T00:00:00",
          "2021-01-13T00:00:00",
          "2021-01-14T00:00:00",
          "2021-01-15T00:00:00",
          "2021-01-16T00:00:00",
          "2021-01-17T00:00:00",
          "2021-01-18T00:00:00",
          "2021-01-19T00:00:00",
          "2021-01-20T00:00:00",
          "2021-01-21T00:00:00",
          "2021-01-22T00:00:00",
          "2021-01-23T00:00:00",
          "2021-01-24T00:00:00",
          "2021-01-25T00:00:00",
          "2021-01-26T00:00:00",
          "2021-01-27T00:00:00",
          "2021-01-28T00:00:00",
          "2021-01-29T00:00:00",
          "2021-01-30T00:00:00",
          "2021-01-31T00:00:00",
          "2021-02-01T00:00:00",
          "2021-02-02T00:00:00",
          "2021-02-03T00:00:00",
          "2021-02-04T00:00:00",
          "2021-02-05T00:00:00",
          "2021-02-06T00:00:00",
          "2021-02-07T00:00:00",
          "2021-02-08T00:00:00",
          "2021-02-09T00:00:00",
          "2021-02-10T00:00:00",
          "2021-02-11T00:00:00",
          "2021-02-12T00:00:00",
          "2021-02-13T00:00:00",
          "2021-02-14T00:00:00",
          "2021-02-15T00:00:00",
          "2021-02-16T00:00:00",
          "2021-02-17T00:00:00",
          "2021-02-18T00:00:00",
          "2021-02-19T00:00:00",
          "2021-02-20T00:00:00",
          "2021-02-21T00:00:00",
          "2021-02-22T00:00:00",
          "2021-02-23T00:00:00",
          "2021-02-24T00:00:00",
          "2021-02-25T00:00:00",
          "2021-02-26T00:00:00",
          "2021-02-27T00:00:00",
          "2021-02-28T00:00:00",
          "2021-03-01T00:00:00",
          "2021-03-02T00:00:00",
          "2021-03-03T00:00:00",
          "2021-03-04T00:00:00",
          "2021-03-05T00:00:00",
          "2021-03-06T00:00:00",
          "2021-03-07T00:00:00",
          "2021-03-08T00:00:00",
          "2021-03-09T00:00:00",
          "2021-03-10T00:00:00",
          "2021-03-11T00:00:00",
          "2021-03-12T00:00:00",
          "2021-03-13T00:00:00",
          "2021-03-14T00:00:00",
          "2021-03-15T00:00:00",
          "2021-03-16T00:00:00",
          "2021-03-17T00:00:00",
          "2021-03-18T00:00:00",
          "2021-03-19T00:00:00",
          "2021-03-20T00:00:00",
          "2021-03-21T00:00:00",
          "2021-03-22T00:00:00",
          "2021-03-23T00:00:00",
          "2021-03-24T00:00:00",
          "2021-03-25T00:00:00",
          "2021-03-26T00:00:00",
          "2021-03-27T00:00:00",
          "2021-03-28T00:00:00",
          "2021-03-29T00:00:00",
          "2021-03-30T00:00:00",
          "2021-03-31T00:00:00",
          "2021-04-01T00:00:00",
          "2021-04-02T00:00:00",
          "2021-04-03T00:00:00",
          "2021-04-04T00:00:00",
          "2021-04-05T00:00:00",
          "2021-04-06T00:00:00",
          "2021-04-07T00:00:00",
          "2021-04-08T00:00:00",
          "2021-04-09T00:00:00",
          "2021-04-10T00:00:00",
          "2021-04-11T00:00:00",
          "2021-04-12T00:00:00",
          "2021-04-13T00:00:00",
          "2021-04-14T00:00:00",
          "2021-04-15T00:00:00",
          "2021-04-16T00:00:00",
          "2021-04-17T00:00:00",
          "2021-04-18T00:00:00",
          "2021-04-19T00:00:00",
          "2021-04-20T00:00:00",
          "2021-04-21T00:00:00",
          "2021-04-22T00:00:00",
          "2021-04-23T00:00:00",
          "2021-04-24T00:00:00",
          "2021-04-25T00:00:00",
          "2021-04-26T00:00:00",
          "2021-04-27T00:00:00",
          "2021-04-28T00:00:00",
          "2021-04-29T00:00:00",
          "2021-04-30T00:00:00",
          "2021-05-01T00:00:00",
          "2021-05-02T00:00:00",
          "2021-05-03T00:00:00",
          "2021-05-04T00:00:00",
          "2021-05-05T00:00:00",
          "2021-05-06T00:00:00",
          "2021-05-07T00:00:00",
          "2021-05-08T00:00:00",
          "2021-05-09T00:00:00",
          "2021-05-10T00:00:00",
          "2021-05-11T00:00:00",
          "2021-05-12T00:00:00",
          "2021-05-13T00:00:00",
          "2021-05-14T00:00:00",
          "2021-05-15T00:00:00",
          "2021-05-16T00:00:00",
          "2021-05-17T00:00:00"
         ],
         "y": [
          741,
          1218,
          924,
          789,
          767,
          816,
          1084,
          1273,
          1040,
          818,
          776,
          558,
          858,
          728,
          811,
          713,
          876,
          579,
          463,
          630,
          666,
          761,
          606,
          559,
          424,
          501,
          590,
          454,
          573,
          495,
          551,
          388,
          468,
          557,
          481,
          522,
          545,
          509,
          407,
          329,
          449,
          551,
          473,
          476,
          338,
          349,
          318,
          409,
          327,
          372,
          395,
          384,
          401,
          256,
          419,
          408,
          387,
          396,
          320,
          248,
          257,
          390,
          303,
          376,
          280,
          399,
          266,
          260,
          390,
          315,
          364,
          387,
          279,
          266,
          245,
          335,
          312,
          352,
          319,
          266,
          308,
          228,
          335,
          369,
          354,
          360,
          307,
          258,
          304,
          375,
          398,
          359,
          385,
          355,
          299,
          294,
          309,
          404,
          395,
          515,
          298,
          377,
          264,
          375,
          354,
          432,
          367,
          352,
          219,
          253,
          276,
          311,
          316,
          228,
          340,
          201,
          245,
          291,
          312,
          344,
          325,
          264,
          211,
          229,
          238,
          202,
          261,
          281,
          212,
          198,
          188,
          263,
          261,
          289,
          245,
          209,
          103
         ]
        }
       ],
       "layout": {
        "hovermode": "x unified",
        "images": [
         {
          "sizex": 0.5,
          "sizey": 0.25,
          "source": "data:image/png;base64,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",
          "x": 1.125,
          "xanchor": "right",
          "xref": "paper",
          "y": 1,
          "yanchor": "bottom",
          "yref": "paper"
         }
        ],
        "legend": {
         "orientation": "h",
         "x": 0,
         "xanchor": "left",
         "y": 1.05,
         "yanchor": "top"
        },
        "plot_bgcolor": "white",
        "template": {
         "data": {
          "bar": [
           {
            "error_x": {
             "color": "#2a3f5f"
            },
            "error_y": {
             "color": "#2a3f5f"
            },
            "marker": {
             "line": {
              "color": "#E5ECF6",
              "width": 0.5
             }
            },
            "type": "bar"
           }
          ],
          "barpolar": [
           {
            "marker": {
             "line": {
              "color": "#E5ECF6",
              "width": 0.5
             }
            },
            "type": "barpolar"
           }
          ],
          "carpet": [
           {
            "aaxis": {
             "endlinecolor": "#2a3f5f",
             "gridcolor": "white",
             "linecolor": "white",
             "minorgridcolor": "white",
             "startlinecolor": "#2a3f5f"
            },
            "baxis": {
             "endlinecolor": "#2a3f5f",
             "gridcolor": "white",
             "linecolor": "white",
             "minorgridcolor": "white",
             "startlinecolor": "#2a3f5f"
            },
            "type": "carpet"
           }
          ],
          "choropleth": [
           {
            "colorbar": {
             "outlinewidth": 0,
             "ticks": ""
            },
            "type": "choropleth"
           }
          ],
          "contour": [
           {
            "colorbar": {
             "outlinewidth": 0,
             "ticks": ""
            },
            "colorscale": [
             [
              0,
              "#0d0887"
             ],
             [
              0.1111111111111111,
              "#46039f"
             ],
             [
              0.2222222222222222,
              "#7201a8"
             ],
             [
              0.3333333333333333,
              "#9c179e"
             ],
             [
              0.4444444444444444,
              "#bd3786"
             ],
             [
              0.5555555555555556,
              "#d8576b"
             ],
             [
              0.6666666666666666,
              "#ed7953"
             ],
             [
              0.7777777777777778,
              "#fb9f3a"
             ],
             [
              0.8888888888888888,
              "#fdca26"
             ],
             [
              1,
              "#f0f921"
             ]
            ],
            "type": "contour"
           }
          ],
          "contourcarpet": [
           {
            "colorbar": {
             "outlinewidth": 0,
             "ticks": ""
            },
            "type": "contourcarpet"
           }
          ],
          "heatmap": [
           {
            "colorbar": {
             "outlinewidth": 0,
             "ticks": ""
            },
            "colorscale": [
             [
              0,
              "#0d0887"
             ],
             [
              0.1111111111111111,
              "#46039f"
             ],
             [
              0.2222222222222222,
              "#7201a8"
             ],
             [
              0.3333333333333333,
              "#9c179e"
             ],
             [
              0.4444444444444444,
              "#bd3786"
             ],
             [
              0.5555555555555556,
              "#d8576b"
             ],
             [
              0.6666666666666666,
              "#ed7953"
             ],
             [
              0.7777777777777778,
              "#fb9f3a"
             ],
             [
              0.8888888888888888,
              "#fdca26"
             ],
             [
              1,
              "#f0f921"
             ]
            ],
            "type": "heatmap"
           }
          ],
          "heatmapgl": [
           {
            "colorbar": {
             "outlinewidth": 0,
             "ticks": ""
            },
            "colorscale": [
             [
              0,
              "#0d0887"
             ],
             [
              0.1111111111111111,
              "#46039f"
             ],
             [
              0.2222222222222222,
              "#7201a8"
             ],
             [
              0.3333333333333333,
              "#9c179e"
             ],
             [
              0.4444444444444444,
              "#bd3786"
             ],
             [
              0.5555555555555556,
              "#d8576b"
             ],
             [
              0.6666666666666666,
              "#ed7953"
             ],
             [
              0.7777777777777778,
              "#fb9f3a"
             ],
             [
              0.8888888888888888,
              "#fdca26"
             ],
             [
              1,
              "#f0f921"
             ]
            ],
            "type": "heatmapgl"
           }
          ],
          "histogram": [
           {
            "marker": {
             "colorbar": {
              "outlinewidth": 0,
              "ticks": ""
             }
            },
            "type": "histogram"
           }
          ],
          "histogram2d": [
           {
            "colorbar": {
             "outlinewidth": 0,
             "ticks": ""
            },
            "colorscale": [
             [
              0,
              "#0d0887"
             ],
             [
              0.1111111111111111,
              "#46039f"
             ],
             [
              0.2222222222222222,
              "#7201a8"
             ],
             [
              0.3333333333333333,
              "#9c179e"
             ],
             [
              0.4444444444444444,
              "#bd3786"
             ],
             [
              0.5555555555555556,
              "#d8576b"
             ],
             [
              0.6666666666666666,
              "#ed7953"
             ],
             [
              0.7777777777777778,
              "#fb9f3a"
             ],
             [
              0.8888888888888888,
              "#fdca26"
             ],
             [
              1,
              "#f0f921"
             ]
            ],
            "type": "histogram2d"
           }
          ],
          "histogram2dcontour": [
           {
            "colorbar": {
             "outlinewidth": 0,
             "ticks": ""
            },
            "colorscale": [
             [
              0,
              "#0d0887"
             ],
             [
              0.1111111111111111,
              "#46039f"
             ],
             [
              0.2222222222222222,
              "#7201a8"
             ],
             [
              0.3333333333333333,
              "#9c179e"
             ],
             [
              0.4444444444444444,
              "#bd3786"
             ],
             [
              0.5555555555555556,
              "#d8576b"
             ],
             [
              0.6666666666666666,
              "#ed7953"
             ],
             [
              0.7777777777777778,
              "#fb9f3a"
             ],
             [
              0.8888888888888888,
              "#fdca26"
             ],
             [
              1,
              "#f0f921"
             ]
            ],
            "type": "histogram2dcontour"
           }
          ],
          "mesh3d": [
           {
            "colorbar": {
             "outlinewidth": 0,
             "ticks": ""
            },
            "type": "mesh3d"
           }
          ],
          "parcoords": [
           {
            "line": {
             "colorbar": {
              "outlinewidth": 0,
              "ticks": ""
             }
            },
            "type": "parcoords"
           }
          ],
          "pie": [
           {
            "automargin": true,
            "type": "pie"
           }
          ],
          "scatter": [
           {
            "marker": {
             "colorbar": {
              "outlinewidth": 0,
              "ticks": ""
             }
            },
            "type": "scatter"
           }
          ],
          "scatter3d": [
           {
            "line": {
             "colorbar": {
              "outlinewidth": 0,
              "ticks": ""
             }
            },
            "marker": {
             "colorbar": {
              "outlinewidth": 0,
              "ticks": ""
             }
            },
            "type": "scatter3d"
           }
          ],
          "scattercarpet": [
           {
            "marker": {
             "colorbar": {
              "outlinewidth": 0,
              "ticks": ""
             }
            },
            "type": "scattercarpet"
           }
          ],
          "scattergeo": [
           {
            "marker": {
             "colorbar": {
              "outlinewidth": 0,
              "ticks": ""
             }
            },
            "type": "scattergeo"
           }
          ],
          "scattergl": [
           {
            "marker": {
             "colorbar": {
              "outlinewidth": 0,
              "ticks": ""
             }
            },
            "type": "scattergl"
           }
          ],
          "scattermapbox": [
           {
            "marker": {
             "colorbar": {
              "outlinewidth": 0,
              "ticks": ""
             }
            },
            "type": "scattermapbox"
           }
          ],
          "scatterpolar": [
           {
            "marker": {
             "colorbar": {
              "outlinewidth": 0,
              "ticks": ""
             }
            },
            "type": "scatterpolar"
           }
          ],
          "scatterpolargl": [
           {
            "marker": {
             "colorbar": {
              "outlinewidth": 0,
              "ticks": ""
             }
            },
            "type": "scatterpolargl"
           }
          ],
          "scatterternary": [
           {
            "marker": {
             "colorbar": {
              "outlinewidth": 0,
              "ticks": ""
             }
            },
            "type": "scatterternary"
           }
          ],
          "surface": [
           {
            "colorbar": {
             "outlinewidth": 0,
             "ticks": ""
            },
            "colorscale": [
             [
              0,
              "#0d0887"
             ],
             [
              0.1111111111111111,
              "#46039f"
             ],
             [
              0.2222222222222222,
              "#7201a8"
             ],
             [
              0.3333333333333333,
              "#9c179e"
             ],
             [
              0.4444444444444444,
              "#bd3786"
             ],
             [
              0.5555555555555556,
              "#d8576b"
             ],
             [
              0.6666666666666666,
              "#ed7953"
             ],
             [
              0.7777777777777778,
              "#fb9f3a"
             ],
             [
              0.8888888888888888,
              "#fdca26"
             ],
             [
              1,
              "#f0f921"
             ]
            ],
            "type": "surface"
           }
          ],
          "table": [
           {
            "cells": {
             "fill": {
              "color": "#EBF0F8"
             },
             "line": {
              "color": "white"
             }
            },
            "header": {
             "fill": {
              "color": "#C8D4E3"
             },
             "line": {
              "color": "white"
             }
            },
            "type": "table"
           }
          ]
         },
         "layout": {
          "annotationdefaults": {
           "arrowcolor": "#2a3f5f",
           "arrowhead": 0,
           "arrowwidth": 1
          },
          "autotypenumbers": "strict",
          "coloraxis": {
           "colorbar": {
            "outlinewidth": 0,
            "ticks": ""
           }
          },
          "colorscale": {
           "diverging": [
            [
             0,
             "#8e0152"
            ],
            [
             0.1,
             "#c51b7d"
            ],
            [
             0.2,
             "#de77ae"
            ],
            [
             0.3,
             "#f1b6da"
            ],
            [
             0.4,
             "#fde0ef"
            ],
            [
             0.5,
             "#f7f7f7"
            ],
            [
             0.6,
             "#e6f5d0"
            ],
            [
             0.7,
             "#b8e186"
            ],
            [
             0.8,
             "#7fbc41"
            ],
            [
             0.9,
             "#4d9221"
            ],
            [
             1,
             "#276419"
            ]
           ],
           "sequential": [
            [
             0,
             "#0d0887"
            ],
            [
             0.1111111111111111,
             "#46039f"
            ],
            [
             0.2222222222222222,
             "#7201a8"
            ],
            [
             0.3333333333333333,
             "#9c179e"
            ],
            [
             0.4444444444444444,
             "#bd3786"
            ],
            [
             0.5555555555555556,
             "#d8576b"
            ],
            [
             0.6666666666666666,
             "#ed7953"
            ],
            [
             0.7777777777777778,
             "#fb9f3a"
            ],
            [
             0.8888888888888888,
             "#fdca26"
            ],
            [
             1,
             "#f0f921"
            ]
           ],
           "sequentialminus": [
            [
             0,
             "#0d0887"
            ],
            [
             0.1111111111111111,
             "#46039f"
            ],
            [
             0.2222222222222222,
             "#7201a8"
            ],
            [
             0.3333333333333333,
             "#9c179e"
            ],
            [
             0.4444444444444444,
             "#bd3786"
            ],
            [
             0.5555555555555556,
             "#d8576b"
            ],
            [
             0.6666666666666666,
             "#ed7953"
            ],
            [
             0.7777777777777778,
             "#fb9f3a"
            ],
            [
             0.8888888888888888,
             "#fdca26"
            ],
            [
             1,
             "#f0f921"
            ]
           ]
          },
          "colorway": [
           "#636efa",
           "#EF553B",
           "#00cc96",
           "#ab63fa",
           "#FFA15A",
           "#19d3f3",
           "#FF6692",
           "#B6E880",
           "#FF97FF",
           "#FECB52"
          ],
          "font": {
           "color": "#2a3f5f"
          },
          "geo": {
           "bgcolor": "white",
           "lakecolor": "white",
           "landcolor": "#E5ECF6",
           "showlakes": true,
           "showland": true,
           "subunitcolor": "white"
          },
          "hoverlabel": {
           "align": "left"
          },
          "hovermode": "closest",
          "mapbox": {
           "style": "light"
          },
          "paper_bgcolor": "white",
          "plot_bgcolor": "#E5ECF6",
          "polar": {
           "angularaxis": {
            "gridcolor": "white",
            "linecolor": "white",
            "ticks": ""
           },
           "bgcolor": "#E5ECF6",
           "radialaxis": {
            "gridcolor": "white",
            "linecolor": "white",
            "ticks": ""
           }
          },
          "scene": {
           "xaxis": {
            "backgroundcolor": "#E5ECF6",
            "gridcolor": "white",
            "gridwidth": 2,
            "linecolor": "white",
            "showbackground": true,
            "ticks": "",
            "zerolinecolor": "white"
           },
           "yaxis": {
            "backgroundcolor": "#E5ECF6",
            "gridcolor": "white",
            "gridwidth": 2,
            "linecolor": "white",
            "showbackground": true,
            "ticks": "",
            "zerolinecolor": "white"
           },
           "zaxis": {
            "backgroundcolor": "#E5ECF6",
            "gridcolor": "white",
            "gridwidth": 2,
            "linecolor": "white",
            "showbackground": true,
            "ticks": "",
            "zerolinecolor": "white"
           }
          },
          "shapedefaults": {
           "line": {
            "color": "#2a3f5f"
           }
          },
          "ternary": {
           "aaxis": {
            "gridcolor": "white",
            "linecolor": "white",
            "ticks": ""
           },
           "baxis": {
            "gridcolor": "white",
            "linecolor": "white",
            "ticks": ""
           },
           "bgcolor": "#E5ECF6",
           "caxis": {
            "gridcolor": "white",
            "linecolor": "white",
            "ticks": ""
           }
          },
          "title": {
           "x": 0.05
          },
          "xaxis": {
           "automargin": true,
           "gridcolor": "white",
           "linecolor": "white",
           "ticks": "",
           "title": {
            "standoff": 15
           },
           "zerolinecolor": "white",
           "zerolinewidth": 2
          },
          "yaxis": {
           "automargin": true,
           "gridcolor": "white",
           "linecolor": "white",
           "ticks": "",
           "title": {
            "standoff": 15
           },
           "zerolinecolor": "white",
           "zerolinewidth": 2
          }
         }
        },
        "title": {
         "text": "Surveillance SRAS-CoV-2 via les eaux usées<br>Montréal Intercepteur Nord"
        },
        "xaxis": {
         "anchor": "y",
         "domain": [
          0.12,
          1
         ],
         "dtick": 604800000,
         "gridcolor": "rgba(100,100,100,0.10)",
         "tick0": "2020-12-27",
         "tickangle": 30,
         "tickformat": "%d-%m-%Y",
         "ticks": "outside",
         "title": {
          "text": "Date"
         }
        },
        "yaxis": {
         "anchor": "x",
         "domain": [
          0,
          0.9
         ],
         "gridcolor": "rgba(0,0,0,0)",
         "side": "right",
         "title": {
          "text": "Nouveaux cas"
         }
        },
        "yaxis2": {
         "anchor": "x",
         "overlaying": "y",
         "range": [
          0,
          null
         ],
         "side": "left",
         "title": {
          "standoff": 0.01,
          "text": "Signal viral normalisé (gc/gc)"
         }
        },
        "yaxis3": {
         "overlaying": "y",
         "position": 0,
         "side": "left",
         "title": {
          "standoff": 0.01,
          "text": "Signal viral (gc/ml)"
         }
        }
       }
      }
     },
     "metadata": {}
    },
    {
     "output_type": "display_data",
     "data": {
      "application/vnd.plotly.v1+json": {
       "config": {
        "plotlyServerURL": "https://plot.ly"
       },
       "data": [
        {
         "connectgaps": true,
         "hovertemplate": " %{y:.3f}",
         "marker": {
          "color": "#636EFA"
         },
         "mode": "lines+markers",
         "name": "SARS/PMMV (gc/gc)",
         "type": "scatter",
         "visible": true,
         "x": [
          "2021-01-01T00:00:00",
          "2021-01-02T00:00:00",
          "2021-01-03T00:00:00",
          "2021-01-04T00:00:00",
          "2021-01-05T00:00:00",
          "2021-01-06T00:00:00",
          "2021-01-07T00:00:00",
          "2021-01-08T00:00:00",
          "2021-01-09T00:00:00",
          "2021-01-10T00:00:00",
          "2021-01-11T00:00:00",
          "2021-01-12T00:00:00",
          "2021-01-13T00:00:00",
          "2021-01-14T00:00:00",
          "2021-01-15T00:00:00",
          "2021-01-16T00:00:00",
          "2021-01-17T00:00:00",
          "2021-01-18T00:00:00",
          "2021-01-19T00:00:00",
          "2021-01-20T00:00:00",
          "2021-01-21T00:00:00",
          "2021-01-22T00:00:00",
          "2021-01-23T00:00:00",
          "2021-01-24T00:00:00",
          "2021-01-25T00:00:00",
          "2021-01-26T00:00:00",
          "2021-01-27T00:00:00",
          "2021-01-28T00:00:00",
          "2021-01-29T00:00:00",
          "2021-01-30T00:00:00",
          "2021-01-31T00:00:00",
          "2021-02-01T00:00:00",
          "2021-02-02T00:00:00",
          "2021-02-03T00:00:00",
          "2021-02-04T00:00:00",
          "2021-02-05T00:00:00",
          "2021-02-06T00:00:00",
          "2021-02-07T00:00:00",
          "2021-02-08T00:00:00",
          "2021-02-09T00:00:00",
          "2021-02-10T00:00:00",
          "2021-02-11T00:00:00",
          "2021-02-12T00:00:00",
          "2021-02-13T00:00:00",
          "2021-02-14T00:00:00",
          "2021-02-15T00:00:00",
          "2021-02-16T00:00:00",
          "2021-02-17T00:00:00",
          "2021-02-18T00:00:00",
          "2021-02-19T00:00:00",
          "2021-02-20T00:00:00",
          "2021-02-21T00:00:00",
          "2021-02-22T00:00:00",
          "2021-02-23T00:00:00",
          "2021-02-24T00:00:00",
          "2021-02-25T00:00:00",
          "2021-02-26T00:00:00",
          "2021-02-27T00:00:00",
          "2021-02-28T00:00:00",
          "2021-03-01T00:00:00",
          "2021-03-02T00:00:00",
          "2021-03-03T00:00:00",
          "2021-03-04T00:00:00",
          "2021-03-05T00:00:00",
          "2021-03-06T00:00:00",
          "2021-03-07T00:00:00",
          "2021-03-08T00:00:00",
          "2021-03-09T00:00:00",
          "2021-03-10T00:00:00",
          "2021-03-11T00:00:00",
          "2021-03-12T00:00:00",
          "2021-03-13T00:00:00",
          "2021-03-14T00:00:00",
          "2021-03-15T00:00:00",
          "2021-03-16T00:00:00",
          "2021-03-17T00:00:00",
          "2021-03-18T00:00:00",
          "2021-03-19T00:00:00",
          "2021-03-20T00:00:00",
          "2021-03-21T00:00:00",
          "2021-03-22T00:00:00",
          "2021-03-23T00:00:00",
          "2021-03-24T00:00:00",
          "2021-03-25T00:00:00",
          "2021-03-26T00:00:00",
          "2021-03-27T00:00:00",
          "2021-03-28T00:00:00",
          "2021-03-29T00:00:00",
          "2021-03-30T00:00:00",
          "2021-03-31T00:00:00",
          "2021-04-01T00:00:00",
          "2021-04-02T00:00:00",
          "2021-04-03T00:00:00",
          "2021-04-04T00:00:00",
          "2021-04-05T00:00:00",
          "2021-04-06T00:00:00",
          "2021-04-07T00:00:00",
          "2021-04-08T00:00:00",
          "2021-04-09T00:00:00",
          "2021-04-10T00:00:00",
          "2021-04-11T00:00:00",
          "2021-04-12T00:00:00",
          "2021-04-13T00:00:00",
          "2021-04-14T00:00:00",
          "2021-04-15T00:00:00",
          "2021-04-16T00:00:00",
          "2021-04-17T00:00:00",
          "2021-04-18T00:00:00",
          "2021-04-19T00:00:00",
          "2021-04-20T00:00:00",
          "2021-04-21T00:00:00",
          "2021-04-22T00:00:00",
          "2021-04-23T00:00:00",
          "2021-04-24T00:00:00",
          "2021-04-25T00:00:00",
          "2021-04-26T00:00:00",
          "2021-04-27T00:00:00",
          "2021-04-28T00:00:00",
          "2021-04-29T00:00:00",
          "2021-04-30T00:00:00",
          "2021-05-01T00:00:00",
          "2021-05-02T00:00:00",
          "2021-05-03T00:00:00",
          "2021-05-04T00:00:00",
          "2021-05-05T00:00:00",
          "2021-05-06T00:00:00",
          "2021-05-07T00:00:00",
          "2021-05-08T00:00:00",
          "2021-05-09T00:00:00",
          "2021-05-10T00:00:00",
          "2021-05-11T00:00:00",
          "2021-05-12T00:00:00",
          "2021-05-13T00:00:00",
          "2021-05-14T00:00:00",
          "2021-05-15T00:00:00",
          "2021-05-16T00:00:00",
          "2021-05-17T00:00:00"
         ],
         "y": [
          null,
          null,
          null,
          0.13835064051779808,
          null,
          null,
          0.0546603458561446,
          null,
          null,
          null,
          0.03622233745160084,
          null,
          null,
          0.007649358776348135,
          null,
          null,
          null,
          0.02158180754134772,
          null,
          null,
          0.07756810823486016,
          null,
          null,
          null,
          0.024276750592625868,
          null,
          null,
          null,
          null,
          null,
          null,
          null,
          null,
          null,
          null,
          null,
          null,
          null,
          0.029831709808309303,
          null,
          null,
          0.09728013791590971,
          null,
          null,
          null,
          0.08436451365740608,
          null,
          null,
          null,
          null,
          null,
          null,
          null,
          null,
          null,
          null,
          null,
          null,
          0.05436994075018417,
          0.2145176042823748,
          0.14934021056076127,
          0.044894657175743785,
          0.09164875248323441,
          null,
          null,
          0.10826815210527851,
          0.14286280077485347,
          0.09715051997929523,
          0.06735674020424345,
          0.060927340489034566,
          null,
          null,
          0.06990774660396387,
          0.19266184633165717,
          0.046190384628086514,
          0.264898027216766,
          0.047496540446516376,
          null,
          null,
          0.031868459491598805,
          0.047017179858227585,
          0.015445599747207916,
          0.03448650300399036,
          0.014350455232804734,
          null,
          null,
          0.019778917697623587,
          0.019112403429832753,
          0.027255792810714014,
          0.032555146242875144,
          0.019301311373834867,
          null,
          null,
          0.03435275936582607,
          0.0327438717691773,
          0.054158073493671084,
          0.06788214339956093,
          0.0050918490429475195,
          null,
          null,
          0.029450787404819625,
          0.008788853412735102,
          0.01098395143870285,
          0.008255113758429494,
          0.017247379882734497,
          null,
          null,
          0.023502506859370994,
          0.008678754598982544,
          0.07838047054167238,
          0.01723914167692176,
          0.069064714991053,
          null,
          null,
          0.027150425656809713,
          0.024087050211168626,
          null,
          0.03364066104906298,
          0.03784001347728941,
          null,
          null,
          0.021773817725224517,
          0.8466156291161681,
          0.06602436091886126,
          0.14086476751342633,
          0.10455744082216958,
          null,
          null,
          0.29613537139430696,
          0.04650798854611047,
          0.010172304816552092,
          0.021959864967750743,
          null,
          null,
          null,
          null,
          null
         ],
         "yaxis": "y2"
        },
        {
         "connectgaps": true,
         "hovertemplate": " %{y:.3f}",
         "marker": {
          "color": "#EF553B"
         },
         "mode": "lines+markers",
         "name": "SARS (gc/ml)",
         "type": "scatter",
         "visible": "legendonly",
         "x": [
          "2021-01-01T00:00:00",
          "2021-01-02T00:00:00",
          "2021-01-03T00:00:00",
          "2021-01-04T00:00:00",
          "2021-01-05T00:00:00",
          "2021-01-06T00:00:00",
          "2021-01-07T00:00:00",
          "2021-01-08T00:00:00",
          "2021-01-09T00:00:00",
          "2021-01-10T00:00:00",
          "2021-01-11T00:00:00",
          "2021-01-12T00:00:00",
          "2021-01-13T00:00:00",
          "2021-01-14T00:00:00",
          "2021-01-15T00:00:00",
          "2021-01-16T00:00:00",
          "2021-01-17T00:00:00",
          "2021-01-18T00:00:00",
          "2021-01-19T00:00:00",
          "2021-01-20T00:00:00",
          "2021-01-21T00:00:00",
          "2021-01-22T00:00:00",
          "2021-01-23T00:00:00",
          "2021-01-24T00:00:00",
          "2021-01-25T00:00:00",
          "2021-01-26T00:00:00",
          "2021-01-27T00:00:00",
          "2021-01-28T00:00:00",
          "2021-01-29T00:00:00",
          "2021-01-30T00:00:00",
          "2021-01-31T00:00:00",
          "2021-02-01T00:00:00",
          "2021-02-02T00:00:00",
          "2021-02-03T00:00:00",
          "2021-02-04T00:00:00",
          "2021-02-05T00:00:00",
          "2021-02-06T00:00:00",
          "2021-02-07T00:00:00",
          "2021-02-08T00:00:00",
          "2021-02-09T00:00:00",
          "2021-02-10T00:00:00",
          "2021-02-11T00:00:00",
          "2021-02-12T00:00:00",
          "2021-02-13T00:00:00",
          "2021-02-14T00:00:00",
          "2021-02-15T00:00:00",
          "2021-02-16T00:00:00",
          "2021-02-17T00:00:00",
          "2021-02-18T00:00:00",
          "2021-02-19T00:00:00",
          "2021-02-20T00:00:00",
          "2021-02-21T00:00:00",
          "2021-02-22T00:00:00",
          "2021-02-23T00:00:00",
          "2021-02-24T00:00:00",
          "2021-02-25T00:00:00",
          "2021-02-26T00:00:00",
          "2021-02-27T00:00:00",
          "2021-02-28T00:00:00",
          "2021-03-01T00:00:00",
          "2021-03-02T00:00:00",
          "2021-03-03T00:00:00",
          "2021-03-04T00:00:00",
          "2021-03-05T00:00:00",
          "2021-03-06T00:00:00",
          "2021-03-07T00:00:00",
          "2021-03-08T00:00:00",
          "2021-03-09T00:00:00",
          "2021-03-10T00:00:00",
          "2021-03-11T00:00:00",
          "2021-03-12T00:00:00",
          "2021-03-13T00:00:00",
          "2021-03-14T00:00:00",
          "2021-03-15T00:00:00",
          "2021-03-16T00:00:00",
          "2021-03-17T00:00:00",
          "2021-03-18T00:00:00",
          "2021-03-19T00:00:00",
          "2021-03-20T00:00:00",
          "2021-03-21T00:00:00",
          "2021-03-22T00:00:00",
          "2021-03-23T00:00:00",
          "2021-03-24T00:00:00",
          "2021-03-25T00:00:00",
          "2021-03-26T00:00:00",
          "2021-03-27T00:00:00",
          "2021-03-28T00:00:00",
          "2021-03-29T00:00:00",
          "2021-03-30T00:00:00",
          "2021-03-31T00:00:00",
          "2021-04-01T00:00:00",
          "2021-04-02T00:00:00",
          "2021-04-03T00:00:00",
          "2021-04-04T00:00:00",
          "2021-04-05T00:00:00",
          "2021-04-06T00:00:00",
          "2021-04-07T00:00:00",
          "2021-04-08T00:00:00",
          "2021-04-09T00:00:00",
          "2021-04-10T00:00:00",
          "2021-04-11T00:00:00",
          "2021-04-12T00:00:00",
          "2021-04-13T00:00:00",
          "2021-04-14T00:00:00",
          "2021-04-15T00:00:00",
          "2021-04-16T00:00:00",
          "2021-04-17T00:00:00",
          "2021-04-18T00:00:00",
          "2021-04-19T00:00:00",
          "2021-04-20T00:00:00",
          "2021-04-21T00:00:00",
          "2021-04-22T00:00:00",
          "2021-04-23T00:00:00",
          "2021-04-24T00:00:00",
          "2021-04-25T00:00:00",
          "2021-04-26T00:00:00",
          "2021-04-27T00:00:00",
          "2021-04-28T00:00:00",
          "2021-04-29T00:00:00",
          "2021-04-30T00:00:00",
          "2021-05-01T00:00:00",
          "2021-05-02T00:00:00",
          "2021-05-03T00:00:00",
          "2021-05-04T00:00:00",
          "2021-05-05T00:00:00",
          "2021-05-06T00:00:00",
          "2021-05-07T00:00:00",
          "2021-05-08T00:00:00",
          "2021-05-09T00:00:00",
          "2021-05-10T00:00:00",
          "2021-05-11T00:00:00",
          "2021-05-12T00:00:00",
          "2021-05-13T00:00:00",
          "2021-05-14T00:00:00",
          "2021-05-15T00:00:00",
          "2021-05-16T00:00:00",
          "2021-05-17T00:00:00"
         ],
         "y": [
          null,
          null,
          null,
          59.442212612883864,
          null,
          null,
          42.90416492986389,
          null,
          null,
          null,
          37.067687433853195,
          null,
          null,
          13.03461857108193,
          null,
          null,
          null,
          23.733427554422356,
          null,
          null,
          57.47875806524191,
          null,
          null,
          null,
          12.247037986427905,
          null,
          null,
          null,
          null,
          null,
          null,
          null,
          null,
          null,
          null,
          null,
          null,
          null,
          28.00224252041091,
          null,
          null,
          39.546112996485455,
          null,
          null,
          null,
          54.919611133806654,
          null,
          null,
          null,
          null,
          null,
          null,
          null,
          null,
          null,
          null,
          null,
          null,
          21.255544271427354,
          29.027426947874982,
          114.36372906517065,
          39.78381478092203,
          27.2704706448277,
          null,
          null,
          21.255544271427354,
          52.72658310867235,
          37.5146358342146,
          33.84041244724758,
          18.496579117633317,
          null,
          null,
          26.884068131589316,
          100.2375949936274,
          30.82015044632958,
          93.05894682561602,
          25.748747803264724,
          null,
          null,
          31.948500729941475,
          34.41303588812969,
          25.996824822768314,
          42.90416492986413,
          34.82797548664725,
          null,
          null,
          53.75,
          36.02,
          22.246011242609605,
          46.77105874492495,
          36.450891322260084,
          null,
          null,
          132.688510130453,
          80.78603048429905,
          70.64,
          98.33,
          28.476076593487022,
          null,
          null,
          35.67292457270751,
          30.82015044632958,
          37.424817088807394,
          45.88268376561955,
          69.1302478149384,
          null,
          null,
          42.596734578805346,
          27.80159208792848,
          47.33500679068733,
          51.60124633395757,
          20.163650543139035,
          null,
          null,
          25.748747803264724,
          30.52604641187518,
          null,
          7.785255859351148,
          6.856418486713349,
          null,
          null,
          9.729497362082805,
          43.63015875717361,
          14.90723320474088,
          13.003410668862372,
          49.898272650342044,
          null,
          null,
          1.703131231978207,
          11.75799414626518,
          14.346311909785182,
          17.130808531280763,
          null,
          null,
          null,
          null,
          null
         ],
         "yaxis": "y3"
        },
        {
         "connectgaps": true,
         "hovertemplate": " %{y:.3f}",
         "marker": {
          "color": "#AB63FA"
         },
         "mode": "lines+markers",
         "name": "PMMV (gc/ml)",
         "type": "scatter",
         "visible": "legendonly",
         "x": [
          "2021-01-01T00:00:00",
          "2021-01-02T00:00:00",
          "2021-01-03T00:00:00",
          "2021-01-04T00:00:00",
          "2021-01-05T00:00:00",
          "2021-01-06T00:00:00",
          "2021-01-07T00:00:00",
          "2021-01-08T00:00:00",
          "2021-01-09T00:00:00",
          "2021-01-10T00:00:00",
          "2021-01-11T00:00:00",
          "2021-01-12T00:00:00",
          "2021-01-13T00:00:00",
          "2021-01-14T00:00:00",
          "2021-01-15T00:00:00",
          "2021-01-16T00:00:00",
          "2021-01-17T00:00:00",
          "2021-01-18T00:00:00",
          "2021-01-19T00:00:00",
          "2021-01-20T00:00:00",
          "2021-01-21T00:00:00",
          "2021-01-22T00:00:00",
          "2021-01-23T00:00:00",
          "2021-01-24T00:00:00",
          "2021-01-25T00:00:00",
          "2021-01-26T00:00:00",
          "2021-01-27T00:00:00",
          "2021-01-28T00:00:00",
          "2021-01-29T00:00:00",
          "2021-01-30T00:00:00",
          "2021-01-31T00:00:00",
          "2021-02-01T00:00:00",
          "2021-02-02T00:00:00",
          "2021-02-03T00:00:00",
          "2021-02-04T00:00:00",
          "2021-02-05T00:00:00",
          "2021-02-06T00:00:00",
          "2021-02-07T00:00:00",
          "2021-02-08T00:00:00",
          "2021-02-09T00:00:00",
          "2021-02-10T00:00:00",
          "2021-02-11T00:00:00",
          "2021-02-12T00:00:00",
          "2021-02-13T00:00:00",
          "2021-02-14T00:00:00",
          "2021-02-15T00:00:00",
          "2021-02-16T00:00:00",
          "2021-02-17T00:00:00",
          "2021-02-18T00:00:00",
          "2021-02-19T00:00:00",
          "2021-02-20T00:00:00",
          "2021-02-21T00:00:00",
          "2021-02-22T00:00:00",
          "2021-02-23T00:00:00",
          "2021-02-24T00:00:00",
          "2021-02-25T00:00:00",
          "2021-02-26T00:00:00",
          "2021-02-27T00:00:00",
          "2021-02-28T00:00:00",
          "2021-03-01T00:00:00",
          "2021-03-02T00:00:00",
          "2021-03-03T00:00:00",
          "2021-03-04T00:00:00",
          "2021-03-05T00:00:00",
          "2021-03-06T00:00:00",
          "2021-03-07T00:00:00",
          "2021-03-08T00:00:00",
          "2021-03-09T00:00:00",
          "2021-03-10T00:00:00",
          "2021-03-11T00:00:00",
          "2021-03-12T00:00:00",
          "2021-03-13T00:00:00",
          "2021-03-14T00:00:00",
          "2021-03-15T00:00:00",
          "2021-03-16T00:00:00",
          "2021-03-17T00:00:00",
          "2021-03-18T00:00:00",
          "2021-03-19T00:00:00",
          "2021-03-20T00:00:00",
          "2021-03-21T00:00:00",
          "2021-03-22T00:00:00",
          "2021-03-23T00:00:00",
          "2021-03-24T00:00:00",
          "2021-03-25T00:00:00",
          "2021-03-26T00:00:00",
          "2021-03-27T00:00:00",
          "2021-03-28T00:00:00",
          "2021-03-29T00:00:00",
          "2021-03-30T00:00:00",
          "2021-03-31T00:00:00",
          "2021-04-01T00:00:00",
          "2021-04-02T00:00:00",
          "2021-04-03T00:00:00",
          "2021-04-04T00:00:00",
          "2021-04-05T00:00:00",
          "2021-04-06T00:00:00",
          "2021-04-07T00:00:00",
          "2021-04-08T00:00:00",
          "2021-04-09T00:00:00",
          "2021-04-10T00:00:00",
          "2021-04-11T00:00:00",
          "2021-04-12T00:00:00",
          "2021-04-13T00:00:00",
          "2021-04-14T00:00:00",
          "2021-04-15T00:00:00",
          "2021-04-16T00:00:00",
          "2021-04-17T00:00:00",
          "2021-04-18T00:00:00",
          "2021-04-19T00:00:00",
          "2021-04-20T00:00:00",
          "2021-04-21T00:00:00",
          "2021-04-22T00:00:00",
          "2021-04-23T00:00:00",
          "2021-04-24T00:00:00",
          "2021-04-25T00:00:00",
          "2021-04-26T00:00:00",
          "2021-04-27T00:00:00",
          "2021-04-28T00:00:00",
          "2021-04-29T00:00:00",
          "2021-04-30T00:00:00",
          "2021-05-01T00:00:00",
          "2021-05-02T00:00:00",
          "2021-05-03T00:00:00",
          "2021-05-04T00:00:00",
          "2021-05-05T00:00:00",
          "2021-05-06T00:00:00",
          "2021-05-07T00:00:00",
          "2021-05-08T00:00:00",
          "2021-05-09T00:00:00",
          "2021-05-10T00:00:00",
          "2021-05-11T00:00:00",
          "2021-05-12T00:00:00",
          "2021-05-13T00:00:00",
          "2021-05-14T00:00:00",
          "2021-05-15T00:00:00",
          "2021-05-16T00:00:00",
          "2021-05-17T00:00:00"
         ],
         "y": [
          null,
          null,
          null,
          429.64898745977933,
          null,
          null,
          784.9230417015528,
          null,
          null,
          null,
          1023.3378087038664,
          null,
          null,
          1704.0145392820443,
          null,
          null,
          null,
          1099.6960059509581,
          null,
          null,
          741.0101828345246,
          null,
          null,
          null,
          504.47599812422914,
          null,
          null,
          null,
          null,
          null,
          null,
          null,
          null,
          null,
          null,
          null,
          null,
          null,
          938.6737367836417,
          null,
          null,
          406.5178549671636,
          null,
          null,
          null,
          650.9800003924452,
          null,
          null,
          null,
          null,
          null,
          null,
          null,
          null,
          null,
          null,
          null,
          null,
          390.9429360810064,
          135.31489429494778,
          765.7932758748861,
          886.1592288183658,
          297.5541936570972,
          null,
          null,
          196.3231463557145,
          369.07146452887696,
          386.1496144561011,
          502.40573318474884,
          303.58421964868546,
          null,
          null,
          384.5649364710742,
          520.2773507167251,
          667.2416931464365,
          351.3010187481159,
          542.1183850697332,
          null,
          null,
          1002.5116130374538,
          731.9247133047202,
          1683.1217465328746,
          1244.0856912891336,
          2426.959627526762,
          null,
          null,
          2717.54,
          1884.64,
          816.1938783840803,
          1436.6717444914268,
          1888.518899895757,
          null,
          null,
          3862.52844254633,
          2467.210690714503,
          1304.33,
          1448.54,
          5592.482485891426,
          null,
          null,
          1211.2723535150585,
          3506.731651897959,
          3407.2271074449577,
          5558.092245399725,
          4008.1594007296894,
          null,
          null,
          1812.4336622338244,
          3203.4080202230634,
          603.913276656343,
          2993.2607609482525,
          291.9529972106761,
          null,
          null,
          948.3736324703466,
          1267.3219071765348,
          null,
          231.42398563443203,
          181.19492718543543,
          null,
          null,
          446.84388768495035,
          51.53479011806303,
          225.7838318656457,
          92.31130607320223,
          477.23310993436235,
          null,
          null,
          5.751191503937138,
          252.8166561021594,
          1410.330516879642,
          780.0962599924129,
          null,
          null,
          null,
          null,
          null
         ],
         "yaxis": "y3"
        },
        {
         "hovertemplate": " %{y}<extra>Nouveaux cas</extra>",
         "marker": {
          "color": "#00CC96",
          "opacity": 0.3
         },
         "name": "Nouveaux cas<br>journaliers (Montréal)",
         "type": "bar",
         "x": [
          "2021-01-01T00:00:00",
          "2021-01-02T00:00:00",
          "2021-01-03T00:00:00",
          "2021-01-04T00:00:00",
          "2021-01-05T00:00:00",
          "2021-01-06T00:00:00",
          "2021-01-07T00:00:00",
          "2021-01-08T00:00:00",
          "2021-01-09T00:00:00",
          "2021-01-10T00:00:00",
          "2021-01-11T00:00:00",
          "2021-01-12T00:00:00",
          "2021-01-13T00:00:00",
          "2021-01-14T00:00:00",
          "2021-01-15T00:00:00",
          "2021-01-16T00:00:00",
          "2021-01-17T00:00:00",
          "2021-01-18T00:00:00",
          "2021-01-19T00:00:00",
          "2021-01-20T00:00:00",
          "2021-01-21T00:00:00",
          "2021-01-22T00:00:00",
          "2021-01-23T00:00:00",
          "2021-01-24T00:00:00",
          "2021-01-25T00:00:00",
          "2021-01-26T00:00:00",
          "2021-01-27T00:00:00",
          "2021-01-28T00:00:00",
          "2021-01-29T00:00:00",
          "2021-01-30T00:00:00",
          "2021-01-31T00:00:00",
          "2021-02-01T00:00:00",
          "2021-02-02T00:00:00",
          "2021-02-03T00:00:00",
          "2021-02-04T00:00:00",
          "2021-02-05T00:00:00",
          "2021-02-06T00:00:00",
          "2021-02-07T00:00:00",
          "2021-02-08T00:00:00",
          "2021-02-09T00:00:00",
          "2021-02-10T00:00:00",
          "2021-02-11T00:00:00",
          "2021-02-12T00:00:00",
          "2021-02-13T00:00:00",
          "2021-02-14T00:00:00",
          "2021-02-15T00:00:00",
          "2021-02-16T00:00:00",
          "2021-02-17T00:00:00",
          "2021-02-18T00:00:00",
          "2021-02-19T00:00:00",
          "2021-02-20T00:00:00",
          "2021-02-21T00:00:00",
          "2021-02-22T00:00:00",
          "2021-02-23T00:00:00",
          "2021-02-24T00:00:00",
          "2021-02-25T00:00:00",
          "2021-02-26T00:00:00",
          "2021-02-27T00:00:00",
          "2021-02-28T00:00:00",
          "2021-03-01T00:00:00",
          "2021-03-02T00:00:00",
          "2021-03-03T00:00:00",
          "2021-03-04T00:00:00",
          "2021-03-05T00:00:00",
          "2021-03-06T00:00:00",
          "2021-03-07T00:00:00",
          "2021-03-08T00:00:00",
          "2021-03-09T00:00:00",
          "2021-03-10T00:00:00",
          "2021-03-11T00:00:00",
          "2021-03-12T00:00:00",
          "2021-03-13T00:00:00",
          "2021-03-14T00:00:00",
          "2021-03-15T00:00:00",
          "2021-03-16T00:00:00",
          "2021-03-17T00:00:00",
          "2021-03-18T00:00:00",
          "2021-03-19T00:00:00",
          "2021-03-20T00:00:00",
          "2021-03-21T00:00:00",
          "2021-03-22T00:00:00",
          "2021-03-23T00:00:00",
          "2021-03-24T00:00:00",
          "2021-03-25T00:00:00",
          "2021-03-26T00:00:00",
          "2021-03-27T00:00:00",
          "2021-03-28T00:00:00",
          "2021-03-29T00:00:00",
          "2021-03-30T00:00:00",
          "2021-03-31T00:00:00",
          "2021-04-01T00:00:00",
          "2021-04-02T00:00:00",
          "2021-04-03T00:00:00",
          "2021-04-04T00:00:00",
          "2021-04-05T00:00:00",
          "2021-04-06T00:00:00",
          "2021-04-07T00:00:00",
          "2021-04-08T00:00:00",
          "2021-04-09T00:00:00",
          "2021-04-10T00:00:00",
          "2021-04-11T00:00:00",
          "2021-04-12T00:00:00",
          "2021-04-13T00:00:00",
          "2021-04-14T00:00:00",
          "2021-04-15T00:00:00",
          "2021-04-16T00:00:00",
          "2021-04-17T00:00:00",
          "2021-04-18T00:00:00",
          "2021-04-19T00:00:00",
          "2021-04-20T00:00:00",
          "2021-04-21T00:00:00",
          "2021-04-22T00:00:00",
          "2021-04-23T00:00:00",
          "2021-04-24T00:00:00",
          "2021-04-25T00:00:00",
          "2021-04-26T00:00:00",
          "2021-04-27T00:00:00",
          "2021-04-28T00:00:00",
          "2021-04-29T00:00:00",
          "2021-04-30T00:00:00",
          "2021-05-01T00:00:00",
          "2021-05-02T00:00:00",
          "2021-05-03T00:00:00",
          "2021-05-04T00:00:00",
          "2021-05-05T00:00:00",
          "2021-05-06T00:00:00",
          "2021-05-07T00:00:00",
          "2021-05-08T00:00:00",
          "2021-05-09T00:00:00",
          "2021-05-10T00:00:00",
          "2021-05-11T00:00:00",
          "2021-05-12T00:00:00",
          "2021-05-13T00:00:00",
          "2021-05-14T00:00:00",
          "2021-05-15T00:00:00",
          "2021-05-16T00:00:00",
          "2021-05-17T00:00:00"
         ],
         "y": [
          741,
          1218,
          924,
          789,
          767,
          816,
          1084,
          1273,
          1040,
          818,
          776,
          558,
          858,
          728,
          811,
          713,
          876,
          579,
          463,
          630,
          666,
          761,
          606,
          559,
          424,
          501,
          590,
          454,
          573,
          495,
          551,
          388,
          468,
          557,
          481,
          522,
          545,
          509,
          407,
          329,
          449,
          551,
          473,
          476,
          338,
          349,
          318,
          409,
          327,
          372,
          395,
          384,
          401,
          256,
          419,
          408,
          387,
          396,
          320,
          248,
          257,
          390,
          303,
          376,
          280,
          399,
          266,
          260,
          390,
          315,
          364,
          387,
          279,
          266,
          245,
          335,
          312,
          352,
          319,
          266,
          308,
          228,
          335,
          369,
          354,
          360,
          307,
          258,
          304,
          375,
          398,
          359,
          385,
          355,
          299,
          294,
          309,
          404,
          395,
          515,
          298,
          377,
          264,
          375,
          354,
          432,
          367,
          352,
          219,
          253,
          276,
          311,
          316,
          228,
          340,
          201,
          245,
          291,
          312,
          344,
          325,
          264,
          211,
          229,
          238,
          202,
          261,
          281,
          212,
          198,
          188,
          263,
          261,
          289,
          245,
          209,
          103
         ]
        }
       ],
       "layout": {
        "hovermode": "x unified",
        "images": [
         {
          "sizex": 0.5,
          "sizey": 0.25,
          "source": "data:image/png;base64,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",
          "x": 1.125,
          "xanchor": "right",
          "xref": "paper",
          "y": 1,
          "yanchor": "bottom",
          "yref": "paper"
         }
        ],
        "legend": {
         "orientation": "h",
         "x": 0,
         "xanchor": "left",
         "y": 1.05,
         "yanchor": "top"
        },
        "plot_bgcolor": "white",
        "template": {
         "data": {
          "bar": [
           {
            "error_x": {
             "color": "#2a3f5f"
            },
            "error_y": {
             "color": "#2a3f5f"
            },
            "marker": {
             "line": {
              "color": "#E5ECF6",
              "width": 0.5
             }
            },
            "type": "bar"
           }
          ],
          "barpolar": [
           {
            "marker": {
             "line": {
              "color": "#E5ECF6",
              "width": 0.5
             }
            },
            "type": "barpolar"
           }
          ],
          "carpet": [
           {
            "aaxis": {
             "endlinecolor": "#2a3f5f",
             "gridcolor": "white",
             "linecolor": "white",
             "minorgridcolor": "white",
             "startlinecolor": "#2a3f5f"
            },
            "baxis": {
             "endlinecolor": "#2a3f5f",
             "gridcolor": "white",
             "linecolor": "white",
             "minorgridcolor": "white",
             "startlinecolor": "#2a3f5f"
            },
            "type": "carpet"
           }
          ],
          "choropleth": [
           {
            "colorbar": {
             "outlinewidth": 0,
             "ticks": ""
            },
            "type": "choropleth"
           }
          ],
          "contour": [
           {
            "colorbar": {
             "outlinewidth": 0,
             "ticks": ""
            },
            "colorscale": [
             [
              0,
              "#0d0887"
             ],
             [
              0.1111111111111111,
              "#46039f"
             ],
             [
              0.2222222222222222,
              "#7201a8"
             ],
             [
              0.3333333333333333,
              "#9c179e"
             ],
             [
              0.4444444444444444,
              "#bd3786"
             ],
             [
              0.5555555555555556,
              "#d8576b"
             ],
             [
              0.6666666666666666,
              "#ed7953"
             ],
             [
              0.7777777777777778,
              "#fb9f3a"
             ],
             [
              0.8888888888888888,
              "#fdca26"
             ],
             [
              1,
              "#f0f921"
             ]
            ],
            "type": "contour"
           }
          ],
          "contourcarpet": [
           {
            "colorbar": {
             "outlinewidth": 0,
             "ticks": ""
            },
            "type": "contourcarpet"
           }
          ],
          "heatmap": [
           {
            "colorbar": {
             "outlinewidth": 0,
             "ticks": ""
            },
            "colorscale": [
             [
              0,
              "#0d0887"
             ],
             [
              0.1111111111111111,
              "#46039f"
             ],
             [
              0.2222222222222222,
              "#7201a8"
             ],
             [
              0.3333333333333333,
              "#9c179e"
             ],
             [
              0.4444444444444444,
              "#bd3786"
             ],
             [
              0.5555555555555556,
              "#d8576b"
             ],
             [
              0.6666666666666666,
              "#ed7953"
             ],
             [
              0.7777777777777778,
              "#fb9f3a"
             ],
             [
              0.8888888888888888,
              "#fdca26"
             ],
             [
              1,
              "#f0f921"
             ]
            ],
            "type": "heatmap"
           }
          ],
          "heatmapgl": [
           {
            "colorbar": {
             "outlinewidth": 0,
             "ticks": ""
            },
            "colorscale": [
             [
              0,
              "#0d0887"
             ],
             [
              0.1111111111111111,
              "#46039f"
             ],
             [
              0.2222222222222222,
              "#7201a8"
             ],
             [
              0.3333333333333333,
              "#9c179e"
             ],
             [
              0.4444444444444444,
              "#bd3786"
             ],
             [
              0.5555555555555556,
              "#d8576b"
             ],
             [
              0.6666666666666666,
              "#ed7953"
             ],
             [
              0.7777777777777778,
              "#fb9f3a"
             ],
             [
              0.8888888888888888,
              "#fdca26"
             ],
             [
              1,
              "#f0f921"
             ]
            ],
            "type": "heatmapgl"
           }
          ],
          "histogram": [
           {
            "marker": {
             "colorbar": {
              "outlinewidth": 0,
              "ticks": ""
             }
            },
            "type": "histogram"
           }
          ],
          "histogram2d": [
           {
            "colorbar": {
             "outlinewidth": 0,
             "ticks": ""
            },
            "colorscale": [
             [
              0,
              "#0d0887"
             ],
             [
              0.1111111111111111,
              "#46039f"
             ],
             [
              0.2222222222222222,
              "#7201a8"
             ],
             [
              0.3333333333333333,
              "#9c179e"
             ],
             [
              0.4444444444444444,
              "#bd3786"
             ],
             [
              0.5555555555555556,
              "#d8576b"
             ],
             [
              0.6666666666666666,
              "#ed7953"
             ],
             [
              0.7777777777777778,
              "#fb9f3a"
             ],
             [
              0.8888888888888888,
              "#fdca26"
             ],
             [
              1,
              "#f0f921"
             ]
            ],
            "type": "histogram2d"
           }
          ],
          "histogram2dcontour": [
           {
            "colorbar": {
             "outlinewidth": 0,
             "ticks": ""
            },
            "colorscale": [
             [
              0,
              "#0d0887"
             ],
             [
              0.1111111111111111,
              "#46039f"
             ],
             [
              0.2222222222222222,
              "#7201a8"
             ],
             [
              0.3333333333333333,
              "#9c179e"
             ],
             [
              0.4444444444444444,
              "#bd3786"
             ],
             [
              0.5555555555555556,
              "#d8576b"
             ],
             [
              0.6666666666666666,
              "#ed7953"
             ],
             [
              0.7777777777777778,
              "#fb9f3a"
             ],
             [
              0.8888888888888888,
              "#fdca26"
             ],
             [
              1,
              "#f0f921"
             ]
            ],
            "type": "histogram2dcontour"
           }
          ],
          "mesh3d": [
           {
            "colorbar": {
             "outlinewidth": 0,
             "ticks": ""
            },
            "type": "mesh3d"
           }
          ],
          "parcoords": [
           {
            "line": {
             "colorbar": {
              "outlinewidth": 0,
              "ticks": ""
             }
            },
            "type": "parcoords"
           }
          ],
          "pie": [
           {
            "automargin": true,
            "type": "pie"
           }
          ],
          "scatter": [
           {
            "marker": {
             "colorbar": {
              "outlinewidth": 0,
              "ticks": ""
             }
            },
            "type": "scatter"
           }
          ],
          "scatter3d": [
           {
            "line": {
             "colorbar": {
              "outlinewidth": 0,
              "ticks": ""
             }
            },
            "marker": {
             "colorbar": {
              "outlinewidth": 0,
              "ticks": ""
             }
            },
            "type": "scatter3d"
           }
          ],
          "scattercarpet": [
           {
            "marker": {
             "colorbar": {
              "outlinewidth": 0,
              "ticks": ""
             }
            },
            "type": "scattercarpet"
           }
          ],
          "scattergeo": [
           {
            "marker": {
             "colorbar": {
              "outlinewidth": 0,
              "ticks": ""
             }
            },
            "type": "scattergeo"
           }
          ],
          "scattergl": [
           {
            "marker": {
             "colorbar": {
              "outlinewidth": 0,
              "ticks": ""
             }
            },
            "type": "scattergl"
           }
          ],
          "scattermapbox": [
           {
            "marker": {
             "colorbar": {
              "outlinewidth": 0,
              "ticks": ""
             }
            },
            "type": "scattermapbox"
           }
          ],
          "scatterpolar": [
           {
            "marker": {
             "colorbar": {
              "outlinewidth": 0,
              "ticks": ""
             }
            },
            "type": "scatterpolar"
           }
          ],
          "scatterpolargl": [
           {
            "marker": {
             "colorbar": {
              "outlinewidth": 0,
              "ticks": ""
             }
            },
            "type": "scatterpolargl"
           }
          ],
          "scatterternary": [
           {
            "marker": {
             "colorbar": {
              "outlinewidth": 0,
              "ticks": ""
             }
            },
            "type": "scatterternary"
           }
          ],
          "surface": [
           {
            "colorbar": {
             "outlinewidth": 0,
             "ticks": ""
            },
            "colorscale": [
             [
              0,
              "#0d0887"
             ],
             [
              0.1111111111111111,
              "#46039f"
             ],
             [
              0.2222222222222222,
              "#7201a8"
             ],
             [
              0.3333333333333333,
              "#9c179e"
             ],
             [
              0.4444444444444444,
              "#bd3786"
             ],
             [
              0.5555555555555556,
              "#d8576b"
             ],
             [
              0.6666666666666666,
              "#ed7953"
             ],
             [
              0.7777777777777778,
              "#fb9f3a"
             ],
             [
              0.8888888888888888,
              "#fdca26"
             ],
             [
              1,
              "#f0f921"
             ]
            ],
            "type": "surface"
           }
          ],
          "table": [
           {
            "cells": {
             "fill": {
              "color": "#EBF0F8"
             },
             "line": {
              "color": "white"
             }
            },
            "header": {
             "fill": {
              "color": "#C8D4E3"
             },
             "line": {
              "color": "white"
             }
            },
            "type": "table"
           }
          ]
         },
         "layout": {
          "annotationdefaults": {
           "arrowcolor": "#2a3f5f",
           "arrowhead": 0,
           "arrowwidth": 1
          },
          "autotypenumbers": "strict",
          "coloraxis": {
           "colorbar": {
            "outlinewidth": 0,
            "ticks": ""
           }
          },
          "colorscale": {
           "diverging": [
            [
             0,
             "#8e0152"
            ],
            [
             0.1,
             "#c51b7d"
            ],
            [
             0.2,
             "#de77ae"
            ],
            [
             0.3,
             "#f1b6da"
            ],
            [
             0.4,
             "#fde0ef"
            ],
            [
             0.5,
             "#f7f7f7"
            ],
            [
             0.6,
             "#e6f5d0"
            ],
            [
             0.7,
             "#b8e186"
            ],
            [
             0.8,
             "#7fbc41"
            ],
            [
             0.9,
             "#4d9221"
            ],
            [
             1,
             "#276419"
            ]
           ],
           "sequential": [
            [
             0,
             "#0d0887"
            ],
            [
             0.1111111111111111,
             "#46039f"
            ],
            [
             0.2222222222222222,
             "#7201a8"
            ],
            [
             0.3333333333333333,
             "#9c179e"
            ],
            [
             0.4444444444444444,
             "#bd3786"
            ],
            [
             0.5555555555555556,
             "#d8576b"
            ],
            [
             0.6666666666666666,
             "#ed7953"
            ],
            [
             0.7777777777777778,
             "#fb9f3a"
            ],
            [
             0.8888888888888888,
             "#fdca26"
            ],
            [
             1,
             "#f0f921"
            ]
           ],
           "sequentialminus": [
            [
             0,
             "#0d0887"
            ],
            [
             0.1111111111111111,
             "#46039f"
            ],
            [
             0.2222222222222222,
             "#7201a8"
            ],
            [
             0.3333333333333333,
             "#9c179e"
            ],
            [
             0.4444444444444444,
             "#bd3786"
            ],
            [
             0.5555555555555556,
             "#d8576b"
            ],
            [
             0.6666666666666666,
             "#ed7953"
            ],
            [
             0.7777777777777778,
             "#fb9f3a"
            ],
            [
             0.8888888888888888,
             "#fdca26"
            ],
            [
             1,
             "#f0f921"
            ]
           ]
          },
          "colorway": [
           "#636efa",
           "#EF553B",
           "#00cc96",
           "#ab63fa",
           "#FFA15A",
           "#19d3f3",
           "#FF6692",
           "#B6E880",
           "#FF97FF",
           "#FECB52"
          ],
          "font": {
           "color": "#2a3f5f"
          },
          "geo": {
           "bgcolor": "white",
           "lakecolor": "white",
           "landcolor": "#E5ECF6",
           "showlakes": true,
           "showland": true,
           "subunitcolor": "white"
          },
          "hoverlabel": {
           "align": "left"
          },
          "hovermode": "closest",
          "mapbox": {
           "style": "light"
          },
          "paper_bgcolor": "white",
          "plot_bgcolor": "#E5ECF6",
          "polar": {
           "angularaxis": {
            "gridcolor": "white",
            "linecolor": "white",
            "ticks": ""
           },
           "bgcolor": "#E5ECF6",
           "radialaxis": {
            "gridcolor": "white",
            "linecolor": "white",
            "ticks": ""
           }
          },
          "scene": {
           "xaxis": {
            "backgroundcolor": "#E5ECF6",
            "gridcolor": "white",
            "gridwidth": 2,
            "linecolor": "white",
            "showbackground": true,
            "ticks": "",
            "zerolinecolor": "white"
           },
           "yaxis": {
            "backgroundcolor": "#E5ECF6",
            "gridcolor": "white",
            "gridwidth": 2,
            "linecolor": "white",
            "showbackground": true,
            "ticks": "",
            "zerolinecolor": "white"
           },
           "zaxis": {
            "backgroundcolor": "#E5ECF6",
            "gridcolor": "white",
            "gridwidth": 2,
            "linecolor": "white",
            "showbackground": true,
            "ticks": "",
            "zerolinecolor": "white"
           }
          },
          "shapedefaults": {
           "line": {
            "color": "#2a3f5f"
           }
          },
          "ternary": {
           "aaxis": {
            "gridcolor": "white",
            "linecolor": "white",
            "ticks": ""
           },
           "baxis": {
            "gridcolor": "white",
            "linecolor": "white",
            "ticks": ""
           },
           "bgcolor": "#E5ECF6",
           "caxis": {
            "gridcolor": "white",
            "linecolor": "white",
            "ticks": ""
           }
          },
          "title": {
           "x": 0.05
          },
          "xaxis": {
           "automargin": true,
           "gridcolor": "white",
           "linecolor": "white",
           "ticks": "",
           "title": {
            "standoff": 15
           },
           "zerolinecolor": "white",
           "zerolinewidth": 2
          },
          "yaxis": {
           "automargin": true,
           "gridcolor": "white",
           "linecolor": "white",
           "ticks": "",
           "title": {
            "standoff": 15
           },
           "zerolinecolor": "white",
           "zerolinewidth": 2
          }
         }
        },
        "title": {
         "text": "Surveillance SRAS-CoV-2 via les eaux usées<br>Montréal Intercepteur Sud"
        },
        "xaxis": {
         "anchor": "y",
         "domain": [
          0.12,
          1
         ],
         "dtick": 604800000,
         "gridcolor": "rgba(100,100,100,0.10)",
         "tick0": "2020-12-27",
         "tickangle": 30,
         "tickformat": "%d-%m-%Y",
         "ticks": "outside",
         "title": {
          "text": "Date"
         }
        },
        "yaxis": {
         "anchor": "x",
         "domain": [
          0,
          0.9
         ],
         "gridcolor": "rgba(0,0,0,0)",
         "side": "right",
         "title": {
          "text": "Nouveaux cas"
         }
        },
        "yaxis2": {
         "anchor": "x",
         "overlaying": "y",
         "range": [
          0,
          null
         ],
         "side": "left",
         "title": {
          "standoff": 0.01,
          "text": "Signal viral normalisé (gc/gc)"
         }
        },
        "yaxis3": {
         "overlaying": "y",
         "position": 0,
         "side": "left",
         "title": {
          "standoff": 0.01,
          "text": "Signal viral (gc/ml)"
         }
        }
       }
      }
     },
     "metadata": {}
    }
   ],
   "source": [
    "path = path_MTL\n",
    "mtl_step = pd.read_excel(path, sheet_name=\"MTL_Compil_STEP (#NA)\", usecols=\"A:N\", skiprows=4)\n",
    "mtl_step = mtl_step.rename(columns={\"Data\":\"Date\"})\n",
    "mtl_step[\"Date\"] = pd.to_datetime(mtl_step[\"Date\"])\n",
    "\n",
    "region_name = \"Montréal\"\n",
    "proper_region_name = \"Montréal\"\n",
    "\n",
    "mtl_n = get_site_data(\n",
    "    file_name=\"/Users/jeandavidt/OneDrive - Université Laval/COVID/Latest Data/Input/CentrEau-COVID_Resultats_Montreal_final.xlsx\",\n",
    "    sheet_name=\"MTL_Compil_STEP (#NA)\",\n",
    "    site_idx=0,\n",
    "    viral_cols=VIRAL_COLS,\n",
    "    case_region_name=region_name,\n",
    "    case_column=CASES_COL,\n",
    "    start_date=\"2021-01-01\",\n",
    "    end_date=None\n",
    ")\n",
    "\n",
    "fig = plot_new(mtl_n, VIRAL_COLS, \"Montréal Intercepteur Nord\", proper_region_name, \"../Data/images/graph_logos.png\", max_value=None)\n",
    "fig.show(width=1000)\n",
    "fig.write_html(\"mtl_01.html\")\n",
    "\n",
    "mtl_s = get_site_data(\n",
    "    file_name=\"/Users/jeandavidt/OneDrive - Université Laval/COVID/Latest Data/Input/CentrEau-COVID_Resultats_Montreal_final.xlsx\",\n",
    "    sheet_name=\"MTL_Compil_STEP (#NA)\",\n",
    "    site_idx=1,\n",
    "    viral_cols=VIRAL_COLS,\n",
    "    case_region_name=region_name,\n",
    "    case_column=CASES_COL,\n",
    "    start_date=\"2021-01-01\",\n",
    "    end_date=None\n",
    ")\n",
    "\n",
    "region_name = \"Montréal\"\n",
    "proper_region_name = \"Montréal\"\n",
    "max_normalized = None\n",
    "fig = plot(mtl_step, norm_cols, \"sars\", proper_names, region_name, proper_region_name, max_normalized, start_date=start_date, end_date=end_date)\n",
    "fig.update_layout(\n",
    "        xaxis_title=\"Date\",\n",
    "        xaxis_dtick=\"M1\",\n",
    "        xaxis_tick0=\"2020-01-01\",\n",
    "        xaxis_tickformat=\"%d-%m-%Y\",\n",
    "    )\n",
    "fig.update_yaxes(secondary_y=False, range=[0, 1250])\n",
    "images_folder = images_folder_MTL\n",
    "fig.write_image(os.path.join(images_folder, \"Montreal-sars.png\"), width=1000, scale=3)\n",
    "fig.write_image(os.path.join(images_folder, \"Montreal-sars.svg\"), width=1000)\n",
    "fig.show()"
   ]
  },
  {
   "cell_type": "code",
   "execution_count": null,
   "metadata": {},
   "outputs": [],
   "source": []
  }
 ],
 "metadata": {
  "kernelspec": {
   "name": "python392jvsc74a57bd010dee6b52235e1355eaf511a2f59e58cd6d1c59b7633aa86db7837e50e655c22",
   "display_name": "Python 3.9.2 64-bit ('covid': conda)"
  },
  "language_info": {
   "version": "3.9.4"
  },
  "orig_nbformat": 3,
  "kernelspec": {
   "name": "python394jvsc74a57bd0fff2645691be52a4acf54b6569930c06fb1b99dce13069d7478dfbb615d05851",
   "display_name": "Python 3.9.2 64-bit ('covid': conda)"
  }
 },
 "nbformat": 4,
 "nbformat_minor": 2
}