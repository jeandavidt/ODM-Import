{
 "cells": [
  {
   "cell_type": "code",
   "execution_count": 2,
   "metadata": {},
   "outputs": [],
   "source": [
    "import sqlite3\n",
    "import pandas as pd\n",
    "from wbe_odm import utilities\n",
    "pd.options.mode.chained_assignment = 'raise'"
   ]
  },
  {
   "cell_type": "code",
   "execution_count": null,
   "metadata": {},
   "outputs": [],
   "source": [
    "merged = pd.read_csv(\"../merge_test/merged.csv\")\n",
    "site_measure = pd.read_csv(\"../merge_test/site_measure.csv\")\n",
    "for df in [merged, site_measure]:\n",
    "    for col in df.columns:\n",
    "        if \"Unnamed\" in col:\n",
    "            df.drop(columns=[col], inplace=True)\n",
    "        if \"date\" in col:\n",
    "            df[col] = pd.to_datetime(df[col])\n",
    "        if \"collection\" in col:\n",
    "            df[col] = df[col].astype(str).fillna(\"\")\n",
    "# clean grab dates\n",
    "merged = utilities.clean_grab_datetime(merged)\n",
    "# clean composite dates\n",
    "merged = utilities.clean_composite_data_intervals(merged)\n",
    "\n",
    "def combine_site_measure(merged, site_measure):\n",
    "    with sqlite3.connect(':memory:') as conn:\n",
    "        # write the tables\n",
    "        merged.to_sql('merged', conn, index=False)\n",
    "        site_measure.to_sql(\"site_measure\", conn, index=False)\n",
    "        # write the query\n",
    "        qry_left = \"\"\"\n",
    "            select * from site_measure\n",
    "            left join merged\n",
    "            on [SiteMeasure.dateTime] >= [Calculated.dateTimeStart] \n",
    "            and [SiteMeasure.dateTime] < [Calculated.dateTimeEnd]\n",
    "            and [SiteMeasure.siteID] = [Sample.siteID]\"\"\"\n",
    "        qry_right = \"\"\"\n",
    "            select * from merged\n",
    "            left join site_measure\n",
    "            on [SiteMeasure.dateTime] >= [Calculated.dateTimeStart] \n",
    "            and [SiteMeasure.dateTime] < [Calculated.dateTimeEnd]\n",
    "            and [SiteMeasure.siteID] = [Sample.siteID]\"\"\"\n",
    "\n",
    "        left = pd.read_sql_query(qry_left, conn)\n",
    "        right = pd.read_sql_query(qry_right, conn)\n",
    "    return pd.concat([left, right]).drop_duplicates()\n",
    "\n",
    "#merged = combine_site_measure(merged, site_measure)\n",
    "# join site measures based on clean dates and site ID\n",
    "# join cphd based on\n",
    "#   the smallest polygon for which I have public health data and\n",
    "#   which contains the site"
   ]
  },
  {
   "cell_type": "code",
   "execution_count": null,
   "metadata": {},
   "outputs": [],
   "source": [
    "cphd = pd.read_csv(\"../merge_test/cphd_raw.csv\", parse_dates=True)\n",
    "cphd = cphd.add_prefix(\"CPHD.\")\n",
    "poly = pd.read_csv(\"../merge_test/poly.csv\")\n",
    "poly\n"
   ]
  },
  {
   "cell_type": "code",
   "execution_count": null,
   "metadata": {},
   "outputs": [],
   "source": [
    "def has_cphd_data(x, uniques):\n",
    "    if pd.isna(x):\n",
    "        return None\n",
    "    ls = x.split(\";\")\n",
    "    ls = [i for i in ls if i in uniques]\n",
    "    return \";\".join(ls) if ls else None\n",
    "\n",
    "def pick_cphd_poly(x, poly):\n",
    "    if pd.isna(x):\n",
    "        return None\n",
    "    ls = x.split(\";\")\n",
    "    areas = []\n",
    "    for id_ in ls:\n",
    "        area = poly.loc[poly[\"Polygon.polygonID\"] == id_, \"area\"]\n",
    "        areas.append(area)\n",
    "    min_area = min(areas)\n",
    "    min_idx = areas.index(min_area)\n",
    "    return ls[min_idx]\n",
    "\n",
    "\n",
    "def smallest_area_with_cphd(merged, poly, cphd):\n",
    "    poly[\"shape\"] = poly[\"Polygon.wkt\"].apply(lambda x: utilities.convert_wkt(x))\n",
    "    poly[\"area\"] = poly[\"shape\"].apply(lambda x: x.area)\n",
    "    unique_cphd_polys = cphd[\"CPHD.polygonID\"].unique()\n",
    "    merged[\"poly_w_cphd\"] = merged[\"polygonIDs\"].apply(lambda x: has_cphd_data(x, unique_cphd_polys))\n",
    "    merged[\"poly_for_cphd\"] = merged[\"poly_w_cphd\"].apply(lambda x: pick_cphd_poly(x, poly))\n",
    "    poly.drop(columns=[\"shape\", \"area\"], inplace=True)\n",
    "    merged.drop(columns=[\"Calculated.cphd_poly\"], inplace=True)\n",
    "    return merged\n",
    "\n",
    "def combine_cphd_w_samples_w_polygons(merged, cphd, poly):\n",
    "    merged = smallest_area_with_cphd(merged, poly, cphd)\n",
    "\n",
    "    with sqlite3.connect(':memory:') as conn:\n",
    "        # write the tables\n",
    "        merged.to_sql('merged', conn, index=False)\n",
    "        cphd.to_sql(\"cphd\", conn, index=False)\n",
    "        # write the query\n",
    "        qry_left = \"\"\"\n",
    "            select * from cphd\n",
    "            left join merged\n",
    "            on [CPHD.date] >= [Calculated.dateTimeStart]\n",
    "            and [CPHD.date] < [Calculated.dateTimeEnd]\n",
    "            and [Calculated.cphd_poly] = [CPHD.polygonID]\n",
    "            \"\"\"\n",
    "        qry_right = \"\"\"\n",
    "            select * from merged\n",
    "            left join cphd\n",
    "            on [CPHD.date] >= [Calculated.dateTimeStart]\n",
    "            and [CPHD.date] < [Calculated.dateTimeEnd]\n",
    "            and [Calculated.cphd_poly] = [CPHD.polygonID]\n",
    "            \"\"\"\n",
    "\n",
    "        left = pd.read_sql_query(qry_left, conn)\n",
    "        right = pd.read_sql_query(qry_right, conn)\n",
    "    return pd.concat([left, right]).drop_duplicates()\n"
   ]
  },
  {
   "cell_type": "code",
   "execution_count": null,
   "metadata": {},
   "outputs": [],
   "source": [
    "unique_cphd_polys = cphd[\"polygonID\"].unique().to_list()"
   ]
  },
  {
   "cell_type": "code",
   "execution_count": 6,
   "metadata": {},
   "outputs": [],
   "source": [
    "import plotly.express as px"
   ]
  },
  {
   "cell_type": "code",
   "execution_count": 70,
   "metadata": {},
   "outputs": [
    {
     "data": {
      "text/plain": "dtype('<M8[ns]')"
     },
     "execution_count": 70,
     "metadata": {},
     "output_type": "execute_result"
    }
   ],
   "source": [
    "df = pd.read_csv(\"../testA.csv\", na_values=\"na\", parse_dates=True)\n",
    "df[\"Calculated.timestamp\"] = pd.to_datetime(df[\"Calculated.timestamp\"])\n",
    "df[\"Calculated.timestamp\"].dtype\n"
   ]
  },
  {
   "cell_type": "code",
   "execution_count": 77,
   "metadata": {},
   "outputs": [],
   "source": [
    "def build_site_specific_dataset(df, site_id):\n",
    "    filt_site1 = df[\"Site.siteID\"] == site\n",
    "    filt_site2 = df[\"SiteMeasure.siteID\"] == site\n",
    "    filt_site = filt_site1 | filt_site2\n",
    "    df1 = df[filt_site]\n",
    "\n",
    "    cphd_poly_id = str(\n",
    "        df.loc[filt_site1, \"Calculated.polygonIDForCPHD\"].iloc[0]).lower()\n",
    "    poly_filt = df[\"CPHD.polygonID\"].fillna(\"\").str.lower().str.match(cphd_poly_id)\n",
    "    df2 = df[poly_filt]\n",
    "    dataset = pd.concat([df1, df2], axis=0)\n",
    "    dataset = dataset.set_index([\"Calculated.timestamp\"])\n",
    "    dataset.sort_index()\n",
    "    return dataset.reindex(sorted(dataset.columns), axis=1)"
   ]
  },
  {
   "cell_type": "code",
   "execution_count": null,
   "metadata": {},
   "outputs": [],
   "source": [
    "test = build_site_specific_dataset(df, \"qc_01\")\n",
    "cols = [col for col in test.columns if \"value\" in col]\n",
    "for col in cols:\n",
    "    fig = px.scatter(test[cols], y=col)\n",
    "    fig.show()"
   ]
  },
  {
   "cell_type": "code",
   "execution_count": 56,
   "metadata": {},
   "outputs": [
    {
     "data": {
      "text/html": "<div>\n<style scoped>\n    .dataframe tbody tr th:only-of-type {\n        vertical-align: middle;\n    }\n\n    .dataframe tbody tr th {\n        vertical-align: top;\n    }\n\n    .dataframe thead th {\n        text-align: right;\n    }\n</style>\n<table border=\"1\" class=\"dataframe\">\n  <thead>\n    <tr style=\"text-align: right;\">\n      <th></th>\n      <th>Sample.sampleID</th>\n      <th>Sample.siteID</th>\n      <th>Sample.instrumentID</th>\n      <th>Sample.reporterID</th>\n      <th>Sample.dateTime</th>\n      <th>Sample.dateTimeStart</th>\n      <th>Sample.dateTimeEnd</th>\n      <th>Sample.type</th>\n      <th>Sample.collection</th>\n      <th>Sample.preTreatment</th>\n      <th>...</th>\n      <th>Sewershed.Polygon.wkt</th>\n      <th>Sewershed.Polygon.link</th>\n      <th>Sewershed.Polygon.notes</th>\n      <th>CPHD.cphdID</th>\n      <th>CPHD.reporterID</th>\n      <th>CPHD.polygonID</th>\n      <th>CPHD.date</th>\n      <th>CPHD.notes</th>\n      <th>CPHD.death_report_value</th>\n      <th>CPHD.conf_report_value</th>\n    </tr>\n  </thead>\n  <tbody>\n    <tr>\n      <th>9</th>\n      <td>qc_01_cptp24h_rawwwww_2021-04-15_1</td>\n      <td>qc_01</td>\n      <td>NaN</td>\n      <td>city_qc</td>\n      <td>NaN</td>\n      <td>2021-04-14 00:00:00</td>\n      <td>2021-04-15 00:00:00</td>\n      <td>rawwwww</td>\n      <td>cptp24h</td>\n      <td>True</td>\n      <td>...</td>\n      <td>POLYGON ((-71.252979 46.9156699,-71.2635805 46...</td>\n      <td>https://mcgill.sharepoint.com/:f:/r/sites/mice...</td>\n      <td>this polygon encompasses the entire sewer netw...</td>\n      <td>NaN</td>\n      <td>NaN</td>\n      <td>NaN</td>\n      <td>NaN</td>\n      <td>NaN</td>\n      <td>NaN</td>\n      <td>NaN</td>\n    </tr>\n    <tr>\n      <th>14</th>\n      <td>qc_01_cptp24h_rawww_2021-02-12_1</td>\n      <td>qc_01</td>\n      <td>NaN</td>\n      <td>city_qc</td>\n      <td>NaN</td>\n      <td>2021-02-11 00:00:00</td>\n      <td>2021-02-12 00:00:00</td>\n      <td>rawww</td>\n      <td>cptp24h</td>\n      <td>True</td>\n      <td>...</td>\n      <td>POLYGON ((-71.252979 46.9156699,-71.2635805 46...</td>\n      <td>https://mcgill.sharepoint.com/:f:/r/sites/mice...</td>\n      <td>this polygon encompasses the entire sewer netw...</td>\n      <td>NaN</td>\n      <td>NaN</td>\n      <td>NaN</td>\n      <td>NaN</td>\n      <td>NaN</td>\n      <td>NaN</td>\n      <td>NaN</td>\n    </tr>\n    <tr>\n      <th>32</th>\n      <td>qc_01_cptp24h_rawww_2021-04-14_1</td>\n      <td>qc_01</td>\n      <td>NaN</td>\n      <td>city_qc</td>\n      <td>NaN</td>\n      <td>2021-04-13 00:00:00</td>\n      <td>2021-04-14 00:00:00</td>\n      <td>rawww</td>\n      <td>cptp24h</td>\n      <td>True</td>\n      <td>...</td>\n      <td>POLYGON ((-71.252979 46.9156699,-71.2635805 46...</td>\n      <td>https://mcgill.sharepoint.com/:f:/r/sites/mice...</td>\n      <td>this polygon encompasses the entire sewer netw...</td>\n      <td>NaN</td>\n      <td>NaN</td>\n      <td>NaN</td>\n      <td>NaN</td>\n      <td>NaN</td>\n      <td>NaN</td>\n      <td>NaN</td>\n    </tr>\n    <tr>\n      <th>37</th>\n      <td>qc_01_cptp24h_rawww_2021-01-24_1</td>\n      <td>qc_01</td>\n      <td>NaN</td>\n      <td>city_qc</td>\n      <td>NaN</td>\n      <td>2021-01-23 00:00:00</td>\n      <td>2021-01-24 00:00:00</td>\n      <td>rawww</td>\n      <td>cptp24h</td>\n      <td>True</td>\n      <td>...</td>\n      <td>POLYGON ((-71.252979 46.9156699,-71.2635805 46...</td>\n      <td>https://mcgill.sharepoint.com/:f:/r/sites/mice...</td>\n      <td>this polygon encompasses the entire sewer netw...</td>\n      <td>NaN</td>\n      <td>NaN</td>\n      <td>NaN</td>\n      <td>NaN</td>\n      <td>NaN</td>\n      <td>NaN</td>\n      <td>NaN</td>\n    </tr>\n    <tr>\n      <th>63</th>\n      <td>qc_01_cptp24h_rawww_2021-01-15_1</td>\n      <td>qc_01</td>\n      <td>NaN</td>\n      <td>city_qc</td>\n      <td>NaN</td>\n      <td>2021-01-14 00:00:00</td>\n      <td>2021-01-15 00:00:00</td>\n      <td>rawww</td>\n      <td>cptp24h</td>\n      <td>True</td>\n      <td>...</td>\n      <td>POLYGON ((-71.252979 46.9156699,-71.2635805 46...</td>\n      <td>https://mcgill.sharepoint.com/:f:/r/sites/mice...</td>\n      <td>this polygon encompasses the entire sewer netw...</td>\n      <td>NaN</td>\n      <td>NaN</td>\n      <td>NaN</td>\n      <td>NaN</td>\n      <td>NaN</td>\n      <td>NaN</td>\n      <td>NaN</td>\n    </tr>\n    <tr>\n      <th>...</th>\n      <td>...</td>\n      <td>...</td>\n      <td>...</td>\n      <td>...</td>\n      <td>...</td>\n      <td>...</td>\n      <td>...</td>\n      <td>...</td>\n      <td>...</td>\n      <td>...</td>\n      <td>...</td>\n      <td>...</td>\n      <td>...</td>\n      <td>...</td>\n      <td>...</td>\n      <td>...</td>\n      <td>...</td>\n      <td>...</td>\n      <td>...</td>\n      <td>...</td>\n      <td>...</td>\n    </tr>\n    <tr>\n      <th>2848</th>\n      <td>NaN</td>\n      <td>NaN</td>\n      <td>NaN</td>\n      <td>NaN</td>\n      <td>NaN</td>\n      <td>NaN</td>\n      <td>NaN</td>\n      <td>NaN</td>\n      <td>NaN</td>\n      <td>NaN</td>\n      <td>...</td>\n      <td>NaN</td>\n      <td>NaN</td>\n      <td>NaN</td>\n      <td>inspq_capitale-nationale_conf_report_2021-03-28</td>\n      <td>inspq</td>\n      <td>prov_qc_hlthreg_capitale-nationale</td>\n      <td>2021-03-28</td>\n      <td>NaN</td>\n      <td>NaN</td>\n      <td>114.0</td>\n    </tr>\n    <tr>\n      <th>2864</th>\n      <td>NaN</td>\n      <td>NaN</td>\n      <td>NaN</td>\n      <td>NaN</td>\n      <td>NaN</td>\n      <td>NaN</td>\n      <td>NaN</td>\n      <td>NaN</td>\n      <td>NaN</td>\n      <td>NaN</td>\n      <td>...</td>\n      <td>NaN</td>\n      <td>NaN</td>\n      <td>NaN</td>\n      <td>inspq_capitale-nationale_conf_report_2021-03-01</td>\n      <td>inspq</td>\n      <td>prov_qc_hlthreg_capitale-nationale</td>\n      <td>2021-03-01</td>\n      <td>NaN</td>\n      <td>NaN</td>\n      <td>36.0</td>\n    </tr>\n    <tr>\n      <th>2878</th>\n      <td>NaN</td>\n      <td>NaN</td>\n      <td>NaN</td>\n      <td>NaN</td>\n      <td>NaN</td>\n      <td>NaN</td>\n      <td>NaN</td>\n      <td>NaN</td>\n      <td>NaN</td>\n      <td>NaN</td>\n      <td>...</td>\n      <td>NaN</td>\n      <td>NaN</td>\n      <td>NaN</td>\n      <td>inspq_capitale-nationale_conf_report_2020-12-28</td>\n      <td>inspq</td>\n      <td>prov_qc_hlthreg_capitale-nationale</td>\n      <td>2020-12-28</td>\n      <td>NaN</td>\n      <td>NaN</td>\n      <td>175.0</td>\n    </tr>\n    <tr>\n      <th>2968</th>\n      <td>NaN</td>\n      <td>NaN</td>\n      <td>NaN</td>\n      <td>NaN</td>\n      <td>NaN</td>\n      <td>NaN</td>\n      <td>NaN</td>\n      <td>NaN</td>\n      <td>NaN</td>\n      <td>NaN</td>\n      <td>...</td>\n      <td>NaN</td>\n      <td>NaN</td>\n      <td>NaN</td>\n      <td>inspq_capitale-nationale_conf_report_2021-01-21</td>\n      <td>inspq</td>\n      <td>prov_qc_hlthreg_capitale-nationale</td>\n      <td>2021-01-21</td>\n      <td>NaN</td>\n      <td>NaN</td>\n      <td>79.0</td>\n    </tr>\n    <tr>\n      <th>2989</th>\n      <td>NaN</td>\n      <td>NaN</td>\n      <td>NaN</td>\n      <td>NaN</td>\n      <td>NaN</td>\n      <td>NaN</td>\n      <td>NaN</td>\n      <td>NaN</td>\n      <td>NaN</td>\n      <td>NaN</td>\n      <td>...</td>\n      <td>NaN</td>\n      <td>NaN</td>\n      <td>NaN</td>\n      <td>inspq_capitale-nationale_deaths_report_2021-04-21</td>\n      <td>inspq</td>\n      <td>prov_qc_hlthreg_capitale-nationale</td>\n      <td>2021-04-21</td>\n      <td>NaN</td>\n      <td>1.0</td>\n      <td>NaN</td>\n    </tr>\n  </tbody>\n</table>\n<p>443 rows × 105 columns</p>\n</div>",
      "text/plain": "                         Sample.sampleID Sample.siteID  Sample.instrumentID  \\\n9     qc_01_cptp24h_rawwwww_2021-04-15_1         qc_01                  NaN   \n14      qc_01_cptp24h_rawww_2021-02-12_1         qc_01                  NaN   \n32      qc_01_cptp24h_rawww_2021-04-14_1         qc_01                  NaN   \n37      qc_01_cptp24h_rawww_2021-01-24_1         qc_01                  NaN   \n63      qc_01_cptp24h_rawww_2021-01-15_1         qc_01                  NaN   \n...                                  ...           ...                  ...   \n2848                                 NaN           NaN                  NaN   \n2864                                 NaN           NaN                  NaN   \n2878                                 NaN           NaN                  NaN   \n2968                                 NaN           NaN                  NaN   \n2989                                 NaN           NaN                  NaN   \n\n     Sample.reporterID Sample.dateTime Sample.dateTimeStart  \\\n9              city_qc             NaN  2021-04-14 00:00:00   \n14             city_qc             NaN  2021-02-11 00:00:00   \n32             city_qc             NaN  2021-04-13 00:00:00   \n37             city_qc             NaN  2021-01-23 00:00:00   \n63             city_qc             NaN  2021-01-14 00:00:00   \n...                ...             ...                  ...   \n2848               NaN             NaN                  NaN   \n2864               NaN             NaN                  NaN   \n2878               NaN             NaN                  NaN   \n2968               NaN             NaN                  NaN   \n2989               NaN             NaN                  NaN   \n\n       Sample.dateTimeEnd Sample.type Sample.collection Sample.preTreatment  \\\n9     2021-04-15 00:00:00     rawwwww           cptp24h                True   \n14    2021-02-12 00:00:00       rawww           cptp24h                True   \n32    2021-04-14 00:00:00       rawww           cptp24h                True   \n37    2021-01-24 00:00:00       rawww           cptp24h                True   \n63    2021-01-15 00:00:00       rawww           cptp24h                True   \n...                   ...         ...               ...                 ...   \n2848                  NaN         NaN               NaN                 NaN   \n2864                  NaN         NaN               NaN                 NaN   \n2878                  NaN         NaN               NaN                 NaN   \n2968                  NaN         NaN               NaN                 NaN   \n2989                  NaN         NaN               NaN                 NaN   \n\n      ...                              Sewershed.Polygon.wkt  \\\n9     ...  POLYGON ((-71.252979 46.9156699,-71.2635805 46...   \n14    ...  POLYGON ((-71.252979 46.9156699,-71.2635805 46...   \n32    ...  POLYGON ((-71.252979 46.9156699,-71.2635805 46...   \n37    ...  POLYGON ((-71.252979 46.9156699,-71.2635805 46...   \n63    ...  POLYGON ((-71.252979 46.9156699,-71.2635805 46...   \n...   ...                                                ...   \n2848  ...                                                NaN   \n2864  ...                                                NaN   \n2878  ...                                                NaN   \n2968  ...                                                NaN   \n2989  ...                                                NaN   \n\n                                 Sewershed.Polygon.link  \\\n9     https://mcgill.sharepoint.com/:f:/r/sites/mice...   \n14    https://mcgill.sharepoint.com/:f:/r/sites/mice...   \n32    https://mcgill.sharepoint.com/:f:/r/sites/mice...   \n37    https://mcgill.sharepoint.com/:f:/r/sites/mice...   \n63    https://mcgill.sharepoint.com/:f:/r/sites/mice...   \n...                                                 ...   \n2848                                                NaN   \n2864                                                NaN   \n2878                                                NaN   \n2968                                                NaN   \n2989                                                NaN   \n\n                                Sewershed.Polygon.notes  \\\n9     this polygon encompasses the entire sewer netw...   \n14    this polygon encompasses the entire sewer netw...   \n32    this polygon encompasses the entire sewer netw...   \n37    this polygon encompasses the entire sewer netw...   \n63    this polygon encompasses the entire sewer netw...   \n...                                                 ...   \n2848                                                NaN   \n2864                                                NaN   \n2878                                                NaN   \n2968                                                NaN   \n2989                                                NaN   \n\n                                            CPHD.cphdID  CPHD.reporterID  \\\n9                                                   NaN              NaN   \n14                                                  NaN              NaN   \n32                                                  NaN              NaN   \n37                                                  NaN              NaN   \n63                                                  NaN              NaN   \n...                                                 ...              ...   \n2848    inspq_capitale-nationale_conf_report_2021-03-28            inspq   \n2864    inspq_capitale-nationale_conf_report_2021-03-01            inspq   \n2878    inspq_capitale-nationale_conf_report_2020-12-28            inspq   \n2968    inspq_capitale-nationale_conf_report_2021-01-21            inspq   \n2989  inspq_capitale-nationale_deaths_report_2021-04-21            inspq   \n\n                          CPHD.polygonID   CPHD.date  CPHD.notes  \\\n9                                    NaN         NaN         NaN   \n14                                   NaN         NaN         NaN   \n32                                   NaN         NaN         NaN   \n37                                   NaN         NaN         NaN   \n63                                   NaN         NaN         NaN   \n...                                  ...         ...         ...   \n2848  prov_qc_hlthreg_capitale-nationale  2021-03-28         NaN   \n2864  prov_qc_hlthreg_capitale-nationale  2021-03-01         NaN   \n2878  prov_qc_hlthreg_capitale-nationale  2020-12-28         NaN   \n2968  prov_qc_hlthreg_capitale-nationale  2021-01-21         NaN   \n2989  prov_qc_hlthreg_capitale-nationale  2021-04-21         NaN   \n\n     CPHD.death_report_value CPHD.conf_report_value  \n9                        NaN                    NaN  \n14                       NaN                    NaN  \n32                       NaN                    NaN  \n37                       NaN                    NaN  \n63                       NaN                    NaN  \n...                      ...                    ...  \n2848                     NaN                  114.0  \n2864                     NaN                   36.0  \n2878                     NaN                  175.0  \n2968                     NaN                   79.0  \n2989                     1.0                    NaN  \n\n[443 rows x 105 columns]"
     },
     "execution_count": 56,
     "metadata": {},
     "output_type": "execute_result"
    }
   ],
   "source": []
  },
  {
   "cell_type": "code",
   "execution_count": null,
   "metadata": {},
   "outputs": [],
   "source": []
  },
  {
   "cell_type": "code",
   "execution_count": 43,
   "metadata": {},
   "outputs": [
    {
     "name": "stdout",
     "output_type": "stream",
     "text": [
      "qc_01_swrcat prov_qc_hlthreg_capitale-nationale\n"
     ]
    }
   ],
   "source": []
  },
  {
   "cell_type": "code",
   "execution_count": 8,
   "metadata": {},
   "outputs": [
    {
     "data": {
      "text/plain": "2927"
     },
     "execution_count": 8,
     "metadata": {},
     "output_type": "execute_result"
    }
   ],
   "source": [
    "len(df)"
   ]
  },
  {
   "cell_type": "markdown",
   "metadata": {},
   "source": []
  },
  {
   "cell_type": "code",
   "execution_count": 15,
   "metadata": {},
   "outputs": [
    {
     "name": "stdout",
     "output_type": "stream",
     "text": [
      "1409\n",
      "1360\n",
      "1015\n",
      "1130\n"
     ]
    }
   ],
   "source": []
  },
  {
   "cell_type": "code",
   "execution_count": 19,
   "metadata": {},
   "outputs": [
    {
     "data": {
      "text/html": "<div>\n<style scoped>\n    .dataframe tbody tr th:only-of-type {\n        vertical-align: middle;\n    }\n\n    .dataframe tbody tr th {\n        vertical-align: top;\n    }\n\n    .dataframe thead th {\n        text-align: right;\n    }\n</style>\n<table border=\"1\" class=\"dataframe\">\n  <thead>\n    <tr style=\"text-align: right;\">\n      <th></th>\n      <th>Calculated.plotDate</th>\n      <th>SiteMeasure.dateTime</th>\n    </tr>\n  </thead>\n  <tbody>\n    <tr>\n      <th>294</th>\n      <td>2021-04-05 12:00:00</td>\n      <td>2021-04-05 03:50:00</td>\n    </tr>\n    <tr>\n      <th>295</th>\n      <td>2021-04-05 12:00:00</td>\n      <td>2021-04-05 00:20:00</td>\n    </tr>\n    <tr>\n      <th>296</th>\n      <td>2021-04-05 12:00:00</td>\n      <td>2021-04-05 06:35:00</td>\n    </tr>\n    <tr>\n      <th>297</th>\n      <td>2021-04-05 12:00:00</td>\n      <td>2021-04-05 09:05:00</td>\n    </tr>\n    <tr>\n      <th>298</th>\n      <td>2021-04-05 12:00:00</td>\n      <td>2021-04-05 12:55:00</td>\n    </tr>\n    <tr>\n      <th>...</th>\n      <td>...</td>\n      <td>...</td>\n    </tr>\n    <tr>\n      <th>2053</th>\n      <td>2021-04-08 12:00:00</td>\n      <td>2021-04-08 05:00:00</td>\n    </tr>\n    <tr>\n      <th>2056</th>\n      <td>2021-04-08 12:00:00</td>\n      <td>2021-04-08 12:30:00</td>\n    </tr>\n    <tr>\n      <th>2057</th>\n      <td>2021-04-06 12:00:00</td>\n      <td>2021-04-06 12:30:00</td>\n    </tr>\n    <tr>\n      <th>2058</th>\n      <td>2021-04-15 12:00:00</td>\n      <td>2021-04-15 11:10:00</td>\n    </tr>\n    <tr>\n      <th>2059</th>\n      <td>2021-04-27 10:00:00</td>\n      <td>2021-04-27 02:05:00</td>\n    </tr>\n  </tbody>\n</table>\n<p>460 rows × 2 columns</p>\n</div>",
      "text/plain": "      Calculated.plotDate SiteMeasure.dateTime\n294   2021-04-05 12:00:00  2021-04-05 03:50:00\n295   2021-04-05 12:00:00  2021-04-05 00:20:00\n296   2021-04-05 12:00:00  2021-04-05 06:35:00\n297   2021-04-05 12:00:00  2021-04-05 09:05:00\n298   2021-04-05 12:00:00  2021-04-05 12:55:00\n...                   ...                  ...\n2053  2021-04-08 12:00:00  2021-04-08 05:00:00\n2056  2021-04-08 12:00:00  2021-04-08 12:30:00\n2057  2021-04-06 12:00:00  2021-04-06 12:30:00\n2058  2021-04-15 12:00:00  2021-04-15 11:10:00\n2059  2021-04-27 10:00:00  2021-04-27 02:05:00\n\n[460 rows x 2 columns]"
     },
     "execution_count": 19,
     "metadata": {},
     "output_type": "execute_result"
    }
   ],
   "source": [
    "df.dropna(subset=[\"Calculated.plotDate\", \"SiteMeasure.dateTime\"])[[\"Calculated.plotDate\", \"SiteMeasure.dateTime\"]]"
   ]
  },
  {
   "cell_type": "code",
   "execution_count": null,
   "metadata": {},
   "outputs": [],
   "source": [
    "def build_dataset_for_site()"
   ]
  }
 ],
 "metadata": {
  "kernelspec": {
   "display_name": "Python 3.9.2 64-bit ('covid': conda)",
   "name": "python392jvsc74a57bd0fff2645691be52a4acf54b6569930c06fb1b99dce13069d7478dfbb615d05851"
  },
  "language_info": {
   "codemirror_mode": {
    "name": "ipython",
    "version": 3
   },
   "file_extension": ".py",
   "mimetype": "text/x-python",
   "name": "python",
   "nbconvert_exporter": "python",
   "pygments_lexer": "ipython3",
   "version": "3.9.2"
  },
  "orig_nbformat": 2
 },
 "nbformat": 4,
 "nbformat_minor": 2
}